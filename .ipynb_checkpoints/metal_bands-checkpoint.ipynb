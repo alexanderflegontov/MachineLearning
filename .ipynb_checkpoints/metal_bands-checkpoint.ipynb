{
 "cells": [
  {
   "cell_type": "markdown",
   "metadata": {},
   "source": [
    "# Metal Bands by Nation"
   ]
  },
  {
   "cell_type": "markdown",
   "metadata": {},
   "source": [
    "band_name - название музыкальной группы"
   ]
  },
  {
   "cell_type": "markdown",
   "metadata": {},
   "source": [
    "fans - количество фанатов"
   ]
  },
  {
   "cell_type": "markdown",
   "metadata": {},
   "source": [
    "formed \t  - год формирования группы"
   ]
  },
  {
   "cell_type": "markdown",
   "metadata": {},
   "source": [
    "origin    - страна"
   ]
  },
  {
   "cell_type": "markdown",
   "metadata": {},
   "source": [
    "split     - год распада группы"
   ]
  },
  {
   "cell_type": "markdown",
   "metadata": {},
   "source": [
    "style     - стиль группы"
   ]
  },
  {
   "cell_type": "markdown",
   "metadata": {},
   "source": [
    "#### Подключаем нужные библиотеки"
   ]
  },
  {
   "cell_type": "code",
   "execution_count": 1,
   "metadata": {
    "collapsed": true
   },
   "outputs": [],
   "source": [
    "import numpy as np\n",
    "import matplotlib.pyplot as plt\n",
    "import pandas as pd\n",
    "%matplotlib inline"
   ]
  },
  {
   "cell_type": "markdown",
   "metadata": {},
   "source": [
    "#### Находим и считываем наши данные"
   ]
  },
  {
   "cell_type": "code",
   "execution_count": 2,
   "metadata": {
    "collapsed": true
   },
   "outputs": [],
   "source": [
    "data = pd.read_csv('metal_bands_2017.csv', encoding='windows-1252', na_values='-',sep = ',',index_col=0, engine = 'python')"
   ]
  },
  {
   "cell_type": "markdown",
   "metadata": {},
   "source": [
    "#### Посмотрим на них"
   ]
  },
  {
   "cell_type": "code",
   "execution_count": 3,
   "metadata": {
    "scrolled": true
   },
   "outputs": [
    {
     "data": {
      "text/html": [
       "<div>\n",
       "<style>\n",
       "    .dataframe thead tr:only-child th {\n",
       "        text-align: right;\n",
       "    }\n",
       "\n",
       "    .dataframe thead th {\n",
       "        text-align: left;\n",
       "    }\n",
       "\n",
       "    .dataframe tbody tr th {\n",
       "        vertical-align: top;\n",
       "    }\n",
       "</style>\n",
       "<table border=\"1\" class=\"dataframe\">\n",
       "  <thead>\n",
       "    <tr style=\"text-align: right;\">\n",
       "      <th></th>\n",
       "      <th>band_name</th>\n",
       "      <th>fans</th>\n",
       "      <th>formed</th>\n",
       "      <th>origin</th>\n",
       "      <th>split</th>\n",
       "      <th>style</th>\n",
       "    </tr>\n",
       "  </thead>\n",
       "  <tbody>\n",
       "    <tr>\n",
       "      <th>0</th>\n",
       "      <td>Iron Maiden</td>\n",
       "      <td>4195</td>\n",
       "      <td>1975.0</td>\n",
       "      <td>United Kingdom</td>\n",
       "      <td>NaN</td>\n",
       "      <td>New wave of british heavy,Heavy</td>\n",
       "    </tr>\n",
       "    <tr>\n",
       "      <th>1</th>\n",
       "      <td>Opeth</td>\n",
       "      <td>4147</td>\n",
       "      <td>1990.0</td>\n",
       "      <td>Sweden</td>\n",
       "      <td>1990.0</td>\n",
       "      <td>Extreme progressive,Progressive rock,Progressive</td>\n",
       "    </tr>\n",
       "    <tr>\n",
       "      <th>2</th>\n",
       "      <td>Metallica</td>\n",
       "      <td>3712</td>\n",
       "      <td>1981.0</td>\n",
       "      <td>USA</td>\n",
       "      <td>NaN</td>\n",
       "      <td>Heavy,Bay area thrash</td>\n",
       "    </tr>\n",
       "    <tr>\n",
       "      <th>3</th>\n",
       "      <td>Megadeth</td>\n",
       "      <td>3105</td>\n",
       "      <td>1983.0</td>\n",
       "      <td>USA</td>\n",
       "      <td>1983.0</td>\n",
       "      <td>Thrash,Heavy,Hard rock</td>\n",
       "    </tr>\n",
       "    <tr>\n",
       "      <th>4</th>\n",
       "      <td>Amon Amarth</td>\n",
       "      <td>3054</td>\n",
       "      <td>1988.0</td>\n",
       "      <td>Sweden</td>\n",
       "      <td>NaN</td>\n",
       "      <td>Melodic death</td>\n",
       "    </tr>\n",
       "    <tr>\n",
       "      <th>5</th>\n",
       "      <td>Slayer</td>\n",
       "      <td>2955</td>\n",
       "      <td>1981.0</td>\n",
       "      <td>USA</td>\n",
       "      <td>1981.0</td>\n",
       "      <td>Thrash</td>\n",
       "    </tr>\n",
       "    <tr>\n",
       "      <th>6</th>\n",
       "      <td>Death</td>\n",
       "      <td>2690</td>\n",
       "      <td>1983.0</td>\n",
       "      <td>USA</td>\n",
       "      <td>2001.0</td>\n",
       "      <td>Progressive death,Death,Progressive thrash</td>\n",
       "    </tr>\n",
       "    <tr>\n",
       "      <th>7</th>\n",
       "      <td>Dream Theater</td>\n",
       "      <td>2329</td>\n",
       "      <td>1985.0</td>\n",
       "      <td>USA</td>\n",
       "      <td>1985.0</td>\n",
       "      <td>Progressive</td>\n",
       "    </tr>\n",
       "    <tr>\n",
       "      <th>8</th>\n",
       "      <td>Black Sabbath</td>\n",
       "      <td>2307</td>\n",
       "      <td>1968.0</td>\n",
       "      <td>United Kingdom</td>\n",
       "      <td>NaN</td>\n",
       "      <td>Doom,Heavy,Hard rock</td>\n",
       "    </tr>\n",
       "    <tr>\n",
       "      <th>9</th>\n",
       "      <td>Nightwish</td>\n",
       "      <td>2183</td>\n",
       "      <td>1996.0</td>\n",
       "      <td>Finland</td>\n",
       "      <td>1996.0</td>\n",
       "      <td>Symphonic power,Gothic,Symphonic</td>\n",
       "    </tr>\n",
       "    <tr>\n",
       "      <th>10</th>\n",
       "      <td>Children Of Bodom</td>\n",
       "      <td>2153</td>\n",
       "      <td>1993.0</td>\n",
       "      <td>Finland</td>\n",
       "      <td>NaN</td>\n",
       "      <td>Extreme power</td>\n",
       "    </tr>\n",
       "    <tr>\n",
       "      <th>11</th>\n",
       "      <td>Judas Priest</td>\n",
       "      <td>2094</td>\n",
       "      <td>1969.0</td>\n",
       "      <td>United Kingdom</td>\n",
       "      <td>1969.0</td>\n",
       "      <td>Heavy,Hard rock</td>\n",
       "    </tr>\n",
       "    <tr>\n",
       "      <th>12</th>\n",
       "      <td>Blind Guardian</td>\n",
       "      <td>2040</td>\n",
       "      <td>1984.0</td>\n",
       "      <td>Germany</td>\n",
       "      <td>NaN</td>\n",
       "      <td>Power,Speed</td>\n",
       "    </tr>\n",
       "    <tr>\n",
       "      <th>13</th>\n",
       "      <td>In Flames</td>\n",
       "      <td>1932</td>\n",
       "      <td>1990.0</td>\n",
       "      <td>Sweden</td>\n",
       "      <td>1990.0</td>\n",
       "      <td>Gothenburg,Alternative</td>\n",
       "    </tr>\n",
       "    <tr>\n",
       "      <th>14</th>\n",
       "      <td>Pantera</td>\n",
       "      <td>1920</td>\n",
       "      <td>1981.0</td>\n",
       "      <td>USA</td>\n",
       "      <td>2003.0</td>\n",
       "      <td>Heavy,Groove thrash,Groove metal</td>\n",
       "    </tr>\n",
       "    <tr>\n",
       "      <th>15</th>\n",
       "      <td>Dark Tranquillity</td>\n",
       "      <td>1898</td>\n",
       "      <td>1989.0</td>\n",
       "      <td>Sweden</td>\n",
       "      <td>1989.0</td>\n",
       "      <td>Gothenburg</td>\n",
       "    </tr>\n",
       "    <tr>\n",
       "      <th>16</th>\n",
       "      <td>Agalloch</td>\n",
       "      <td>1881</td>\n",
       "      <td>1995.0</td>\n",
       "      <td>USA</td>\n",
       "      <td>2016.0</td>\n",
       "      <td>Atmospheric black,Neofolk</td>\n",
       "    </tr>\n",
       "    <tr>\n",
       "      <th>17</th>\n",
       "      <td>Ensiferum</td>\n",
       "      <td>1879</td>\n",
       "      <td>1995.0</td>\n",
       "      <td>Finland</td>\n",
       "      <td>1995.0</td>\n",
       "      <td>Extreme folk</td>\n",
       "    </tr>\n",
       "    <tr>\n",
       "      <th>18</th>\n",
       "      <td>Arch Enemy</td>\n",
       "      <td>1750</td>\n",
       "      <td>1996.0</td>\n",
       "      <td>Sweden</td>\n",
       "      <td>NaN</td>\n",
       "      <td>Gothenburg</td>\n",
       "    </tr>\n",
       "    <tr>\n",
       "      <th>19</th>\n",
       "      <td>Katatonia</td>\n",
       "      <td>1735</td>\n",
       "      <td>1991.0</td>\n",
       "      <td>Sweden</td>\n",
       "      <td>1991.0</td>\n",
       "      <td>Blackened doom,Death doom,Alternative rock,Got...</td>\n",
       "    </tr>\n",
       "    <tr>\n",
       "      <th>20</th>\n",
       "      <td>Behemoth</td>\n",
       "      <td>1721</td>\n",
       "      <td>1991.0</td>\n",
       "      <td>Poland</td>\n",
       "      <td>NaN</td>\n",
       "      <td>Death,Black,Blackened death</td>\n",
       "    </tr>\n",
       "    <tr>\n",
       "      <th>21</th>\n",
       "      <td>Dimmu Borgir</td>\n",
       "      <td>1688</td>\n",
       "      <td>1993.0</td>\n",
       "      <td>Norway</td>\n",
       "      <td>1993.0</td>\n",
       "      <td>Symphonic black,Black</td>\n",
       "    </tr>\n",
       "    <tr>\n",
       "      <th>22</th>\n",
       "      <td>Kreator</td>\n",
       "      <td>1646</td>\n",
       "      <td>1982.0</td>\n",
       "      <td>Germany</td>\n",
       "      <td>NaN</td>\n",
       "      <td>Teutonic thrash</td>\n",
       "    </tr>\n",
       "    <tr>\n",
       "      <th>23</th>\n",
       "      <td>Wintersun</td>\n",
       "      <td>1640</td>\n",
       "      <td>2004.0</td>\n",
       "      <td>Finland</td>\n",
       "      <td>2004.0</td>\n",
       "      <td>Extreme power</td>\n",
       "    </tr>\n",
       "    <tr>\n",
       "      <th>24</th>\n",
       "      <td>Insomnium</td>\n",
       "      <td>1547</td>\n",
       "      <td>1997.0</td>\n",
       "      <td>Finland</td>\n",
       "      <td>NaN</td>\n",
       "      <td>Melodic death</td>\n",
       "    </tr>\n",
       "    <tr>\n",
       "      <th>25</th>\n",
       "      <td>Amorphis</td>\n",
       "      <td>1528</td>\n",
       "      <td>1990.0</td>\n",
       "      <td>Finland</td>\n",
       "      <td>1990.0</td>\n",
       "      <td>Death,Melodic death,Folk,Progressive</td>\n",
       "    </tr>\n",
       "    <tr>\n",
       "      <th>26</th>\n",
       "      <td>Kamelot</td>\n",
       "      <td>1520</td>\n",
       "      <td>1991.0</td>\n",
       "      <td>USA</td>\n",
       "      <td>NaN</td>\n",
       "      <td>Symphonic power</td>\n",
       "    </tr>\n",
       "    <tr>\n",
       "      <th>27</th>\n",
       "      <td>Tool</td>\n",
       "      <td>1506</td>\n",
       "      <td>1988.0</td>\n",
       "      <td>USA</td>\n",
       "      <td>1988.0</td>\n",
       "      <td>Progressive,Alternative</td>\n",
       "    </tr>\n",
       "    <tr>\n",
       "      <th>28</th>\n",
       "      <td>Helloween</td>\n",
       "      <td>1501</td>\n",
       "      <td>1978.0</td>\n",
       "      <td>Germany</td>\n",
       "      <td>NaN</td>\n",
       "      <td>Speed,Power</td>\n",
       "    </tr>\n",
       "    <tr>\n",
       "      <th>29</th>\n",
       "      <td>Testament</td>\n",
       "      <td>1500</td>\n",
       "      <td>1983.0</td>\n",
       "      <td>USA</td>\n",
       "      <td>1983.0</td>\n",
       "      <td>Bay area thrash</td>\n",
       "    </tr>\n",
       "    <tr>\n",
       "      <th>...</th>\n",
       "      <td>...</td>\n",
       "      <td>...</td>\n",
       "      <td>...</td>\n",
       "      <td>...</td>\n",
       "      <td>...</td>\n",
       "      <td>...</td>\n",
       "    </tr>\n",
       "    <tr>\n",
       "      <th>4970</th>\n",
       "      <td>Your Chance To Die</td>\n",
       "      <td>1</td>\n",
       "      <td>2007.0</td>\n",
       "      <td>USA</td>\n",
       "      <td>NaN</td>\n",
       "      <td>Melodic death,Metalcore</td>\n",
       "    </tr>\n",
       "    <tr>\n",
       "      <th>4971</th>\n",
       "      <td>Your Tomorrow Alone</td>\n",
       "      <td>1</td>\n",
       "      <td>2009.0</td>\n",
       "      <td>Italy</td>\n",
       "      <td>2009.0</td>\n",
       "      <td>Progressive doom,Gothic</td>\n",
       "    </tr>\n",
       "    <tr>\n",
       "      <th>4972</th>\n",
       "      <td>?rec</td>\n",
       "      <td>1</td>\n",
       "      <td>2004.0</td>\n",
       "      <td>Czech Republic</td>\n",
       "      <td>NaN</td>\n",
       "      <td>Pagan folk</td>\n",
       "    </tr>\n",
       "    <tr>\n",
       "      <th>4973</th>\n",
       "      <td>Ömheten</td>\n",
       "      <td>0</td>\n",
       "      <td>2012.0</td>\n",
       "      <td>Sweden</td>\n",
       "      <td>2012.0</td>\n",
       "      <td>Depressive black</td>\n",
       "    </tr>\n",
       "    <tr>\n",
       "      <th>4974</th>\n",
       "      <td>(In)Trance</td>\n",
       "      <td>0</td>\n",
       "      <td>2009.0</td>\n",
       "      <td>Russia</td>\n",
       "      <td>NaN</td>\n",
       "      <td>Gothic</td>\n",
       "    </tr>\n",
       "    <tr>\n",
       "      <th>4975</th>\n",
       "      <td>6th Dimension</td>\n",
       "      <td>0</td>\n",
       "      <td>2008.0</td>\n",
       "      <td>Cyprus</td>\n",
       "      <td>2008.0</td>\n",
       "      <td>Alternative,Progressive</td>\n",
       "    </tr>\n",
       "    <tr>\n",
       "      <th>4976</th>\n",
       "      <td>9.7 Richter</td>\n",
       "      <td>0</td>\n",
       "      <td>2006.0</td>\n",
       "      <td>Romania</td>\n",
       "      <td>NaN</td>\n",
       "      <td>Heavy</td>\n",
       "    </tr>\n",
       "    <tr>\n",
       "      <th>4977</th>\n",
       "      <td>A Lower Deep</td>\n",
       "      <td>0</td>\n",
       "      <td>2000.0</td>\n",
       "      <td>USA</td>\n",
       "      <td>2000.0</td>\n",
       "      <td>Progressive,Thrash,Power</td>\n",
       "    </tr>\n",
       "    <tr>\n",
       "      <th>4978</th>\n",
       "      <td>Absence Of The Sacred</td>\n",
       "      <td>0</td>\n",
       "      <td>2005.0</td>\n",
       "      <td>Singapore</td>\n",
       "      <td>NaN</td>\n",
       "      <td>Progressive death,Thrash</td>\n",
       "    </tr>\n",
       "    <tr>\n",
       "      <th>4979</th>\n",
       "      <td>Ace Of Hearts</td>\n",
       "      <td>0</td>\n",
       "      <td>2008.0</td>\n",
       "      <td>United Kingdom</td>\n",
       "      <td>2008.0</td>\n",
       "      <td>Gothic,Hard rock</td>\n",
       "    </tr>\n",
       "    <tr>\n",
       "      <th>4980</th>\n",
       "      <td>Aeturnus Dominion</td>\n",
       "      <td>0</td>\n",
       "      <td>2003.0</td>\n",
       "      <td>Australia</td>\n",
       "      <td>NaN</td>\n",
       "      <td>Death</td>\n",
       "    </tr>\n",
       "    <tr>\n",
       "      <th>4981</th>\n",
       "      <td>Algy Ward's Tank</td>\n",
       "      <td>0</td>\n",
       "      <td>2007.0</td>\n",
       "      <td>United Kingdom</td>\n",
       "      <td>2007.0</td>\n",
       "      <td>Heavy</td>\n",
       "    </tr>\n",
       "    <tr>\n",
       "      <th>4982</th>\n",
       "      <td>Altars Of Grief</td>\n",
       "      <td>0</td>\n",
       "      <td>2013.0</td>\n",
       "      <td>Canada</td>\n",
       "      <td>NaN</td>\n",
       "      <td>Funeral doom,Death doom,Atmospheric doom</td>\n",
       "    </tr>\n",
       "    <tr>\n",
       "      <th>4983</th>\n",
       "      <td>Anatomia</td>\n",
       "      <td>0</td>\n",
       "      <td>2002.0</td>\n",
       "      <td>Japan</td>\n",
       "      <td>2002.0</td>\n",
       "      <td>Death,Doom</td>\n",
       "    </tr>\n",
       "    <tr>\n",
       "      <th>4984</th>\n",
       "      <td>Anger As Art</td>\n",
       "      <td>0</td>\n",
       "      <td>2004.0</td>\n",
       "      <td>USA</td>\n",
       "      <td>NaN</td>\n",
       "      <td>Thrash</td>\n",
       "    </tr>\n",
       "    <tr>\n",
       "      <th>4985</th>\n",
       "      <td>Angist</td>\n",
       "      <td>0</td>\n",
       "      <td>2009.0</td>\n",
       "      <td>Iceland</td>\n",
       "      <td>2009.0</td>\n",
       "      <td>Death</td>\n",
       "    </tr>\n",
       "    <tr>\n",
       "      <th>4986</th>\n",
       "      <td>Anmod</td>\n",
       "      <td>0</td>\n",
       "      <td>2005.0</td>\n",
       "      <td>Brazil</td>\n",
       "      <td>NaN</td>\n",
       "      <td>Brutal death</td>\n",
       "    </tr>\n",
       "    <tr>\n",
       "      <th>4987</th>\n",
       "      <td>Apokalyptic Raids</td>\n",
       "      <td>0</td>\n",
       "      <td>1997.0</td>\n",
       "      <td>Brazil</td>\n",
       "      <td>1997.0</td>\n",
       "      <td>Black</td>\n",
       "    </tr>\n",
       "    <tr>\n",
       "      <th>4988</th>\n",
       "      <td>Apothesary</td>\n",
       "      <td>0</td>\n",
       "      <td>2009.0</td>\n",
       "      <td>USA</td>\n",
       "      <td>NaN</td>\n",
       "      <td>Thrash,Melodic death</td>\n",
       "    </tr>\n",
       "    <tr>\n",
       "      <th>4989</th>\n",
       "      <td>Apparatus</td>\n",
       "      <td>0</td>\n",
       "      <td>2012.0</td>\n",
       "      <td>Denmark</td>\n",
       "      <td>2012.0</td>\n",
       "      <td>Blackened death</td>\n",
       "    </tr>\n",
       "    <tr>\n",
       "      <th>4990</th>\n",
       "      <td>Arctic Spirits</td>\n",
       "      <td>0</td>\n",
       "      <td>2003.0</td>\n",
       "      <td>Greenland</td>\n",
       "      <td>NaN</td>\n",
       "      <td>Heavy,Hard rock</td>\n",
       "    </tr>\n",
       "    <tr>\n",
       "      <th>4991</th>\n",
       "      <td>Argus (Ro)</td>\n",
       "      <td>0</td>\n",
       "      <td>1996.0</td>\n",
       "      <td>Romania</td>\n",
       "      <td>1996.0</td>\n",
       "      <td>Black</td>\n",
       "    </tr>\n",
       "    <tr>\n",
       "      <th>4992</th>\n",
       "      <td>Arrest</td>\n",
       "      <td>0</td>\n",
       "      <td>1992.0</td>\n",
       "      <td>Germany</td>\n",
       "      <td>NaN</td>\n",
       "      <td>Hard rock,Heavy</td>\n",
       "    </tr>\n",
       "    <tr>\n",
       "      <th>4993</th>\n",
       "      <td>As I Lay Dying (AUT)</td>\n",
       "      <td>0</td>\n",
       "      <td>1991.0</td>\n",
       "      <td>Austria</td>\n",
       "      <td>1991.0</td>\n",
       "      <td>Death,Melodic doom</td>\n",
       "    </tr>\n",
       "    <tr>\n",
       "      <th>4994</th>\n",
       "      <td>Asofy</td>\n",
       "      <td>0</td>\n",
       "      <td>2000.0</td>\n",
       "      <td>Italy</td>\n",
       "      <td>NaN</td>\n",
       "      <td>Black,Doom</td>\n",
       "    </tr>\n",
       "    <tr>\n",
       "      <th>4995</th>\n",
       "      <td>Atara</td>\n",
       "      <td>0</td>\n",
       "      <td>2006.0</td>\n",
       "      <td>France</td>\n",
       "      <td>2006.0</td>\n",
       "      <td>Black,Grindcore</td>\n",
       "    </tr>\n",
       "    <tr>\n",
       "      <th>4996</th>\n",
       "      <td>Avicularia</td>\n",
       "      <td>0</td>\n",
       "      <td>2003.0</td>\n",
       "      <td>Croatia</td>\n",
       "      <td>NaN</td>\n",
       "      <td>Avantgarde death</td>\n",
       "    </tr>\n",
       "    <tr>\n",
       "      <th>4997</th>\n",
       "      <td>Awake</td>\n",
       "      <td>0</td>\n",
       "      <td>2006.0</td>\n",
       "      <td>United Kingdom</td>\n",
       "      <td>2006.0</td>\n",
       "      <td>Heavy,Progressive</td>\n",
       "    </tr>\n",
       "    <tr>\n",
       "      <th>4998</th>\n",
       "      <td>Axatak</td>\n",
       "      <td>0</td>\n",
       "      <td>1983.0</td>\n",
       "      <td>Australia</td>\n",
       "      <td>1988.0</td>\n",
       "      <td>Hard rock,Heavy</td>\n",
       "    </tr>\n",
       "    <tr>\n",
       "      <th>4999</th>\n",
       "      <td>Axis Of Despair</td>\n",
       "      <td>0</td>\n",
       "      <td>2014.0</td>\n",
       "      <td>Sweden</td>\n",
       "      <td>2014.0</td>\n",
       "      <td>Grindcore</td>\n",
       "    </tr>\n",
       "  </tbody>\n",
       "</table>\n",
       "<p>5000 rows × 6 columns</p>\n",
       "</div>"
      ],
      "text/plain": [
       "                  band_name  fans  formed          origin   split  \\\n",
       "0               Iron Maiden  4195  1975.0  United Kingdom     NaN   \n",
       "1                     Opeth  4147  1990.0          Sweden  1990.0   \n",
       "2                 Metallica  3712  1981.0             USA     NaN   \n",
       "3                  Megadeth  3105  1983.0             USA  1983.0   \n",
       "4               Amon Amarth  3054  1988.0          Sweden     NaN   \n",
       "5                    Slayer  2955  1981.0             USA  1981.0   \n",
       "6                     Death  2690  1983.0             USA  2001.0   \n",
       "7             Dream Theater  2329  1985.0             USA  1985.0   \n",
       "8             Black Sabbath  2307  1968.0  United Kingdom     NaN   \n",
       "9                 Nightwish  2183  1996.0         Finland  1996.0   \n",
       "10        Children Of Bodom  2153  1993.0         Finland     NaN   \n",
       "11             Judas Priest  2094  1969.0  United Kingdom  1969.0   \n",
       "12           Blind Guardian  2040  1984.0         Germany     NaN   \n",
       "13                In Flames  1932  1990.0          Sweden  1990.0   \n",
       "14                  Pantera  1920  1981.0             USA  2003.0   \n",
       "15        Dark Tranquillity  1898  1989.0          Sweden  1989.0   \n",
       "16                 Agalloch  1881  1995.0             USA  2016.0   \n",
       "17                Ensiferum  1879  1995.0         Finland  1995.0   \n",
       "18               Arch Enemy  1750  1996.0          Sweden     NaN   \n",
       "19                Katatonia  1735  1991.0          Sweden  1991.0   \n",
       "20                 Behemoth  1721  1991.0          Poland     NaN   \n",
       "21             Dimmu Borgir  1688  1993.0          Norway  1993.0   \n",
       "22                  Kreator  1646  1982.0         Germany     NaN   \n",
       "23                Wintersun  1640  2004.0         Finland  2004.0   \n",
       "24                Insomnium  1547  1997.0         Finland     NaN   \n",
       "25                 Amorphis  1528  1990.0         Finland  1990.0   \n",
       "26                  Kamelot  1520  1991.0             USA     NaN   \n",
       "27                     Tool  1506  1988.0             USA  1988.0   \n",
       "28                Helloween  1501  1978.0         Germany     NaN   \n",
       "29                Testament  1500  1983.0             USA  1983.0   \n",
       "...                     ...   ...     ...             ...     ...   \n",
       "4970     Your Chance To Die     1  2007.0             USA     NaN   \n",
       "4971    Your Tomorrow Alone     1  2009.0           Italy  2009.0   \n",
       "4972                   ?rec     1  2004.0  Czech Republic     NaN   \n",
       "4973                Ömheten     0  2012.0          Sweden  2012.0   \n",
       "4974             (In)Trance     0  2009.0          Russia     NaN   \n",
       "4975          6th Dimension     0  2008.0          Cyprus  2008.0   \n",
       "4976            9.7 Richter     0  2006.0         Romania     NaN   \n",
       "4977           A Lower Deep     0  2000.0             USA  2000.0   \n",
       "4978  Absence Of The Sacred     0  2005.0       Singapore     NaN   \n",
       "4979          Ace Of Hearts     0  2008.0  United Kingdom  2008.0   \n",
       "4980      Aeturnus Dominion     0  2003.0       Australia     NaN   \n",
       "4981       Algy Ward's Tank     0  2007.0  United Kingdom  2007.0   \n",
       "4982        Altars Of Grief     0  2013.0          Canada     NaN   \n",
       "4983               Anatomia     0  2002.0           Japan  2002.0   \n",
       "4984           Anger As Art     0  2004.0             USA     NaN   \n",
       "4985                 Angist     0  2009.0         Iceland  2009.0   \n",
       "4986                  Anmod     0  2005.0          Brazil     NaN   \n",
       "4987      Apokalyptic Raids     0  1997.0          Brazil  1997.0   \n",
       "4988             Apothesary     0  2009.0             USA     NaN   \n",
       "4989              Apparatus     0  2012.0         Denmark  2012.0   \n",
       "4990         Arctic Spirits     0  2003.0       Greenland     NaN   \n",
       "4991             Argus (Ro)     0  1996.0         Romania  1996.0   \n",
       "4992                 Arrest     0  1992.0         Germany     NaN   \n",
       "4993   As I Lay Dying (AUT)     0  1991.0         Austria  1991.0   \n",
       "4994                  Asofy     0  2000.0           Italy     NaN   \n",
       "4995                  Atara     0  2006.0          France  2006.0   \n",
       "4996             Avicularia     0  2003.0         Croatia     NaN   \n",
       "4997                  Awake     0  2006.0  United Kingdom  2006.0   \n",
       "4998                 Axatak     0  1983.0       Australia  1988.0   \n",
       "4999        Axis Of Despair     0  2014.0          Sweden  2014.0   \n",
       "\n",
       "                                                  style  \n",
       "0                       New wave of british heavy,Heavy  \n",
       "1      Extreme progressive,Progressive rock,Progressive  \n",
       "2                                 Heavy,Bay area thrash  \n",
       "3                                Thrash,Heavy,Hard rock  \n",
       "4                                         Melodic death  \n",
       "5                                                Thrash  \n",
       "6            Progressive death,Death,Progressive thrash  \n",
       "7                                           Progressive  \n",
       "8                                  Doom,Heavy,Hard rock  \n",
       "9                      Symphonic power,Gothic,Symphonic  \n",
       "10                                        Extreme power  \n",
       "11                                      Heavy,Hard rock  \n",
       "12                                          Power,Speed  \n",
       "13                               Gothenburg,Alternative  \n",
       "14                     Heavy,Groove thrash,Groove metal  \n",
       "15                                           Gothenburg  \n",
       "16                            Atmospheric black,Neofolk  \n",
       "17                                         Extreme folk  \n",
       "18                                           Gothenburg  \n",
       "19    Blackened doom,Death doom,Alternative rock,Got...  \n",
       "20                          Death,Black,Blackened death  \n",
       "21                                Symphonic black,Black  \n",
       "22                                      Teutonic thrash  \n",
       "23                                        Extreme power  \n",
       "24                                        Melodic death  \n",
       "25                 Death,Melodic death,Folk,Progressive  \n",
       "26                                      Symphonic power  \n",
       "27                              Progressive,Alternative  \n",
       "28                                          Speed,Power  \n",
       "29                                      Bay area thrash  \n",
       "...                                                 ...  \n",
       "4970                            Melodic death,Metalcore  \n",
       "4971                            Progressive doom,Gothic  \n",
       "4972                                         Pagan folk  \n",
       "4973                                   Depressive black  \n",
       "4974                                             Gothic  \n",
       "4975                            Alternative,Progressive  \n",
       "4976                                              Heavy  \n",
       "4977                           Progressive,Thrash,Power  \n",
       "4978                           Progressive death,Thrash  \n",
       "4979                                   Gothic,Hard rock  \n",
       "4980                                              Death  \n",
       "4981                                              Heavy  \n",
       "4982           Funeral doom,Death doom,Atmospheric doom  \n",
       "4983                                         Death,Doom  \n",
       "4984                                             Thrash  \n",
       "4985                                              Death  \n",
       "4986                                       Brutal death  \n",
       "4987                                              Black  \n",
       "4988                               Thrash,Melodic death  \n",
       "4989                                    Blackened death  \n",
       "4990                                    Heavy,Hard rock  \n",
       "4991                                              Black  \n",
       "4992                                    Hard rock,Heavy  \n",
       "4993                                 Death,Melodic doom  \n",
       "4994                                         Black,Doom  \n",
       "4995                                    Black,Grindcore  \n",
       "4996                                   Avantgarde death  \n",
       "4997                                  Heavy,Progressive  \n",
       "4998                                    Hard rock,Heavy  \n",
       "4999                                          Grindcore  \n",
       "\n",
       "[5000 rows x 6 columns]"
      ]
     },
     "execution_count": 3,
     "metadata": {},
     "output_type": "execute_result"
    }
   ],
   "source": [
    "data"
   ]
  },
  {
   "cell_type": "markdown",
   "metadata": {},
   "source": [
    "#### Посмотрим тип"
   ]
  },
  {
   "cell_type": "code",
   "execution_count": 4,
   "metadata": {},
   "outputs": [
    {
     "data": {
      "text/plain": [
       "pandas.core.frame.DataFrame"
      ]
     },
     "execution_count": 4,
     "metadata": {},
     "output_type": "execute_result"
    }
   ],
   "source": [
    "type(data)"
   ]
  },
  {
   "cell_type": "markdown",
   "metadata": {},
   "source": [
    "#### Посмотрим на данные через print() - стандартная функция python"
   ]
  },
  {
   "cell_type": "code",
   "execution_count": 5,
   "metadata": {},
   "outputs": [
    {
     "name": "stdout",
     "output_type": "stream",
     "text": [
      "                  band_name  fans  formed          origin   split  \\\n",
      "0               Iron Maiden  4195  1975.0  United Kingdom     NaN   \n",
      "1                     Opeth  4147  1990.0          Sweden  1990.0   \n",
      "2                 Metallica  3712  1981.0             USA     NaN   \n",
      "3                  Megadeth  3105  1983.0             USA  1983.0   \n",
      "4               Amon Amarth  3054  1988.0          Sweden     NaN   \n",
      "5                    Slayer  2955  1981.0             USA  1981.0   \n",
      "6                     Death  2690  1983.0             USA  2001.0   \n",
      "7             Dream Theater  2329  1985.0             USA  1985.0   \n",
      "8             Black Sabbath  2307  1968.0  United Kingdom     NaN   \n",
      "9                 Nightwish  2183  1996.0         Finland  1996.0   \n",
      "10        Children Of Bodom  2153  1993.0         Finland     NaN   \n",
      "11             Judas Priest  2094  1969.0  United Kingdom  1969.0   \n",
      "12           Blind Guardian  2040  1984.0         Germany     NaN   \n",
      "13                In Flames  1932  1990.0          Sweden  1990.0   \n",
      "14                  Pantera  1920  1981.0             USA  2003.0   \n",
      "15        Dark Tranquillity  1898  1989.0          Sweden  1989.0   \n",
      "16                 Agalloch  1881  1995.0             USA  2016.0   \n",
      "17                Ensiferum  1879  1995.0         Finland  1995.0   \n",
      "18               Arch Enemy  1750  1996.0          Sweden     NaN   \n",
      "19                Katatonia  1735  1991.0          Sweden  1991.0   \n",
      "20                 Behemoth  1721  1991.0          Poland     NaN   \n",
      "21             Dimmu Borgir  1688  1993.0          Norway  1993.0   \n",
      "22                  Kreator  1646  1982.0         Germany     NaN   \n",
      "23                Wintersun  1640  2004.0         Finland  2004.0   \n",
      "24                Insomnium  1547  1997.0         Finland     NaN   \n",
      "25                 Amorphis  1528  1990.0         Finland  1990.0   \n",
      "26                  Kamelot  1520  1991.0             USA     NaN   \n",
      "27                     Tool  1506  1988.0             USA  1988.0   \n",
      "28                Helloween  1501  1978.0         Germany     NaN   \n",
      "29                Testament  1500  1983.0             USA  1983.0   \n",
      "...                     ...   ...     ...             ...     ...   \n",
      "4970     Your Chance To Die     1  2007.0             USA     NaN   \n",
      "4971    Your Tomorrow Alone     1  2009.0           Italy  2009.0   \n",
      "4972                   ?rec     1  2004.0  Czech Republic     NaN   \n",
      "4973                Ömheten     0  2012.0          Sweden  2012.0   \n",
      "4974             (In)Trance     0  2009.0          Russia     NaN   \n",
      "4975          6th Dimension     0  2008.0          Cyprus  2008.0   \n",
      "4976            9.7 Richter     0  2006.0         Romania     NaN   \n",
      "4977           A Lower Deep     0  2000.0             USA  2000.0   \n",
      "4978  Absence Of The Sacred     0  2005.0       Singapore     NaN   \n",
      "4979          Ace Of Hearts     0  2008.0  United Kingdom  2008.0   \n",
      "4980      Aeturnus Dominion     0  2003.0       Australia     NaN   \n",
      "4981       Algy Ward's Tank     0  2007.0  United Kingdom  2007.0   \n",
      "4982        Altars Of Grief     0  2013.0          Canada     NaN   \n",
      "4983               Anatomia     0  2002.0           Japan  2002.0   \n",
      "4984           Anger As Art     0  2004.0             USA     NaN   \n",
      "4985                 Angist     0  2009.0         Iceland  2009.0   \n",
      "4986                  Anmod     0  2005.0          Brazil     NaN   \n",
      "4987      Apokalyptic Raids     0  1997.0          Brazil  1997.0   \n",
      "4988             Apothesary     0  2009.0             USA     NaN   \n",
      "4989              Apparatus     0  2012.0         Denmark  2012.0   \n",
      "4990         Arctic Spirits     0  2003.0       Greenland     NaN   \n",
      "4991             Argus (Ro)     0  1996.0         Romania  1996.0   \n",
      "4992                 Arrest     0  1992.0         Germany     NaN   \n",
      "4993   As I Lay Dying (AUT)     0  1991.0         Austria  1991.0   \n",
      "4994                  Asofy     0  2000.0           Italy     NaN   \n",
      "4995                  Atara     0  2006.0          France  2006.0   \n",
      "4996             Avicularia     0  2003.0         Croatia     NaN   \n",
      "4997                  Awake     0  2006.0  United Kingdom  2006.0   \n",
      "4998                 Axatak     0  1983.0       Australia  1988.0   \n",
      "4999        Axis Of Despair     0  2014.0          Sweden  2014.0   \n",
      "\n",
      "                                                  style  \n",
      "0                       New wave of british heavy,Heavy  \n",
      "1      Extreme progressive,Progressive rock,Progressive  \n",
      "2                                 Heavy,Bay area thrash  \n",
      "3                                Thrash,Heavy,Hard rock  \n",
      "4                                         Melodic death  \n",
      "5                                                Thrash  \n",
      "6            Progressive death,Death,Progressive thrash  \n",
      "7                                           Progressive  \n",
      "8                                  Doom,Heavy,Hard rock  \n",
      "9                      Symphonic power,Gothic,Symphonic  \n",
      "10                                        Extreme power  \n",
      "11                                      Heavy,Hard rock  \n",
      "12                                          Power,Speed  \n",
      "13                               Gothenburg,Alternative  \n",
      "14                     Heavy,Groove thrash,Groove metal  \n",
      "15                                           Gothenburg  \n",
      "16                            Atmospheric black,Neofolk  \n",
      "17                                         Extreme folk  \n",
      "18                                           Gothenburg  \n",
      "19    Blackened doom,Death doom,Alternative rock,Got...  \n",
      "20                          Death,Black,Blackened death  \n",
      "21                                Symphonic black,Black  \n",
      "22                                      Teutonic thrash  \n",
      "23                                        Extreme power  \n",
      "24                                        Melodic death  \n",
      "25                 Death,Melodic death,Folk,Progressive  \n",
      "26                                      Symphonic power  \n",
      "27                              Progressive,Alternative  \n",
      "28                                          Speed,Power  \n",
      "29                                      Bay area thrash  \n",
      "...                                                 ...  \n",
      "4970                            Melodic death,Metalcore  \n",
      "4971                            Progressive doom,Gothic  \n",
      "4972                                         Pagan folk  \n",
      "4973                                   Depressive black  \n",
      "4974                                             Gothic  \n",
      "4975                            Alternative,Progressive  \n",
      "4976                                              Heavy  \n",
      "4977                           Progressive,Thrash,Power  \n",
      "4978                           Progressive death,Thrash  \n",
      "4979                                   Gothic,Hard rock  \n",
      "4980                                              Death  \n",
      "4981                                              Heavy  \n",
      "4982           Funeral doom,Death doom,Atmospheric doom  \n",
      "4983                                         Death,Doom  \n",
      "4984                                             Thrash  \n",
      "4985                                              Death  \n",
      "4986                                       Brutal death  \n",
      "4987                                              Black  \n",
      "4988                               Thrash,Melodic death  \n",
      "4989                                    Blackened death  \n",
      "4990                                    Heavy,Hard rock  \n",
      "4991                                              Black  \n",
      "4992                                    Hard rock,Heavy  \n",
      "4993                                 Death,Melodic doom  \n",
      "4994                                         Black,Doom  \n",
      "4995                                    Black,Grindcore  \n",
      "4996                                   Avantgarde death  \n",
      "4997                                  Heavy,Progressive  \n",
      "4998                                    Hard rock,Heavy  \n",
      "4999                                          Grindcore  \n",
      "\n",
      "[5000 rows x 6 columns]\n"
     ]
    }
   ],
   "source": [
    "print(data)"
   ]
  },
  {
   "cell_type": "markdown",
   "metadata": {},
   "source": [
    "#### Посмотрим первые пять строк таблицы"
   ]
  },
  {
   "cell_type": "code",
   "execution_count": 6,
   "metadata": {},
   "outputs": [
    {
     "data": {
      "text/html": [
       "<div>\n",
       "<style>\n",
       "    .dataframe thead tr:only-child th {\n",
       "        text-align: right;\n",
       "    }\n",
       "\n",
       "    .dataframe thead th {\n",
       "        text-align: left;\n",
       "    }\n",
       "\n",
       "    .dataframe tbody tr th {\n",
       "        vertical-align: top;\n",
       "    }\n",
       "</style>\n",
       "<table border=\"1\" class=\"dataframe\">\n",
       "  <thead>\n",
       "    <tr style=\"text-align: right;\">\n",
       "      <th></th>\n",
       "      <th>band_name</th>\n",
       "      <th>fans</th>\n",
       "      <th>formed</th>\n",
       "      <th>origin</th>\n",
       "      <th>split</th>\n",
       "      <th>style</th>\n",
       "    </tr>\n",
       "  </thead>\n",
       "  <tbody>\n",
       "    <tr>\n",
       "      <th>0</th>\n",
       "      <td>Iron Maiden</td>\n",
       "      <td>4195</td>\n",
       "      <td>1975.0</td>\n",
       "      <td>United Kingdom</td>\n",
       "      <td>NaN</td>\n",
       "      <td>New wave of british heavy,Heavy</td>\n",
       "    </tr>\n",
       "    <tr>\n",
       "      <th>1</th>\n",
       "      <td>Opeth</td>\n",
       "      <td>4147</td>\n",
       "      <td>1990.0</td>\n",
       "      <td>Sweden</td>\n",
       "      <td>1990.0</td>\n",
       "      <td>Extreme progressive,Progressive rock,Progressive</td>\n",
       "    </tr>\n",
       "    <tr>\n",
       "      <th>2</th>\n",
       "      <td>Metallica</td>\n",
       "      <td>3712</td>\n",
       "      <td>1981.0</td>\n",
       "      <td>USA</td>\n",
       "      <td>NaN</td>\n",
       "      <td>Heavy,Bay area thrash</td>\n",
       "    </tr>\n",
       "    <tr>\n",
       "      <th>3</th>\n",
       "      <td>Megadeth</td>\n",
       "      <td>3105</td>\n",
       "      <td>1983.0</td>\n",
       "      <td>USA</td>\n",
       "      <td>1983.0</td>\n",
       "      <td>Thrash,Heavy,Hard rock</td>\n",
       "    </tr>\n",
       "    <tr>\n",
       "      <th>4</th>\n",
       "      <td>Amon Amarth</td>\n",
       "      <td>3054</td>\n",
       "      <td>1988.0</td>\n",
       "      <td>Sweden</td>\n",
       "      <td>NaN</td>\n",
       "      <td>Melodic death</td>\n",
       "    </tr>\n",
       "  </tbody>\n",
       "</table>\n",
       "</div>"
      ],
      "text/plain": [
       "     band_name  fans  formed          origin   split  \\\n",
       "0  Iron Maiden  4195  1975.0  United Kingdom     NaN   \n",
       "1        Opeth  4147  1990.0          Sweden  1990.0   \n",
       "2    Metallica  3712  1981.0             USA     NaN   \n",
       "3     Megadeth  3105  1983.0             USA  1983.0   \n",
       "4  Amon Amarth  3054  1988.0          Sweden     NaN   \n",
       "\n",
       "                                              style  \n",
       "0                   New wave of british heavy,Heavy  \n",
       "1  Extreme progressive,Progressive rock,Progressive  \n",
       "2                             Heavy,Bay area thrash  \n",
       "3                            Thrash,Heavy,Hard rock  \n",
       "4                                     Melodic death  "
      ]
     },
     "execution_count": 6,
     "metadata": {},
     "output_type": "execute_result"
    }
   ],
   "source": [
    "data.head()"
   ]
  },
  {
   "cell_type": "markdown",
   "metadata": {},
   "source": [
    "#### Теперь последние пять"
   ]
  },
  {
   "cell_type": "code",
   "execution_count": 7,
   "metadata": {},
   "outputs": [
    {
     "data": {
      "text/html": [
       "<div>\n",
       "<style>\n",
       "    .dataframe thead tr:only-child th {\n",
       "        text-align: right;\n",
       "    }\n",
       "\n",
       "    .dataframe thead th {\n",
       "        text-align: left;\n",
       "    }\n",
       "\n",
       "    .dataframe tbody tr th {\n",
       "        vertical-align: top;\n",
       "    }\n",
       "</style>\n",
       "<table border=\"1\" class=\"dataframe\">\n",
       "  <thead>\n",
       "    <tr style=\"text-align: right;\">\n",
       "      <th></th>\n",
       "      <th>band_name</th>\n",
       "      <th>fans</th>\n",
       "      <th>formed</th>\n",
       "      <th>origin</th>\n",
       "      <th>split</th>\n",
       "      <th>style</th>\n",
       "    </tr>\n",
       "  </thead>\n",
       "  <tbody>\n",
       "    <tr>\n",
       "      <th>4995</th>\n",
       "      <td>Atara</td>\n",
       "      <td>0</td>\n",
       "      <td>2006.0</td>\n",
       "      <td>France</td>\n",
       "      <td>2006.0</td>\n",
       "      <td>Black,Grindcore</td>\n",
       "    </tr>\n",
       "    <tr>\n",
       "      <th>4996</th>\n",
       "      <td>Avicularia</td>\n",
       "      <td>0</td>\n",
       "      <td>2003.0</td>\n",
       "      <td>Croatia</td>\n",
       "      <td>NaN</td>\n",
       "      <td>Avantgarde death</td>\n",
       "    </tr>\n",
       "    <tr>\n",
       "      <th>4997</th>\n",
       "      <td>Awake</td>\n",
       "      <td>0</td>\n",
       "      <td>2006.0</td>\n",
       "      <td>United Kingdom</td>\n",
       "      <td>2006.0</td>\n",
       "      <td>Heavy,Progressive</td>\n",
       "    </tr>\n",
       "    <tr>\n",
       "      <th>4998</th>\n",
       "      <td>Axatak</td>\n",
       "      <td>0</td>\n",
       "      <td>1983.0</td>\n",
       "      <td>Australia</td>\n",
       "      <td>1988.0</td>\n",
       "      <td>Hard rock,Heavy</td>\n",
       "    </tr>\n",
       "    <tr>\n",
       "      <th>4999</th>\n",
       "      <td>Axis Of Despair</td>\n",
       "      <td>0</td>\n",
       "      <td>2014.0</td>\n",
       "      <td>Sweden</td>\n",
       "      <td>2014.0</td>\n",
       "      <td>Grindcore</td>\n",
       "    </tr>\n",
       "  </tbody>\n",
       "</table>\n",
       "</div>"
      ],
      "text/plain": [
       "            band_name  fans  formed          origin   split              style\n",
       "4995            Atara     0  2006.0          France  2006.0    Black,Grindcore\n",
       "4996       Avicularia     0  2003.0         Croatia     NaN   Avantgarde death\n",
       "4997            Awake     0  2006.0  United Kingdom  2006.0  Heavy,Progressive\n",
       "4998           Axatak     0  1983.0       Australia  1988.0    Hard rock,Heavy\n",
       "4999  Axis Of Despair     0  2014.0          Sweden  2014.0          Grindcore"
      ]
     },
     "execution_count": 7,
     "metadata": {},
     "output_type": "execute_result"
    }
   ],
   "source": [
    "data.tail()"
   ]
  },
  {
   "cell_type": "markdown",
   "metadata": {},
   "source": [
    "#### Посмотрим сколько строк и столбцов в таблице"
   ]
  },
  {
   "cell_type": "code",
   "execution_count": 8,
   "metadata": {},
   "outputs": [
    {
     "name": "stdout",
     "output_type": "stream",
     "text": [
      "(5000, 6)\n"
     ]
    }
   ],
   "source": [
    "print(data.shape)"
   ]
  },
  {
   "cell_type": "markdown",
   "metadata": {},
   "source": [
    "#### 5000 - строк, 6 - столбцов"
   ]
  },
  {
   "cell_type": "markdown",
   "metadata": {},
   "source": [
    "#### Посмотрим из каких столбцов состоит таблица"
   ]
  },
  {
   "cell_type": "code",
   "execution_count": 9,
   "metadata": {},
   "outputs": [
    {
     "name": "stdout",
     "output_type": "stream",
     "text": [
      "Index(['band_name', 'fans', 'formed', 'origin', 'split', 'style'], dtype='object')\n"
     ]
    }
   ],
   "source": [
    "print(data.columns)"
   ]
  },
  {
   "cell_type": "code",
   "execution_count": 10,
   "metadata": {},
   "outputs": [
    {
     "name": "stdout",
     "output_type": "stream",
     "text": [
      "<class 'pandas.core.frame.DataFrame'>\n",
      "Int64Index: 5000 entries, 0 to 4999\n",
      "Data columns (total 6 columns):\n",
      "band_name    5000 non-null object\n",
      "fans         5000 non-null int64\n",
      "formed       4996 non-null float64\n",
      "origin       4992 non-null object\n",
      "split        2785 non-null float64\n",
      "style        5000 non-null object\n",
      "dtypes: float64(2), int64(1), object(3)\n",
      "memory usage: 273.4+ KB\n"
     ]
    }
   ],
   "source": [
    "data.info() # общая информация о типах данных и занимаемой памяти"
   ]
  },
  {
   "cell_type": "code",
   "execution_count": 11,
   "metadata": {},
   "outputs": [
    {
     "data": {
      "text/plain": [
       "Int64Index([   0,    1,    2,    3,    4,    5,    6,    7,    8,    9,\n",
       "            ...\n",
       "            4990, 4991, 4992, 4993, 4994, 4995, 4996, 4997, 4998, 4999],\n",
       "           dtype='int64', length=5000)"
      ]
     },
     "execution_count": 11,
     "metadata": {},
     "output_type": "execute_result"
    }
   ],
   "source": [
    "data.index"
   ]
  },
  {
   "cell_type": "markdown",
   "metadata": {},
   "source": [
    "#### Выведем 7-е значение столбца 'band_name'"
   ]
  },
  {
   "cell_type": "code",
   "execution_count": 12,
   "metadata": {},
   "outputs": [
    {
     "data": {
      "text/plain": [
       "'Dream Theater'"
      ]
     },
     "execution_count": 12,
     "metadata": {},
     "output_type": "execute_result"
    }
   ],
   "source": [
    "data.at[7,'band_name']"
   ]
  },
  {
   "cell_type": "code",
   "execution_count": 13,
   "metadata": {},
   "outputs": [
    {
     "data": {
      "text/plain": [
       "0                 Iron Maiden\n",
       "1                       Opeth\n",
       "2                   Metallica\n",
       "3                    Megadeth\n",
       "4                 Amon Amarth\n",
       "5                      Slayer\n",
       "6                       Death\n",
       "7               Dream Theater\n",
       "8               Black Sabbath\n",
       "9                   Nightwish\n",
       "10          Children Of Bodom\n",
       "11               Judas Priest\n",
       "12             Blind Guardian\n",
       "13                  In Flames\n",
       "14                    Pantera\n",
       "15          Dark Tranquillity\n",
       "16                   Agalloch\n",
       "17                  Ensiferum\n",
       "18                 Arch Enemy\n",
       "19                  Katatonia\n",
       "20                   Behemoth\n",
       "21               Dimmu Borgir\n",
       "22                    Kreator\n",
       "23                  Wintersun\n",
       "24                  Insomnium\n",
       "25                   Amorphis\n",
       "26                    Kamelot\n",
       "27                       Tool\n",
       "28                  Helloween\n",
       "29                  Testament\n",
       "                ...          \n",
       "4970       Your Chance To Die\n",
       "4971      Your Tomorrow Alone\n",
       "4972                     ?rec\n",
       "4973                  Ömheten\n",
       "4974               (In)Trance\n",
       "4975            6th Dimension\n",
       "4976              9.7 Richter\n",
       "4977             A Lower Deep\n",
       "4978    Absence Of The Sacred\n",
       "4979            Ace Of Hearts\n",
       "4980        Aeturnus Dominion\n",
       "4981         Algy Ward's Tank\n",
       "4982          Altars Of Grief\n",
       "4983                 Anatomia\n",
       "4984             Anger As Art\n",
       "4985                   Angist\n",
       "4986                    Anmod\n",
       "4987        Apokalyptic Raids\n",
       "4988               Apothesary\n",
       "4989                Apparatus\n",
       "4990           Arctic Spirits\n",
       "4991               Argus (Ro)\n",
       "4992                   Arrest\n",
       "4993     As I Lay Dying (AUT)\n",
       "4994                    Asofy\n",
       "4995                    Atara\n",
       "4996               Avicularia\n",
       "4997                    Awake\n",
       "4998                   Axatak\n",
       "4999          Axis Of Despair\n",
       "Name: band_name, Length: 5000, dtype: object"
      ]
     },
     "execution_count": 13,
     "metadata": {},
     "output_type": "execute_result"
    }
   ],
   "source": [
    "data['band_name'] # вывод столбца band_name"
   ]
  },
  {
   "cell_type": "markdown",
   "metadata": {},
   "source": [
    "#### Узнаем тип данных стобца 'formed'"
   ]
  },
  {
   "cell_type": "code",
   "execution_count": 14,
   "metadata": {},
   "outputs": [
    {
     "data": {
      "text/plain": [
       "'float64'"
      ]
     },
     "execution_count": 14,
     "metadata": {},
     "output_type": "execute_result"
    }
   ],
   "source": [
    "data['formed'].dtype.name"
   ]
  },
  {
   "cell_type": "markdown",
   "metadata": {},
   "source": [
    "#### Выведем 5-й элемент столбца 'origin'"
   ]
  },
  {
   "cell_type": "code",
   "execution_count": 15,
   "metadata": {},
   "outputs": [
    {
     "data": {
      "text/plain": [
       "'USA'"
      ]
     },
     "execution_count": 15,
     "metadata": {},
     "output_type": "execute_result"
    }
   ],
   "source": [
    "data['origin'][5]"
   ]
  },
  {
   "cell_type": "code",
   "execution_count": 16,
   "metadata": {},
   "outputs": [
    {
     "data": {
      "text/plain": [
       "pandas.core.series.Series"
      ]
     },
     "execution_count": 16,
     "metadata": {},
     "output_type": "execute_result"
    }
   ],
   "source": [
    "type(data['fans'])"
   ]
  },
  {
   "cell_type": "code",
   "execution_count": 17,
   "metadata": {},
   "outputs": [
    {
     "data": {
      "text/html": [
       "<div>\n",
       "<style>\n",
       "    .dataframe thead tr:only-child th {\n",
       "        text-align: right;\n",
       "    }\n",
       "\n",
       "    .dataframe thead th {\n",
       "        text-align: left;\n",
       "    }\n",
       "\n",
       "    .dataframe tbody tr th {\n",
       "        vertical-align: top;\n",
       "    }\n",
       "</style>\n",
       "<table border=\"1\" class=\"dataframe\">\n",
       "  <thead>\n",
       "    <tr style=\"text-align: right;\">\n",
       "      <th></th>\n",
       "      <th>band_name</th>\n",
       "      <th>fans</th>\n",
       "    </tr>\n",
       "  </thead>\n",
       "  <tbody>\n",
       "    <tr>\n",
       "      <th>0</th>\n",
       "      <td>Iron Maiden</td>\n",
       "      <td>4195</td>\n",
       "    </tr>\n",
       "    <tr>\n",
       "      <th>1</th>\n",
       "      <td>Opeth</td>\n",
       "      <td>4147</td>\n",
       "    </tr>\n",
       "    <tr>\n",
       "      <th>2</th>\n",
       "      <td>Metallica</td>\n",
       "      <td>3712</td>\n",
       "    </tr>\n",
       "    <tr>\n",
       "      <th>3</th>\n",
       "      <td>Megadeth</td>\n",
       "      <td>3105</td>\n",
       "    </tr>\n",
       "    <tr>\n",
       "      <th>4</th>\n",
       "      <td>Amon Amarth</td>\n",
       "      <td>3054</td>\n",
       "    </tr>\n",
       "  </tbody>\n",
       "</table>\n",
       "</div>"
      ],
      "text/plain": [
       "     band_name  fans\n",
       "0  Iron Maiden  4195\n",
       "1        Opeth  4147\n",
       "2    Metallica  3712\n",
       "3     Megadeth  3105\n",
       "4  Amon Amarth  3054"
      ]
     },
     "execution_count": 17,
     "metadata": {},
     "output_type": "execute_result"
    }
   ],
   "source": [
    "data[['band_name', 'fans']].head() # посмотрим сколько фанатов у первых 5 музыкальных групп"
   ]
  },
  {
   "cell_type": "markdown",
   "metadata": {},
   "source": [
    "#### Построим табличку с основными мат. статистическими характеристиками"
   ]
  },
  {
   "cell_type": "code",
   "execution_count": 18,
   "metadata": {},
   "outputs": [
    {
     "data": {
      "text/html": [
       "<div>\n",
       "<style>\n",
       "    .dataframe thead tr:only-child th {\n",
       "        text-align: right;\n",
       "    }\n",
       "\n",
       "    .dataframe thead th {\n",
       "        text-align: left;\n",
       "    }\n",
       "\n",
       "    .dataframe tbody tr th {\n",
       "        vertical-align: top;\n",
       "    }\n",
       "</style>\n",
       "<table border=\"1\" class=\"dataframe\">\n",
       "  <thead>\n",
       "    <tr style=\"text-align: right;\">\n",
       "      <th></th>\n",
       "      <th>fans</th>\n",
       "      <th>formed</th>\n",
       "      <th>split</th>\n",
       "    </tr>\n",
       "  </thead>\n",
       "  <tbody>\n",
       "    <tr>\n",
       "      <th>count</th>\n",
       "      <td>5000.000000</td>\n",
       "      <td>4996.000000</td>\n",
       "      <td>2785.000000</td>\n",
       "    </tr>\n",
       "    <tr>\n",
       "      <th>mean</th>\n",
       "      <td>87.805800</td>\n",
       "      <td>2000.416533</td>\n",
       "      <td>2001.239497</td>\n",
       "    </tr>\n",
       "    <tr>\n",
       "      <th>std</th>\n",
       "      <td>296.137523</td>\n",
       "      <td>8.884581</td>\n",
       "      <td>8.940120</td>\n",
       "    </tr>\n",
       "    <tr>\n",
       "      <th>min</th>\n",
       "      <td>0.000000</td>\n",
       "      <td>1964.000000</td>\n",
       "      <td>1965.000000</td>\n",
       "    </tr>\n",
       "    <tr>\n",
       "      <th>25%</th>\n",
       "      <td>4.000000</td>\n",
       "      <td>1995.000000</td>\n",
       "      <td>1996.000000</td>\n",
       "    </tr>\n",
       "    <tr>\n",
       "      <th>50%</th>\n",
       "      <td>12.000000</td>\n",
       "      <td>2002.000000</td>\n",
       "      <td>2003.000000</td>\n",
       "    </tr>\n",
       "    <tr>\n",
       "      <th>75%</th>\n",
       "      <td>42.000000</td>\n",
       "      <td>2007.000000</td>\n",
       "      <td>2008.000000</td>\n",
       "    </tr>\n",
       "    <tr>\n",
       "      <th>max</th>\n",
       "      <td>4195.000000</td>\n",
       "      <td>2016.000000</td>\n",
       "      <td>2016.000000</td>\n",
       "    </tr>\n",
       "  </tbody>\n",
       "</table>\n",
       "</div>"
      ],
      "text/plain": [
       "              fans       formed        split\n",
       "count  5000.000000  4996.000000  2785.000000\n",
       "mean     87.805800  2000.416533  2001.239497\n",
       "std     296.137523     8.884581     8.940120\n",
       "min       0.000000  1964.000000  1965.000000\n",
       "25%       4.000000  1995.000000  1996.000000\n",
       "50%      12.000000  2002.000000  2003.000000\n",
       "75%      42.000000  2007.000000  2008.000000\n",
       "max    4195.000000  2016.000000  2016.000000"
      ]
     },
     "execution_count": 18,
     "metadata": {},
     "output_type": "execute_result"
    }
   ],
   "source": [
    "data.describe()"
   ]
  },
  {
   "cell_type": "code",
   "execution_count": 19,
   "metadata": {},
   "outputs": [
    {
     "data": {
      "text/html": [
       "<div>\n",
       "<style>\n",
       "    .dataframe thead tr:only-child th {\n",
       "        text-align: right;\n",
       "    }\n",
       "\n",
       "    .dataframe thead th {\n",
       "        text-align: left;\n",
       "    }\n",
       "\n",
       "    .dataframe tbody tr th {\n",
       "        vertical-align: top;\n",
       "    }\n",
       "</style>\n",
       "<table border=\"1\" class=\"dataframe\">\n",
       "  <thead>\n",
       "    <tr style=\"text-align: right;\">\n",
       "      <th></th>\n",
       "      <th>band_name</th>\n",
       "      <th>fans</th>\n",
       "      <th>formed</th>\n",
       "      <th>origin</th>\n",
       "      <th>split</th>\n",
       "      <th>style</th>\n",
       "    </tr>\n",
       "  </thead>\n",
       "  <tbody>\n",
       "    <tr>\n",
       "      <th>count</th>\n",
       "      <td>5000</td>\n",
       "      <td>5000.000000</td>\n",
       "      <td>4996.000000</td>\n",
       "      <td>4992</td>\n",
       "      <td>2785.000000</td>\n",
       "      <td>5000</td>\n",
       "    </tr>\n",
       "    <tr>\n",
       "      <th>unique</th>\n",
       "      <td>4949</td>\n",
       "      <td>NaN</td>\n",
       "      <td>NaN</td>\n",
       "      <td>113</td>\n",
       "      <td>NaN</td>\n",
       "      <td>1227</td>\n",
       "    </tr>\n",
       "    <tr>\n",
       "      <th>top</th>\n",
       "      <td>Children Of Bodom</td>\n",
       "      <td>NaN</td>\n",
       "      <td>NaN</td>\n",
       "      <td>USA</td>\n",
       "      <td>NaN</td>\n",
       "      <td>Black</td>\n",
       "    </tr>\n",
       "    <tr>\n",
       "      <th>freq</th>\n",
       "      <td>2</td>\n",
       "      <td>NaN</td>\n",
       "      <td>NaN</td>\n",
       "      <td>1139</td>\n",
       "      <td>NaN</td>\n",
       "      <td>345</td>\n",
       "    </tr>\n",
       "    <tr>\n",
       "      <th>mean</th>\n",
       "      <td>NaN</td>\n",
       "      <td>87.805800</td>\n",
       "      <td>2000.416533</td>\n",
       "      <td>NaN</td>\n",
       "      <td>2001.239497</td>\n",
       "      <td>NaN</td>\n",
       "    </tr>\n",
       "    <tr>\n",
       "      <th>std</th>\n",
       "      <td>NaN</td>\n",
       "      <td>296.137523</td>\n",
       "      <td>8.884581</td>\n",
       "      <td>NaN</td>\n",
       "      <td>8.940120</td>\n",
       "      <td>NaN</td>\n",
       "    </tr>\n",
       "    <tr>\n",
       "      <th>min</th>\n",
       "      <td>NaN</td>\n",
       "      <td>0.000000</td>\n",
       "      <td>1964.000000</td>\n",
       "      <td>NaN</td>\n",
       "      <td>1965.000000</td>\n",
       "      <td>NaN</td>\n",
       "    </tr>\n",
       "    <tr>\n",
       "      <th>25%</th>\n",
       "      <td>NaN</td>\n",
       "      <td>4.000000</td>\n",
       "      <td>1995.000000</td>\n",
       "      <td>NaN</td>\n",
       "      <td>1996.000000</td>\n",
       "      <td>NaN</td>\n",
       "    </tr>\n",
       "    <tr>\n",
       "      <th>50%</th>\n",
       "      <td>NaN</td>\n",
       "      <td>12.000000</td>\n",
       "      <td>2002.000000</td>\n",
       "      <td>NaN</td>\n",
       "      <td>2003.000000</td>\n",
       "      <td>NaN</td>\n",
       "    </tr>\n",
       "    <tr>\n",
       "      <th>75%</th>\n",
       "      <td>NaN</td>\n",
       "      <td>42.000000</td>\n",
       "      <td>2007.000000</td>\n",
       "      <td>NaN</td>\n",
       "      <td>2008.000000</td>\n",
       "      <td>NaN</td>\n",
       "    </tr>\n",
       "    <tr>\n",
       "      <th>max</th>\n",
       "      <td>NaN</td>\n",
       "      <td>4195.000000</td>\n",
       "      <td>2016.000000</td>\n",
       "      <td>NaN</td>\n",
       "      <td>2016.000000</td>\n",
       "      <td>NaN</td>\n",
       "    </tr>\n",
       "  </tbody>\n",
       "</table>\n",
       "</div>"
      ],
      "text/plain": [
       "                band_name         fans       formed origin        split  style\n",
       "count                5000  5000.000000  4996.000000   4992  2785.000000   5000\n",
       "unique               4949          NaN          NaN    113          NaN   1227\n",
       "top     Children Of Bodom          NaN          NaN    USA          NaN  Black\n",
       "freq                    2          NaN          NaN   1139          NaN    345\n",
       "mean                  NaN    87.805800  2000.416533    NaN  2001.239497    NaN\n",
       "std                   NaN   296.137523     8.884581    NaN     8.940120    NaN\n",
       "min                   NaN     0.000000  1964.000000    NaN  1965.000000    NaN\n",
       "25%                   NaN     4.000000  1995.000000    NaN  1996.000000    NaN\n",
       "50%                   NaN    12.000000  2002.000000    NaN  2003.000000    NaN\n",
       "75%                   NaN    42.000000  2007.000000    NaN  2008.000000    NaN\n",
       "max                   NaN  4195.000000  2016.000000    NaN  2016.000000    NaN"
      ]
     },
     "execution_count": 19,
     "metadata": {},
     "output_type": "execute_result"
    }
   ],
   "source": [
    "data.describe(include = 'all')"
   ]
  },
  {
   "cell_type": "markdown",
   "metadata": {},
   "source": [
    "#### Построим матрицу рассеяния"
   ]
  },
  {
   "cell_type": "code",
   "execution_count": 20,
   "metadata": {},
   "outputs": [
    {
     "data": {
      "image/png": "[encoded data removed]",
      "text/plain": [
       "<matplotlib.figure.Figure at 0x54a00c0b70>"
      ]
     },
     "metadata": {},
     "output_type": "display_data"
    }
   ],
   "source": [
    "from pandas.plotting import scatter_matrix \n",
    "scatter_matrix(data, alpha = .3, figsize = (10, 10))\n",
    "pass"
   ]
  },
  {
   "cell_type": "markdown",
   "metadata": {},
   "source": [
    "#### Построим матрицу корреляций"
   ]
  },
  {
   "cell_type": "code",
   "execution_count": 21,
   "metadata": {},
   "outputs": [
    {
     "data": {
      "text/html": [
       "<div>\n",
       "<style>\n",
       "    .dataframe thead tr:only-child th {\n",
       "        text-align: right;\n",
       "    }\n",
       "\n",
       "    .dataframe thead th {\n",
       "        text-align: left;\n",
       "    }\n",
       "\n",
       "    .dataframe tbody tr th {\n",
       "        vertical-align: top;\n",
       "    }\n",
       "</style>\n",
       "<table border=\"1\" class=\"dataframe\">\n",
       "  <thead>\n",
       "    <tr style=\"text-align: right;\">\n",
       "      <th></th>\n",
       "      <th>fans</th>\n",
       "      <th>formed</th>\n",
       "      <th>split</th>\n",
       "    </tr>\n",
       "  </thead>\n",
       "  <tbody>\n",
       "    <tr>\n",
       "      <th>fans</th>\n",
       "      <td>1.000000</td>\n",
       "      <td>-0.28706</td>\n",
       "      <td>-0.251537</td>\n",
       "    </tr>\n",
       "    <tr>\n",
       "      <th>formed</th>\n",
       "      <td>-0.287060</td>\n",
       "      <td>1.00000</td>\n",
       "      <td>0.907940</td>\n",
       "    </tr>\n",
       "    <tr>\n",
       "      <th>split</th>\n",
       "      <td>-0.251537</td>\n",
       "      <td>0.90794</td>\n",
       "      <td>1.000000</td>\n",
       "    </tr>\n",
       "  </tbody>\n",
       "</table>\n",
       "</div>"
      ],
      "text/plain": [
       "            fans   formed     split\n",
       "fans    1.000000 -0.28706 -0.251537\n",
       "formed -0.287060  1.00000  0.907940\n",
       "split  -0.251537  0.90794  1.000000"
      ]
     },
     "execution_count": 21,
     "metadata": {},
     "output_type": "execute_result"
    }
   ],
   "source": [
    "data.corr()"
   ]
  },
  {
   "cell_type": "markdown",
   "metadata": {},
   "source": [
    "#### Мы имеим достаточно большую корреляцию времени расспадания групп и формирование новых. Это же очевидно, не так ли?:)"
   ]
  },
  {
   "cell_type": "code",
   "execution_count": 22,
   "metadata": {},
   "outputs": [
    {
     "data": {
      "image/png": "[encoded data removed]",
      "text/plain": [
       "<matplotlib.figure.Figure at 0x54a021a470>"
      ]
     },
     "metadata": {},
     "output_type": "display_data"
    }
   ],
   "source": [
    "numband = 10\n",
    "band_group = data.groupby('origin')['band_name'].count().nlargest(numband)\n",
    "band_plt = band_group.plot.bar()\n",
    "hfont = {'fontname':'calibri'}\n",
    "band_plt.set_title(str(numband) + ' most metal countries', fontsize=20, color='black', **hfont)\n",
    "band_plt.set_xlabel('Country name', fontsize=15, color='black', **hfont)\n",
    "band_plt.set_ylabel('The number of metal bands', fontsize=15, color='black', **hfont)\n",
    "pass"
   ]
  },
  {
   "cell_type": "markdown",
   "metadata": {},
   "source": [
    "## Подготовка данных"
   ]
  },
  {
   "cell_type": "code",
   "execution_count": 23,
   "metadata": {},
   "outputs": [
    {
     "data": {
      "text/html": [
       "<div>\n",
       "<style>\n",
       "    .dataframe thead tr:only-child th {\n",
       "        text-align: right;\n",
       "    }\n",
       "\n",
       "    .dataframe thead th {\n",
       "        text-align: left;\n",
       "    }\n",
       "\n",
       "    .dataframe tbody tr th {\n",
       "        vertical-align: top;\n",
       "    }\n",
       "</style>\n",
       "<table border=\"1\" class=\"dataframe\">\n",
       "  <thead>\n",
       "    <tr style=\"text-align: right;\">\n",
       "      <th></th>\n",
       "      <th>band_name</th>\n",
       "      <th>fans</th>\n",
       "      <th>formed</th>\n",
       "      <th>origin</th>\n",
       "      <th>split</th>\n",
       "      <th>style</th>\n",
       "    </tr>\n",
       "  </thead>\n",
       "  <tbody>\n",
       "    <tr>\n",
       "      <th>4442</th>\n",
       "      <td>Throes Of Sanity</td>\n",
       "      <td>2</td>\n",
       "      <td>NaN</td>\n",
       "      <td>USA</td>\n",
       "      <td>NaN</td>\n",
       "      <td>Us power</td>\n",
       "    </tr>\n",
       "    <tr>\n",
       "      <th>4599</th>\n",
       "      <td>Doomocracy</td>\n",
       "      <td>1</td>\n",
       "      <td>NaN</td>\n",
       "      <td>Greece</td>\n",
       "      <td>NaN</td>\n",
       "      <td>Doom</td>\n",
       "    </tr>\n",
       "    <tr>\n",
       "      <th>4821</th>\n",
       "      <td>Rustless</td>\n",
       "      <td>1</td>\n",
       "      <td>NaN</td>\n",
       "      <td>Italy</td>\n",
       "      <td>NaN</td>\n",
       "      <td>Heavy</td>\n",
       "    </tr>\n",
       "    <tr>\n",
       "      <th>4948</th>\n",
       "      <td>Weapon UK</td>\n",
       "      <td>1</td>\n",
       "      <td>NaN</td>\n",
       "      <td>United Kingdom</td>\n",
       "      <td>NaN</td>\n",
       "      <td>New wave of british heavy,Heavy</td>\n",
       "    </tr>\n",
       "  </tbody>\n",
       "</table>\n",
       "</div>"
      ],
      "text/plain": [
       "             band_name  fans  formed          origin  split  \\\n",
       "4442  Throes Of Sanity     2     NaN             USA    NaN   \n",
       "4599        Doomocracy     1     NaN          Greece    NaN   \n",
       "4821          Rustless     1     NaN           Italy    NaN   \n",
       "4948         Weapon UK     1     NaN  United Kingdom    NaN   \n",
       "\n",
       "                                style  \n",
       "4442                         Us power  \n",
       "4599                             Doom  \n",
       "4821                            Heavy  \n",
       "4948  New wave of british heavy,Heavy  "
      ]
     },
     "execution_count": 23,
     "metadata": {},
     "output_type": "execute_result"
    }
   ],
   "source": [
    "data[data.formed.isnull()]"
   ]
  },
  {
   "cell_type": "markdown",
   "metadata": {},
   "source": [
    "#### Все года формирования отлично гуглятся, поэтому заполним их в ручную, благо их не так много:)"
   ]
  },
  {
   "cell_type": "code",
   "execution_count": 24,
   "metadata": {
    "collapsed": true
   },
   "outputs": [],
   "source": [
    "data.loc[4442, 'formed'] = 1992 # for Throes Of Sanity\n",
    "data.loc[4599, 'formed'] = 2011 # for Doomocracy\n",
    "data.loc[4821, 'formed'] = 1982 # for Rustless\n",
    "data.loc[4948, 'formed'] = 1980 # for Weapon UK"
   ]
  },
  {
   "cell_type": "code",
   "execution_count": 25,
   "metadata": {},
   "outputs": [
    {
     "data": {
      "text/html": [
       "<div>\n",
       "<style>\n",
       "    .dataframe thead tr:only-child th {\n",
       "        text-align: right;\n",
       "    }\n",
       "\n",
       "    .dataframe thead th {\n",
       "        text-align: left;\n",
       "    }\n",
       "\n",
       "    .dataframe tbody tr th {\n",
       "        vertical-align: top;\n",
       "    }\n",
       "</style>\n",
       "<table border=\"1\" class=\"dataframe\">\n",
       "  <thead>\n",
       "    <tr style=\"text-align: right;\">\n",
       "      <th></th>\n",
       "      <th>band_name</th>\n",
       "      <th>fans</th>\n",
       "      <th>formed</th>\n",
       "      <th>origin</th>\n",
       "      <th>split</th>\n",
       "      <th>style</th>\n",
       "    </tr>\n",
       "  </thead>\n",
       "  <tbody>\n",
       "  </tbody>\n",
       "</table>\n",
       "</div>"
      ],
      "text/plain": [
       "Empty DataFrame\n",
       "Columns: [band_name, fans, formed, origin, split, style]\n",
       "Index: []"
      ]
     },
     "execution_count": 25,
     "metadata": {},
     "output_type": "execute_result"
    }
   ],
   "source": [
    "data[data.formed.isnull()]"
   ]
  },
  {
   "cell_type": "code",
   "execution_count": 26,
   "metadata": {},
   "outputs": [
    {
     "data": {
      "text/html": [
       "<div>\n",
       "<style>\n",
       "    .dataframe thead tr:only-child th {\n",
       "        text-align: right;\n",
       "    }\n",
       "\n",
       "    .dataframe thead th {\n",
       "        text-align: left;\n",
       "    }\n",
       "\n",
       "    .dataframe tbody tr th {\n",
       "        vertical-align: top;\n",
       "    }\n",
       "</style>\n",
       "<table border=\"1\" class=\"dataframe\">\n",
       "  <thead>\n",
       "    <tr style=\"text-align: right;\">\n",
       "      <th></th>\n",
       "      <th>band_name</th>\n",
       "      <th>fans</th>\n",
       "      <th>formed</th>\n",
       "      <th>origin</th>\n",
       "      <th>split</th>\n",
       "      <th>style</th>\n",
       "    </tr>\n",
       "  </thead>\n",
       "  <tbody>\n",
       "    <tr>\n",
       "      <th>460</th>\n",
       "      <td>Enshine</td>\n",
       "      <td>175</td>\n",
       "      <td>2009.0</td>\n",
       "      <td>NaN</td>\n",
       "      <td>NaN</td>\n",
       "      <td>Gothic doom</td>\n",
       "    </tr>\n",
       "    <tr>\n",
       "      <th>989</th>\n",
       "      <td>Clouds</td>\n",
       "      <td>61</td>\n",
       "      <td>2013.0</td>\n",
       "      <td>NaN</td>\n",
       "      <td>2013.0</td>\n",
       "      <td>Atmospheric doom</td>\n",
       "    </tr>\n",
       "    <tr>\n",
       "      <th>1422</th>\n",
       "      <td>Subterranean Masquerade</td>\n",
       "      <td>35</td>\n",
       "      <td>1997.0</td>\n",
       "      <td>NaN</td>\n",
       "      <td>NaN</td>\n",
       "      <td>Progressive,Psychedelic rock</td>\n",
       "    </tr>\n",
       "    <tr>\n",
       "      <th>2614</th>\n",
       "      <td>Twilight Of The Gods</td>\n",
       "      <td>11</td>\n",
       "      <td>2010.0</td>\n",
       "      <td>NaN</td>\n",
       "      <td>NaN</td>\n",
       "      <td>Heavy</td>\n",
       "    </tr>\n",
       "    <tr>\n",
       "      <th>2996</th>\n",
       "      <td>Archivist</td>\n",
       "      <td>7</td>\n",
       "      <td>2015.0</td>\n",
       "      <td>NaN</td>\n",
       "      <td>NaN</td>\n",
       "      <td>Atmospheric black,Post-metal</td>\n",
       "    </tr>\n",
       "    <tr>\n",
       "      <th>3444</th>\n",
       "      <td>Metallic Taste Of Blood</td>\n",
       "      <td>5</td>\n",
       "      <td>2011.0</td>\n",
       "      <td>NaN</td>\n",
       "      <td>NaN</td>\n",
       "      <td>Progressive,Instrumental</td>\n",
       "    </tr>\n",
       "    <tr>\n",
       "      <th>3941</th>\n",
       "      <td>Level 10</td>\n",
       "      <td>3</td>\n",
       "      <td>2014.0</td>\n",
       "      <td>NaN</td>\n",
       "      <td>2014.0</td>\n",
       "      <td>Heavy,Power</td>\n",
       "    </tr>\n",
       "    <tr>\n",
       "      <th>4201</th>\n",
       "      <td>Death Penalty</td>\n",
       "      <td>2</td>\n",
       "      <td>2013.0</td>\n",
       "      <td>NaN</td>\n",
       "      <td>2013.0</td>\n",
       "      <td>Doom,Heavy</td>\n",
       "    </tr>\n",
       "  </tbody>\n",
       "</table>\n",
       "</div>"
      ],
      "text/plain": [
       "                    band_name  fans  formed origin   split  \\\n",
       "460                   Enshine   175  2009.0    NaN     NaN   \n",
       "989                    Clouds    61  2013.0    NaN  2013.0   \n",
       "1422  Subterranean Masquerade    35  1997.0    NaN     NaN   \n",
       "2614     Twilight Of The Gods    11  2010.0    NaN     NaN   \n",
       "2996                Archivist     7  2015.0    NaN     NaN   \n",
       "3444  Metallic Taste Of Blood     5  2011.0    NaN     NaN   \n",
       "3941                 Level 10     3  2014.0    NaN  2014.0   \n",
       "4201            Death Penalty     2  2013.0    NaN  2013.0   \n",
       "\n",
       "                             style  \n",
       "460                    Gothic doom  \n",
       "989               Atmospheric doom  \n",
       "1422  Progressive,Psychedelic rock  \n",
       "2614                         Heavy  \n",
       "2996  Atmospheric black,Post-metal  \n",
       "3444      Progressive,Instrumental  \n",
       "3941                   Heavy,Power  \n",
       "4201                    Doom,Heavy  "
      ]
     },
     "execution_count": 26,
     "metadata": {},
     "output_type": "execute_result"
    }
   ],
   "source": [
    "data[data.origin.isnull()]"
   ]
  },
  {
   "cell_type": "markdown",
   "metadata": {},
   "source": [
    "#### То же сделаем и для заполнения столбцов 'origin'. На это список google выдаёт: 'International'."
   ]
  },
  {
   "cell_type": "code",
   "execution_count": 27,
   "metadata": {
    "collapsed": true
   },
   "outputs": [],
   "source": [
    "data.at[data.origin.isnull(), 'origin'] = 'International'"
   ]
  },
  {
   "cell_type": "code",
   "execution_count": 28,
   "metadata": {},
   "outputs": [
    {
     "data": {
      "text/html": [
       "<div>\n",
       "<style>\n",
       "    .dataframe thead tr:only-child th {\n",
       "        text-align: right;\n",
       "    }\n",
       "\n",
       "    .dataframe thead th {\n",
       "        text-align: left;\n",
       "    }\n",
       "\n",
       "    .dataframe tbody tr th {\n",
       "        vertical-align: top;\n",
       "    }\n",
       "</style>\n",
       "<table border=\"1\" class=\"dataframe\">\n",
       "  <thead>\n",
       "    <tr style=\"text-align: right;\">\n",
       "      <th></th>\n",
       "      <th>band_name</th>\n",
       "      <th>fans</th>\n",
       "      <th>formed</th>\n",
       "      <th>origin</th>\n",
       "      <th>split</th>\n",
       "      <th>style</th>\n",
       "    </tr>\n",
       "  </thead>\n",
       "  <tbody>\n",
       "  </tbody>\n",
       "</table>\n",
       "</div>"
      ],
      "text/plain": [
       "Empty DataFrame\n",
       "Columns: [band_name, fans, formed, origin, split, style]\n",
       "Index: []"
      ]
     },
     "execution_count": 28,
     "metadata": {},
     "output_type": "execute_result"
    }
   ],
   "source": [
    "data[data.origin.isnull()]"
   ]
  },
  {
   "cell_type": "code",
   "execution_count": 29,
   "metadata": {},
   "outputs": [
    {
     "name": "stdout",
     "output_type": "stream",
     "text": [
      "<class 'pandas.core.frame.DataFrame'>\n",
      "Int64Index: 5000 entries, 0 to 4999\n",
      "Data columns (total 6 columns):\n",
      "band_name    5000 non-null object\n",
      "fans         5000 non-null int64\n",
      "formed       5000 non-null float64\n",
      "origin       5000 non-null object\n",
      "split        2785 non-null float64\n",
      "style        5000 non-null object\n",
      "dtypes: float64(2), int64(1), object(3)\n",
      "memory usage: 433.4+ KB\n"
     ]
    }
   ],
   "source": [
    "data.info()"
   ]
  },
  {
   "cell_type": "code",
   "execution_count": 30,
   "metadata": {
    "collapsed": true
   },
   "outputs": [],
   "source": [
    "data.formed = data.formed.astype('int16')"
   ]
  },
  {
   "cell_type": "code",
   "execution_count": 31,
   "metadata": {},
   "outputs": [
    {
     "data": {
      "text/html": [
       "<div>\n",
       "<style>\n",
       "    .dataframe thead tr:only-child th {\n",
       "        text-align: right;\n",
       "    }\n",
       "\n",
       "    .dataframe thead th {\n",
       "        text-align: left;\n",
       "    }\n",
       "\n",
       "    .dataframe tbody tr th {\n",
       "        vertical-align: top;\n",
       "    }\n",
       "</style>\n",
       "<table border=\"1\" class=\"dataframe\">\n",
       "  <thead>\n",
       "    <tr style=\"text-align: right;\">\n",
       "      <th></th>\n",
       "      <th>band_name</th>\n",
       "      <th>origin</th>\n",
       "      <th>style</th>\n",
       "    </tr>\n",
       "  </thead>\n",
       "  <tbody>\n",
       "    <tr>\n",
       "      <th>count</th>\n",
       "      <td>5000</td>\n",
       "      <td>5000</td>\n",
       "      <td>5000</td>\n",
       "    </tr>\n",
       "    <tr>\n",
       "      <th>unique</th>\n",
       "      <td>4949</td>\n",
       "      <td>114</td>\n",
       "      <td>1227</td>\n",
       "    </tr>\n",
       "    <tr>\n",
       "      <th>top</th>\n",
       "      <td>Children Of Bodom</td>\n",
       "      <td>USA</td>\n",
       "      <td>Black</td>\n",
       "    </tr>\n",
       "    <tr>\n",
       "      <th>freq</th>\n",
       "      <td>2</td>\n",
       "      <td>1139</td>\n",
       "      <td>345</td>\n",
       "    </tr>\n",
       "  </tbody>\n",
       "</table>\n",
       "</div>"
      ],
      "text/plain": [
       "                band_name origin  style\n",
       "count                5000   5000   5000\n",
       "unique               4949    114   1227\n",
       "top     Children Of Bodom    USA  Black\n",
       "freq                    2   1139    345"
      ]
     },
     "execution_count": 31,
     "metadata": {},
     "output_type": "execute_result"
    }
   ],
   "source": [
    "data.describe(include = ['object'])"
   ]
  },
  {
   "cell_type": "markdown",
   "metadata": {},
   "source": [
    "#### Теперь разберемся с уникальными стилями. Посмотрим сколько их:"
   ]
  },
  {
   "cell_type": "code",
   "execution_count": 32,
   "metadata": {},
   "outputs": [
    {
     "data": {
      "text/plain": [
       "297"
      ]
     },
     "execution_count": 32,
     "metadata": {},
     "output_type": "execute_result"
    }
   ],
   "source": [
    "uniq_styles = set()\n",
    "for style_string in data['style']:\n",
    "    for style in style_string.split(','):\n",
    "        uniq_styles.add(style)\n",
    "len(uniq_styles)"
   ]
  },
  {
   "cell_type": "markdown",
   "metadata": {},
   "source": [
    "#### Векторизуем столбец 'style' используя функцию pandas:"
   ]
  },
  {
   "cell_type": "code",
   "execution_count": 33,
   "metadata": {
    "collapsed": true
   },
   "outputs": [],
   "source": [
    "encoded_style = pd.get_dummies(data['style'].str.split(',', expand=True).stack(), prefix='st').groupby(level=0).sum()"
   ]
  },
  {
   "cell_type": "code",
   "execution_count": 34,
   "metadata": {},
   "outputs": [
    {
     "data": {
      "text/html": [
       "<div>\n",
       "<style>\n",
       "    .dataframe thead tr:only-child th {\n",
       "        text-align: right;\n",
       "    }\n",
       "\n",
       "    .dataframe thead th {\n",
       "        text-align: left;\n",
       "    }\n",
       "\n",
       "    .dataframe tbody tr th {\n",
       "        vertical-align: top;\n",
       "    }\n",
       "</style>\n",
       "<table border=\"1\" class=\"dataframe\">\n",
       "  <thead>\n",
       "    <tr style=\"text-align: right;\">\n",
       "      <th></th>\n",
       "      <th>st_A</th>\n",
       "      <th>st_Acoustic</th>\n",
       "      <th>st_Acoustic folk</th>\n",
       "      <th>st_Acoustic rock</th>\n",
       "      <th>st_Adult</th>\n",
       "      <th>st_Aggrotech</th>\n",
       "      <th>st_Alternative</th>\n",
       "      <th>st_Alternative rock</th>\n",
       "      <th>st_Alternative thrash</th>\n",
       "      <th>st_Ambient</th>\n",
       "      <th>...</th>\n",
       "      <th>st_Teutonic thrash</th>\n",
       "      <th>st_Thrash</th>\n",
       "      <th>st_Trancecore</th>\n",
       "      <th>st_Trip-</th>\n",
       "      <th>st_Us heavy</th>\n",
       "      <th>st_Us power</th>\n",
       "      <th>st_Viking black</th>\n",
       "      <th>st_Viking folk</th>\n",
       "      <th>st_Wave</th>\n",
       "      <th>st_Wave</th>\n",
       "    </tr>\n",
       "  </thead>\n",
       "  <tbody>\n",
       "    <tr>\n",
       "      <th>0</th>\n",
       "      <td>0</td>\n",
       "      <td>0</td>\n",
       "      <td>0</td>\n",
       "      <td>0</td>\n",
       "      <td>0</td>\n",
       "      <td>0</td>\n",
       "      <td>0</td>\n",
       "      <td>0</td>\n",
       "      <td>0</td>\n",
       "      <td>0</td>\n",
       "      <td>...</td>\n",
       "      <td>0</td>\n",
       "      <td>0</td>\n",
       "      <td>0</td>\n",
       "      <td>0</td>\n",
       "      <td>0</td>\n",
       "      <td>0</td>\n",
       "      <td>0</td>\n",
       "      <td>0</td>\n",
       "      <td>0</td>\n",
       "      <td>0</td>\n",
       "    </tr>\n",
       "    <tr>\n",
       "      <th>1</th>\n",
       "      <td>0</td>\n",
       "      <td>0</td>\n",
       "      <td>0</td>\n",
       "      <td>0</td>\n",
       "      <td>0</td>\n",
       "      <td>0</td>\n",
       "      <td>0</td>\n",
       "      <td>0</td>\n",
       "      <td>0</td>\n",
       "      <td>0</td>\n",
       "      <td>...</td>\n",
       "      <td>0</td>\n",
       "      <td>0</td>\n",
       "      <td>0</td>\n",
       "      <td>0</td>\n",
       "      <td>0</td>\n",
       "      <td>0</td>\n",
       "      <td>0</td>\n",
       "      <td>0</td>\n",
       "      <td>0</td>\n",
       "      <td>0</td>\n",
       "    </tr>\n",
       "    <tr>\n",
       "      <th>2</th>\n",
       "      <td>0</td>\n",
       "      <td>0</td>\n",
       "      <td>0</td>\n",
       "      <td>0</td>\n",
       "      <td>0</td>\n",
       "      <td>0</td>\n",
       "      <td>0</td>\n",
       "      <td>0</td>\n",
       "      <td>0</td>\n",
       "      <td>0</td>\n",
       "      <td>...</td>\n",
       "      <td>0</td>\n",
       "      <td>0</td>\n",
       "      <td>0</td>\n",
       "      <td>0</td>\n",
       "      <td>0</td>\n",
       "      <td>0</td>\n",
       "      <td>0</td>\n",
       "      <td>0</td>\n",
       "      <td>0</td>\n",
       "      <td>0</td>\n",
       "    </tr>\n",
       "    <tr>\n",
       "      <th>3</th>\n",
       "      <td>0</td>\n",
       "      <td>0</td>\n",
       "      <td>0</td>\n",
       "      <td>0</td>\n",
       "      <td>0</td>\n",
       "      <td>0</td>\n",
       "      <td>0</td>\n",
       "      <td>0</td>\n",
       "      <td>0</td>\n",
       "      <td>0</td>\n",
       "      <td>...</td>\n",
       "      <td>0</td>\n",
       "      <td>1</td>\n",
       "      <td>0</td>\n",
       "      <td>0</td>\n",
       "      <td>0</td>\n",
       "      <td>0</td>\n",
       "      <td>0</td>\n",
       "      <td>0</td>\n",
       "      <td>0</td>\n",
       "      <td>0</td>\n",
       "    </tr>\n",
       "    <tr>\n",
       "      <th>4</th>\n",
       "      <td>0</td>\n",
       "      <td>0</td>\n",
       "      <td>0</td>\n",
       "      <td>0</td>\n",
       "      <td>0</td>\n",
       "      <td>0</td>\n",
       "      <td>0</td>\n",
       "      <td>0</td>\n",
       "      <td>0</td>\n",
       "      <td>0</td>\n",
       "      <td>...</td>\n",
       "      <td>0</td>\n",
       "      <td>0</td>\n",
       "      <td>0</td>\n",
       "      <td>0</td>\n",
       "      <td>0</td>\n",
       "      <td>0</td>\n",
       "      <td>0</td>\n",
       "      <td>0</td>\n",
       "      <td>0</td>\n",
       "      <td>0</td>\n",
       "    </tr>\n",
       "  </tbody>\n",
       "</table>\n",
       "<p>5 rows × 297 columns</p>\n",
       "</div>"
      ],
      "text/plain": [
       "   st_A  st_Acoustic  st_Acoustic folk  st_Acoustic rock  st_Adult  \\\n",
       "0     0            0                 0                 0         0   \n",
       "1     0            0                 0                 0         0   \n",
       "2     0            0                 0                 0         0   \n",
       "3     0            0                 0                 0         0   \n",
       "4     0            0                 0                 0         0   \n",
       "\n",
       "   st_Aggrotech  st_Alternative  st_Alternative rock  st_Alternative thrash  \\\n",
       "0             0               0                    0                      0   \n",
       "1             0               0                    0                      0   \n",
       "2             0               0                    0                      0   \n",
       "3             0               0                    0                      0   \n",
       "4             0               0                    0                      0   \n",
       "\n",
       "   st_Ambient    ...     st_Teutonic thrash  st_Thrash  st_Trancecore  \\\n",
       "0           0    ...                      0          0              0   \n",
       "1           0    ...                      0          0              0   \n",
       "2           0    ...                      0          0              0   \n",
       "3           0    ...                      0          1              0   \n",
       "4           0    ...                      0          0              0   \n",
       "\n",
       "   st_Trip-  st_Us heavy  st_Us power  st_Viking black  st_Viking folk  \\\n",
       "0         0            0            0                0               0   \n",
       "1         0            0            0                0               0   \n",
       "2         0            0            0                0               0   \n",
       "3         0            0            0                0               0   \n",
       "4         0            0            0                0               0   \n",
       "\n",
       "   st_Wave  st_Wave   \n",
       "0        0         0  \n",
       "1        0         0  \n",
       "2        0         0  \n",
       "3        0         0  \n",
       "4        0         0  \n",
       "\n",
       "[5 rows x 297 columns]"
      ]
     },
     "execution_count": 34,
     "metadata": {},
     "output_type": "execute_result"
    }
   ],
   "source": [
    "encoded_style.head()"
   ]
  },
  {
   "cell_type": "code",
   "execution_count": 35,
   "metadata": {
    "collapsed": true
   },
   "outputs": [],
   "source": [
    "data = data.drop('style', axis=1)\n",
    "data = pd.concat([data, encoded_style], axis = 1)"
   ]
  },
  {
   "cell_type": "code",
   "execution_count": 36,
   "metadata": {},
   "outputs": [
    {
     "data": {
      "text/html": [
       "<div>\n",
       "<style>\n",
       "    .dataframe thead tr:only-child th {\n",
       "        text-align: right;\n",
       "    }\n",
       "\n",
       "    .dataframe thead th {\n",
       "        text-align: left;\n",
       "    }\n",
       "\n",
       "    .dataframe tbody tr th {\n",
       "        vertical-align: top;\n",
       "    }\n",
       "</style>\n",
       "<table border=\"1\" class=\"dataframe\">\n",
       "  <thead>\n",
       "    <tr style=\"text-align: right;\">\n",
       "      <th></th>\n",
       "      <th>band_name</th>\n",
       "      <th>origin</th>\n",
       "    </tr>\n",
       "  </thead>\n",
       "  <tbody>\n",
       "    <tr>\n",
       "      <th>count</th>\n",
       "      <td>5000</td>\n",
       "      <td>5000</td>\n",
       "    </tr>\n",
       "    <tr>\n",
       "      <th>unique</th>\n",
       "      <td>4949</td>\n",
       "      <td>114</td>\n",
       "    </tr>\n",
       "    <tr>\n",
       "      <th>top</th>\n",
       "      <td>Children Of Bodom</td>\n",
       "      <td>USA</td>\n",
       "    </tr>\n",
       "    <tr>\n",
       "      <th>freq</th>\n",
       "      <td>2</td>\n",
       "      <td>1139</td>\n",
       "    </tr>\n",
       "  </tbody>\n",
       "</table>\n",
       "</div>"
      ],
      "text/plain": [
       "                band_name origin\n",
       "count                5000   5000\n",
       "unique               4949    114\n",
       "top     Children Of Bodom    USA\n",
       "freq                    2   1139"
      ]
     },
     "execution_count": 36,
     "metadata": {},
     "output_type": "execute_result"
    }
   ],
   "source": [
    "data.describe(include=['object'])"
   ]
  },
  {
   "cell_type": "code",
   "execution_count": 37,
   "metadata": {},
   "outputs": [
    {
     "data": {
      "image/png": "[encoded data removed]",
      "text/plain": [
       "<matplotlib.figure.Figure at 0x54a02b0b38>"
      ]
     },
     "metadata": {},
     "output_type": "display_data"
    }
   ],
   "source": [
    "formed = data.groupby(['formed'])['formed'].count()\n",
    "fplot = formed.plot(kind='bar', figsize=(12, 5), colormap='Accent', title='Formed time')"
   ]
  },
  {
   "cell_type": "code",
   "execution_count": 38,
   "metadata": {},
   "outputs": [
    {
     "data": {
      "image/png": "[encoded data removed]",
      "text/plain": [
       "<matplotlib.figure.Figure at 0x54a023acf8>"
      ]
     },
     "metadata": {},
     "output_type": "display_data"
    }
   ],
   "source": [
    "split = data.groupby(['split'])['split'].count()\n",
    "splot = split.plot(kind='bar', figsize=(12, 5), colormap='Accent', title='split time')"
   ]
  },
  {
   "cell_type": "code",
   "execution_count": 39,
   "metadata": {},
   "outputs": [
    {
     "data": {
      "image/png": "[encoded data removed]",
      "text/plain": [
       "<matplotlib.figure.Figure at 0x54a0135c18>"
      ]
     },
     "metadata": {},
     "output_type": "display_data"
    }
   ],
   "source": [
    "formed = data.groupby(['formed'])['formed'].count()\n",
    "split = data.groupby(['split'])['split'].count()\n",
    "fs = pd.concat([formed, split], axis=1)\n",
    "fsplot = fs.plot(kind='bar', figsize=(15, 7), colormap='Accent', title='Formed vs Split bands over time')"
   ]
  },
  {
   "cell_type": "markdown",
   "metadata": {},
   "source": [
    "#### Нормализация количественных признаков"
   ]
  },
  {
   "cell_type": "code",
   "execution_count": 40,
   "metadata": {
    "collapsed": true
   },
   "outputs": [],
   "source": [
    "categorical_columns = [col for col in data.columns if data[col].dtype.name == 'object']\n",
    "numerical_columns   = [col for col in data.columns if data[col].dtype.name != 'object']"
   ]
  },
  {
   "cell_type": "code",
   "execution_count": 41,
   "metadata": {
    "scrolled": true
   },
   "outputs": [
    {
     "name": "stdout",
     "output_type": "stream",
     "text": [
      "['band_name', 'origin']\n"
     ]
    }
   ],
   "source": [
    "print(categorical_columns)"
   ]
  },
  {
   "cell_type": "code",
   "execution_count": 42,
   "metadata": {},
   "outputs": [
    {
     "name": "stdout",
     "output_type": "stream",
     "text": [
      "['fans', 'formed', 'split', 'st_A', 'st_Acoustic', 'st_Acoustic folk', 'st_Acoustic rock', 'st_Adult', 'st_Aggrotech', 'st_Alternative', 'st_Alternative rock', 'st_Alternative thrash', 'st_Ambient', 'st_Ambient ', 'st_Ambient black', 'st_Ambient noise', 'st_Atmospheric', 'st_Atmospheric black', 'st_Atmospheric blackinstrumental', 'st_Atmospheric death', 'st_Atmospheric doom', 'st_Atmospheric folk', 'st_Atmospheric gothic', 'st_Atmospheric progressive', 'st_Atmospheric rock', 'st_Atmospheric sludge', 'st_Atmospheric symphonic', 'st_Avantgarde', 'st_Avantgarde ', 'st_Avantgarde black', 'st_Avantgarde death', 'st_Avantgarde doom', 'st_Avantgarde math', 'st_Avantgarde metalcore', 'st_Avantgarde rock', 'st_B', 'st_Bay area thrash', 'st_Black', \"st_Black 'n\", 'st_Blackened death', 'st_Blackened deathcore', 'st_Blackened doom', 'st_Blackened folk', 'st_Blackened gothic', 'st_Blackened grindcore', 'st_Blackened hardcore', 'st_Blackened heavy', 'st_Blackened progressive', 'st_Blackened sludge', 'st_Blackened thrash', 'st_Blues rock', 'st_Brutal death', 'st_Brutal deathcore', 'st_Cappella', 'st_Celtic black', 'st_Celtic death', 'st_Celtic doom', 'st_Celtic folk', 'st_Comedy', 'st_Comedy rock', 'st_Country', 'st_Crossover folk', 'st_Crossover thrash', 'st_Crust', 'st_Crust punk', 'st_Crust punk ', 'st_Cyber grindcore', 'st_Cybergrind', 'st_D-beat', 'st_Dance', 'st_Dark', 'st_Dark ambient', 'st_Dark cabaret', 'st_Darkwave', 'st_Death', \"st_Death '\", 'st_Death doom', 'st_Death rock', 'st_Deathcore', 'st_Deathgrind', 'st_Depressive black', 'st_Depressive heavy', 'st_Djent', 'st_Djent ', 'st_Doom', 'st_Drone', 'st_Drone ', 'st_Drone doom', 'st_E', 'st_Electro avantgarde', 'st_Electro gothic', 'st_Electro industrial', 'st_Electronic', 'st_Electronic industrial', 'st_Electronic symphonic', 'st_Electronica', 'st_Electronics ', 'st_Epic doom', 'st_Experimental', 'st_Experimental ', 'st_Experimental black', 'st_Experimental death', 'st_Experimental doom', 'st_Experimental folk', 'st_Experimental gothic', 'st_Experimental grindcore', 'st_Experimental industrial', 'st_Experimental progressive', 'st_Experimental rock', 'st_Experimental thrash', 'st_Extreme avantgarde', 'st_Extreme folk', 'st_Extreme gothic', 'st_Extreme industrial', 'st_Extreme power', 'st_Extreme progressive', 'st_Extreme sludge', 'st_Extreme symphonic', 'st_First wave of black', 'st_Folk', 'st_Folk black', 'st_Folk rock', 'st_Funeral doom', 'st_Funk rock', 'st_Fusion', 'st_Fusion ', 'st_Glam', 'st_Glam rock', 'st_Gore grindcore', 'st_Goregrind', 'st_Goregrind ', 'st_Gothenburg', 'st_Gothic', 'st_Gothic black', 'st_Gothic death', 'st_Gothic doom', 'st_Gothic folk', 'st_Gothic industrial', 'st_Gothic rock', 'st_Grindcore', 'st_Groove heavy', 'st_Groove metal', 'st_Groove metal ', 'st_Groove thrash', 'st_Grunge', 'st_Grunge ', 'st_Grunge rock', 'st_Hard rock', 'st_Hardcore', 'st_Heavy', 'st_Hop', 'st_Horror', 'st_Industrial', 'st_Industrial black', 'st_Industrial death', 'st_Industrial doom', 'st_Industrial folk', 'st_Industrial gothic', 'st_Industrial grindcore', 'st_Industrial heavy', 'st_Industrial progressive', 'st_Industrial rock', 'st_Industrial thrash', 'st_Instrumental', 'st_Instrumental hard rock', 'st_Instrumental heavy', 'st_Instrumental post-metal', 'st_Instrumental power', 'st_J rock', 'st_J-', 'st_J-rock', 'st_Jazz', 'st_Jazz ', 'st_Jazz fusion', 'st_Jazz rock', 'st_Krautrock', 'st_M ', 'st_Math', 'st_Medieval', 'st_Medieval folk', 'st_Melodic black', 'st_Melodic death', 'st_Melodic deathcore', 'st_Melodic doom', 'st_Melodic hard rock', 'st_Melodic hardcore', 'st_Melodic heavy', 'st_Melodic metalcore', 'st_Melodic power', 'st_Melodic progressive', 'st_Melodic thrash', 'st_Metal', 'st_Metalcore', 'st_Modern gothenburg', 'st_Modern thrash', \"st_N'\", 'st_Neoclassical', 'st_Neoclassical darkwave', 'st_Neoclassical heavy', 'st_Neoclassical power', 'st_Neoclassical symphonic', 'st_Neofolk', 'st_Neofolk ', 'st_New', 'st_New age', 'st_New wave of british heavy', 'st_Noise', 'st_Noise rock', 'st_Noisecore', 'st_Nu', 'st_Nu thrash', 'st_Of british heavy', 'st_Oriental folk', 'st_Oriented rock', 'st_Pagan black', 'st_Pagan folk', 'st_Pagan thrash', 'st_Pop', 'st_Pop rock', 'st_Post-', 'st_Post-hardcore', 'st_Post-hardcore ', 'st_Post-metal', 'st_Post-punk', 'st_Post-rock', 'st_Power', 'st_Progressive', 'st_Progressive black', 'st_Progressive death', 'st_Progressive deathcore', 'st_Progressive doom', 'st_Progressive folk', 'st_Progressive gothic', 'st_Progressive grindcore', 'st_Progressive hard rock', 'st_Progressive heavy', 'st_Progressive math', 'st_Progressive metalcore', 'st_Progressive power', 'st_Progressive rock', 'st_Progressive sludge', 'st_Progressive stoner', 'st_Progressive symphonic', 'st_Progressive thrash', 'st_Progressiveinstrumental', 'st_Psychedelic black', 'st_Psychedelic death', 'st_Psychedelic doom', 'st_Psychedelic hard rock', 'st_Psychedelic rock', 'st_Psychedelic sludge', 'st_Psychedelic stoner', 'st_Punk', 'st_Punk ', 'st_Punk rock', 'st_Ragga', 'st_Rap', 'st_Rock', 'st_Rock ', 'st_Roll', 'st_Roll ', 'st_Shoegaze', 'st_Shoegaze ', 'st_Shred', 'st_Sludge', 'st_Speed', 'st_Stoner', 'st_Stoner rock', 'st_Stonerinstrumental', 'st_Suomi', 'st_Symphonic', 'st_Symphonic black', 'st_Symphonic death', 'st_Symphonic deathcore', 'st_Symphonic doom', 'st_Symphonic folk', 'st_Symphonic gothic', 'st_Symphonic heavy', 'st_Symphonic math', 'st_Symphonic power', 'st_Symphonic progressive', 'st_Symphonic rock', 'st_Synth pop', 'st_Technical black', 'st_Technical death', 'st_Technical deathcore', 'st_Technical grindcore', 'st_Technical metalcore', 'st_Technical progressive', 'st_Technical thrash', 'st_Teutonic thrash', 'st_Thrash', 'st_Trancecore', 'st_Trip-', 'st_Us heavy', 'st_Us power', 'st_Viking black', 'st_Viking folk', 'st_Wave', 'st_Wave ']\n"
     ]
    }
   ],
   "source": [
    "print(numerical_columns)"
   ]
  },
  {
   "cell_type": "markdown",
   "metadata": {},
   "source": [
    "#### Дадим каждой стране её номер(число), чтобы избавиться от категориального признака."
   ]
  },
  {
   "cell_type": "code",
   "execution_count": 43,
   "metadata": {
    "collapsed": true
   },
   "outputs": [],
   "source": [
    "data.origin = pd.Categorical(data.origin)\n",
    "data['origin_encoded'] = data.origin.cat.codes"
   ]
  },
  {
   "cell_type": "markdown",
   "metadata": {},
   "source": [
    "## Подготовка split "
   ]
  },
  {
   "cell_type": "markdown",
   "metadata": {
    "collapsed": true
   },
   "source": [
    "### Сделаем 'split' бинарным признаком, чтобы потом его предсказывать (распалась группа или нет)"
   ]
  },
  {
   "cell_type": "code",
   "execution_count": 44,
   "metadata": {},
   "outputs": [
    {
     "data": {
      "text/plain": [
       "0          NaN\n",
       "1       1990.0\n",
       "2          NaN\n",
       "3       1983.0\n",
       "4          NaN\n",
       "5       1981.0\n",
       "6       2001.0\n",
       "7       1985.0\n",
       "8          NaN\n",
       "9       1996.0\n",
       "10         NaN\n",
       "11      1969.0\n",
       "12         NaN\n",
       "13      1990.0\n",
       "14      2003.0\n",
       "15      1989.0\n",
       "16      2016.0\n",
       "17      1995.0\n",
       "18         NaN\n",
       "19      1991.0\n",
       "20         NaN\n",
       "21      1993.0\n",
       "22         NaN\n",
       "23      2004.0\n",
       "24         NaN\n",
       "25      1990.0\n",
       "26         NaN\n",
       "27      1988.0\n",
       "28         NaN\n",
       "29      1983.0\n",
       "         ...  \n",
       "4970       NaN\n",
       "4971    2009.0\n",
       "4972       NaN\n",
       "4973    2012.0\n",
       "4974       NaN\n",
       "4975    2008.0\n",
       "4976       NaN\n",
       "4977    2000.0\n",
       "4978       NaN\n",
       "4979    2008.0\n",
       "4980       NaN\n",
       "4981    2007.0\n",
       "4982       NaN\n",
       "4983    2002.0\n",
       "4984       NaN\n",
       "4985    2009.0\n",
       "4986       NaN\n",
       "4987    1997.0\n",
       "4988       NaN\n",
       "4989    2012.0\n",
       "4990       NaN\n",
       "4991    1996.0\n",
       "4992       NaN\n",
       "4993    1991.0\n",
       "4994       NaN\n",
       "4995    2006.0\n",
       "4996       NaN\n",
       "4997    2006.0\n",
       "4998    1988.0\n",
       "4999    2014.0\n",
       "Name: split, Length: 5000, dtype: float64"
      ]
     },
     "execution_count": 44,
     "metadata": {},
     "output_type": "execute_result"
    }
   ],
   "source": [
    "data['split']"
   ]
  },
  {
   "cell_type": "code",
   "execution_count": 45,
   "metadata": {
    "collapsed": true
   },
   "outputs": [],
   "source": [
    "data.split = data.split.isnull()"
   ]
  },
  {
   "cell_type": "code",
   "execution_count": 46,
   "metadata": {},
   "outputs": [
    {
     "data": {
      "text/plain": [
       "array([ True, False], dtype=bool)"
      ]
     },
     "execution_count": 46,
     "metadata": {},
     "output_type": "execute_result"
    }
   ],
   "source": [
    "data['split'].unique()"
   ]
  },
  {
   "cell_type": "code",
   "execution_count": 47,
   "metadata": {
    "collapsed": true
   },
   "outputs": [],
   "source": [
    "data.split = data.split.astype('int16')\n"
   ]
  },
  {
   "cell_type": "markdown",
   "metadata": {},
   "source": [
    "### 8 и 3 это любые, взятые от балды значения, просто нужно поменять 1 и 0 местами"
   ]
  },
  {
   "cell_type": "code",
   "execution_count": 48,
   "metadata": {
    "collapsed": true
   },
   "outputs": [],
   "source": [
    "data.at[data['split'] == 1, 'split'] = 8\n",
    "data.at[data['split'] == 0, 'split'] = 3"
   ]
  },
  {
   "cell_type": "code",
   "execution_count": 49,
   "metadata": {
    "scrolled": true
   },
   "outputs": [
    {
     "data": {
      "text/plain": [
       "array([8, 3], dtype=int64)"
      ]
     },
     "execution_count": 49,
     "metadata": {},
     "output_type": "execute_result"
    }
   ],
   "source": [
    "data['split'].unique()"
   ]
  },
  {
   "cell_type": "markdown",
   "metadata": {},
   "source": [
    "### Будем считать, что группа распалась, если равно 1 и НЕ распалась если 0"
   ]
  },
  {
   "cell_type": "code",
   "execution_count": 50,
   "metadata": {
    "collapsed": true
   },
   "outputs": [],
   "source": [
    "data.at[data['split'] == 8, 'split'] = 0\n",
    "data.at[data['split'] == 3, 'split'] = 1"
   ]
  },
  {
   "cell_type": "code",
   "execution_count": 51,
   "metadata": {},
   "outputs": [
    {
     "data": {
      "text/plain": [
       "array([0, 1], dtype=int64)"
      ]
     },
     "execution_count": 51,
     "metadata": {},
     "output_type": "execute_result"
    }
   ],
   "source": [
    "data['split'].unique()"
   ]
  },
  {
   "cell_type": "code",
   "execution_count": 52,
   "metadata": {},
   "outputs": [
    {
     "data": {
      "text/plain": [
       "0       0\n",
       "1       1\n",
       "2       0\n",
       "3       1\n",
       "4       0\n",
       "5       1\n",
       "6       1\n",
       "7       1\n",
       "8       0\n",
       "9       1\n",
       "10      0\n",
       "11      1\n",
       "12      0\n",
       "13      1\n",
       "14      1\n",
       "15      1\n",
       "16      1\n",
       "17      1\n",
       "18      0\n",
       "19      1\n",
       "20      0\n",
       "21      1\n",
       "22      0\n",
       "23      1\n",
       "24      0\n",
       "25      1\n",
       "26      0\n",
       "27      1\n",
       "28      0\n",
       "29      1\n",
       "       ..\n",
       "4970    0\n",
       "4971    1\n",
       "4972    0\n",
       "4973    1\n",
       "4974    0\n",
       "4975    1\n",
       "4976    0\n",
       "4977    1\n",
       "4978    0\n",
       "4979    1\n",
       "4980    0\n",
       "4981    1\n",
       "4982    0\n",
       "4983    1\n",
       "4984    0\n",
       "4985    1\n",
       "4986    0\n",
       "4987    1\n",
       "4988    0\n",
       "4989    1\n",
       "4990    0\n",
       "4991    1\n",
       "4992    0\n",
       "4993    1\n",
       "4994    0\n",
       "4995    1\n",
       "4996    0\n",
       "4997    1\n",
       "4998    1\n",
       "4999    1\n",
       "Name: split, Length: 5000, dtype: int16"
      ]
     },
     "execution_count": 52,
     "metadata": {},
     "output_type": "execute_result"
    }
   ],
   "source": [
    "data['split']"
   ]
  },
  {
   "cell_type": "code",
   "execution_count": 53,
   "metadata": {
    "scrolled": true
   },
   "outputs": [
    {
     "data": {
      "text/html": [
       "<div>\n",
       "<style>\n",
       "    .dataframe thead tr:only-child th {\n",
       "        text-align: right;\n",
       "    }\n",
       "\n",
       "    .dataframe thead th {\n",
       "        text-align: left;\n",
       "    }\n",
       "\n",
       "    .dataframe tbody tr th {\n",
       "        vertical-align: top;\n",
       "    }\n",
       "</style>\n",
       "<table border=\"1\" class=\"dataframe\">\n",
       "  <thead>\n",
       "    <tr style=\"text-align: right;\">\n",
       "      <th></th>\n",
       "      <th>band_name</th>\n",
       "      <th>fans</th>\n",
       "      <th>formed</th>\n",
       "      <th>origin</th>\n",
       "      <th>split</th>\n",
       "      <th>st_A</th>\n",
       "      <th>st_Acoustic</th>\n",
       "      <th>st_Acoustic folk</th>\n",
       "      <th>st_Acoustic rock</th>\n",
       "      <th>st_Adult</th>\n",
       "      <th>...</th>\n",
       "      <th>st_Thrash</th>\n",
       "      <th>st_Trancecore</th>\n",
       "      <th>st_Trip-</th>\n",
       "      <th>st_Us heavy</th>\n",
       "      <th>st_Us power</th>\n",
       "      <th>st_Viking black</th>\n",
       "      <th>st_Viking folk</th>\n",
       "      <th>st_Wave</th>\n",
       "      <th>st_Wave</th>\n",
       "      <th>origin_encoded</th>\n",
       "    </tr>\n",
       "  </thead>\n",
       "  <tbody>\n",
       "    <tr>\n",
       "      <th>count</th>\n",
       "      <td>5000</td>\n",
       "      <td>5000.000000</td>\n",
       "      <td>5000.00000</td>\n",
       "      <td>5000</td>\n",
       "      <td>5000.00000</td>\n",
       "      <td>5000.000000</td>\n",
       "      <td>5000.000000</td>\n",
       "      <td>5000.000000</td>\n",
       "      <td>5000.000000</td>\n",
       "      <td>5000.000000</td>\n",
       "      <td>...</td>\n",
       "      <td>5000.000000</td>\n",
       "      <td>5000.000000</td>\n",
       "      <td>5000.000000</td>\n",
       "      <td>5000.000000</td>\n",
       "      <td>5000.000000</td>\n",
       "      <td>5000.000000</td>\n",
       "      <td>5000.000000</td>\n",
       "      <td>5000.00000</td>\n",
       "      <td>5000.000000</td>\n",
       "      <td>5000.00000</td>\n",
       "    </tr>\n",
       "    <tr>\n",
       "      <th>unique</th>\n",
       "      <td>4949</td>\n",
       "      <td>NaN</td>\n",
       "      <td>NaN</td>\n",
       "      <td>114</td>\n",
       "      <td>NaN</td>\n",
       "      <td>NaN</td>\n",
       "      <td>NaN</td>\n",
       "      <td>NaN</td>\n",
       "      <td>NaN</td>\n",
       "      <td>NaN</td>\n",
       "      <td>...</td>\n",
       "      <td>NaN</td>\n",
       "      <td>NaN</td>\n",
       "      <td>NaN</td>\n",
       "      <td>NaN</td>\n",
       "      <td>NaN</td>\n",
       "      <td>NaN</td>\n",
       "      <td>NaN</td>\n",
       "      <td>NaN</td>\n",
       "      <td>NaN</td>\n",
       "      <td>NaN</td>\n",
       "    </tr>\n",
       "    <tr>\n",
       "      <th>top</th>\n",
       "      <td>Children Of Bodom</td>\n",
       "      <td>NaN</td>\n",
       "      <td>NaN</td>\n",
       "      <td>USA</td>\n",
       "      <td>NaN</td>\n",
       "      <td>NaN</td>\n",
       "      <td>NaN</td>\n",
       "      <td>NaN</td>\n",
       "      <td>NaN</td>\n",
       "      <td>NaN</td>\n",
       "      <td>...</td>\n",
       "      <td>NaN</td>\n",
       "      <td>NaN</td>\n",
       "      <td>NaN</td>\n",
       "      <td>NaN</td>\n",
       "      <td>NaN</td>\n",
       "      <td>NaN</td>\n",
       "      <td>NaN</td>\n",
       "      <td>NaN</td>\n",
       "      <td>NaN</td>\n",
       "      <td>NaN</td>\n",
       "    </tr>\n",
       "    <tr>\n",
       "      <th>freq</th>\n",
       "      <td>2</td>\n",
       "      <td>NaN</td>\n",
       "      <td>NaN</td>\n",
       "      <td>1139</td>\n",
       "      <td>NaN</td>\n",
       "      <td>NaN</td>\n",
       "      <td>NaN</td>\n",
       "      <td>NaN</td>\n",
       "      <td>NaN</td>\n",
       "      <td>NaN</td>\n",
       "      <td>...</td>\n",
       "      <td>NaN</td>\n",
       "      <td>NaN</td>\n",
       "      <td>NaN</td>\n",
       "      <td>NaN</td>\n",
       "      <td>NaN</td>\n",
       "      <td>NaN</td>\n",
       "      <td>NaN</td>\n",
       "      <td>NaN</td>\n",
       "      <td>NaN</td>\n",
       "      <td>NaN</td>\n",
       "    </tr>\n",
       "    <tr>\n",
       "      <th>mean</th>\n",
       "      <td>NaN</td>\n",
       "      <td>87.805800</td>\n",
       "      <td>2000.40920</td>\n",
       "      <td>NaN</td>\n",
       "      <td>0.55700</td>\n",
       "      <td>0.000200</td>\n",
       "      <td>0.000200</td>\n",
       "      <td>0.000200</td>\n",
       "      <td>0.000200</td>\n",
       "      <td>0.000200</td>\n",
       "      <td>...</td>\n",
       "      <td>0.079200</td>\n",
       "      <td>0.000800</td>\n",
       "      <td>0.000400</td>\n",
       "      <td>0.000200</td>\n",
       "      <td>0.008200</td>\n",
       "      <td>0.003600</td>\n",
       "      <td>0.005400</td>\n",
       "      <td>0.00060</td>\n",
       "      <td>0.000200</td>\n",
       "      <td>71.13240</td>\n",
       "    </tr>\n",
       "    <tr>\n",
       "      <th>std</th>\n",
       "      <td>NaN</td>\n",
       "      <td>296.137523</td>\n",
       "      <td>8.89159</td>\n",
       "      <td>NaN</td>\n",
       "      <td>0.49679</td>\n",
       "      <td>0.014142</td>\n",
       "      <td>0.014142</td>\n",
       "      <td>0.014142</td>\n",
       "      <td>0.014142</td>\n",
       "      <td>0.014142</td>\n",
       "      <td>...</td>\n",
       "      <td>0.270078</td>\n",
       "      <td>0.028276</td>\n",
       "      <td>0.019998</td>\n",
       "      <td>0.014142</td>\n",
       "      <td>0.090191</td>\n",
       "      <td>0.059898</td>\n",
       "      <td>0.073293</td>\n",
       "      <td>0.02449</td>\n",
       "      <td>0.014142</td>\n",
       "      <td>35.16614</td>\n",
       "    </tr>\n",
       "    <tr>\n",
       "      <th>min</th>\n",
       "      <td>NaN</td>\n",
       "      <td>0.000000</td>\n",
       "      <td>1964.00000</td>\n",
       "      <td>NaN</td>\n",
       "      <td>0.00000</td>\n",
       "      <td>0.000000</td>\n",
       "      <td>0.000000</td>\n",
       "      <td>0.000000</td>\n",
       "      <td>0.000000</td>\n",
       "      <td>0.000000</td>\n",
       "      <td>...</td>\n",
       "      <td>0.000000</td>\n",
       "      <td>0.000000</td>\n",
       "      <td>0.000000</td>\n",
       "      <td>0.000000</td>\n",
       "      <td>0.000000</td>\n",
       "      <td>0.000000</td>\n",
       "      <td>0.000000</td>\n",
       "      <td>0.00000</td>\n",
       "      <td>0.000000</td>\n",
       "      <td>0.00000</td>\n",
       "    </tr>\n",
       "    <tr>\n",
       "      <th>25%</th>\n",
       "      <td>NaN</td>\n",
       "      <td>4.000000</td>\n",
       "      <td>1995.00000</td>\n",
       "      <td>NaN</td>\n",
       "      <td>0.00000</td>\n",
       "      <td>0.000000</td>\n",
       "      <td>0.000000</td>\n",
       "      <td>0.000000</td>\n",
       "      <td>0.000000</td>\n",
       "      <td>0.000000</td>\n",
       "      <td>...</td>\n",
       "      <td>0.000000</td>\n",
       "      <td>0.000000</td>\n",
       "      <td>0.000000</td>\n",
       "      <td>0.000000</td>\n",
       "      <td>0.000000</td>\n",
       "      <td>0.000000</td>\n",
       "      <td>0.000000</td>\n",
       "      <td>0.00000</td>\n",
       "      <td>0.000000</td>\n",
       "      <td>37.00000</td>\n",
       "    </tr>\n",
       "    <tr>\n",
       "      <th>50%</th>\n",
       "      <td>NaN</td>\n",
       "      <td>12.000000</td>\n",
       "      <td>2002.00000</td>\n",
       "      <td>NaN</td>\n",
       "      <td>1.00000</td>\n",
       "      <td>0.000000</td>\n",
       "      <td>0.000000</td>\n",
       "      <td>0.000000</td>\n",
       "      <td>0.000000</td>\n",
       "      <td>0.000000</td>\n",
       "      <td>...</td>\n",
       "      <td>0.000000</td>\n",
       "      <td>0.000000</td>\n",
       "      <td>0.000000</td>\n",
       "      <td>0.000000</td>\n",
       "      <td>0.000000</td>\n",
       "      <td>0.000000</td>\n",
       "      <td>0.000000</td>\n",
       "      <td>0.00000</td>\n",
       "      <td>0.000000</td>\n",
       "      <td>83.00000</td>\n",
       "    </tr>\n",
       "    <tr>\n",
       "      <th>75%</th>\n",
       "      <td>NaN</td>\n",
       "      <td>42.000000</td>\n",
       "      <td>2007.00000</td>\n",
       "      <td>NaN</td>\n",
       "      <td>1.00000</td>\n",
       "      <td>0.000000</td>\n",
       "      <td>0.000000</td>\n",
       "      <td>0.000000</td>\n",
       "      <td>0.000000</td>\n",
       "      <td>0.000000</td>\n",
       "      <td>...</td>\n",
       "      <td>0.000000</td>\n",
       "      <td>0.000000</td>\n",
       "      <td>0.000000</td>\n",
       "      <td>0.000000</td>\n",
       "      <td>0.000000</td>\n",
       "      <td>0.000000</td>\n",
       "      <td>0.000000</td>\n",
       "      <td>0.00000</td>\n",
       "      <td>0.000000</td>\n",
       "      <td>106.00000</td>\n",
       "    </tr>\n",
       "    <tr>\n",
       "      <th>max</th>\n",
       "      <td>NaN</td>\n",
       "      <td>4195.000000</td>\n",
       "      <td>2016.00000</td>\n",
       "      <td>NaN</td>\n",
       "      <td>1.00000</td>\n",
       "      <td>1.000000</td>\n",
       "      <td>1.000000</td>\n",
       "      <td>1.000000</td>\n",
       "      <td>1.000000</td>\n",
       "      <td>1.000000</td>\n",
       "      <td>...</td>\n",
       "      <td>1.000000</td>\n",
       "      <td>1.000000</td>\n",
       "      <td>1.000000</td>\n",
       "      <td>1.000000</td>\n",
       "      <td>1.000000</td>\n",
       "      <td>1.000000</td>\n",
       "      <td>1.000000</td>\n",
       "      <td>1.00000</td>\n",
       "      <td>1.000000</td>\n",
       "      <td>113.00000</td>\n",
       "    </tr>\n",
       "  </tbody>\n",
       "</table>\n",
       "<p>11 rows × 303 columns</p>\n",
       "</div>"
      ],
      "text/plain": [
       "                band_name         fans      formed origin       split  \\\n",
       "count                5000  5000.000000  5000.00000   5000  5000.00000   \n",
       "unique               4949          NaN         NaN    114         NaN   \n",
       "top     Children Of Bodom          NaN         NaN    USA         NaN   \n",
       "freq                    2          NaN         NaN   1139         NaN   \n",
       "mean                  NaN    87.805800  2000.40920    NaN     0.55700   \n",
       "std                   NaN   296.137523     8.89159    NaN     0.49679   \n",
       "min                   NaN     0.000000  1964.00000    NaN     0.00000   \n",
       "25%                   NaN     4.000000  1995.00000    NaN     0.00000   \n",
       "50%                   NaN    12.000000  2002.00000    NaN     1.00000   \n",
       "75%                   NaN    42.000000  2007.00000    NaN     1.00000   \n",
       "max                   NaN  4195.000000  2016.00000    NaN     1.00000   \n",
       "\n",
       "               st_A  st_Acoustic  st_Acoustic folk  st_Acoustic rock  \\\n",
       "count   5000.000000  5000.000000       5000.000000       5000.000000   \n",
       "unique          NaN          NaN               NaN               NaN   \n",
       "top             NaN          NaN               NaN               NaN   \n",
       "freq            NaN          NaN               NaN               NaN   \n",
       "mean       0.000200     0.000200          0.000200          0.000200   \n",
       "std        0.014142     0.014142          0.014142          0.014142   \n",
       "min        0.000000     0.000000          0.000000          0.000000   \n",
       "25%        0.000000     0.000000          0.000000          0.000000   \n",
       "50%        0.000000     0.000000          0.000000          0.000000   \n",
       "75%        0.000000     0.000000          0.000000          0.000000   \n",
       "max        1.000000     1.000000          1.000000          1.000000   \n",
       "\n",
       "           st_Adult       ...          st_Thrash  st_Trancecore     st_Trip-  \\\n",
       "count   5000.000000       ...        5000.000000    5000.000000  5000.000000   \n",
       "unique          NaN       ...                NaN            NaN          NaN   \n",
       "top             NaN       ...                NaN            NaN          NaN   \n",
       "freq            NaN       ...                NaN            NaN          NaN   \n",
       "mean       0.000200       ...           0.079200       0.000800     0.000400   \n",
       "std        0.014142       ...           0.270078       0.028276     0.019998   \n",
       "min        0.000000       ...           0.000000       0.000000     0.000000   \n",
       "25%        0.000000       ...           0.000000       0.000000     0.000000   \n",
       "50%        0.000000       ...           0.000000       0.000000     0.000000   \n",
       "75%        0.000000       ...           0.000000       0.000000     0.000000   \n",
       "max        1.000000       ...           1.000000       1.000000     1.000000   \n",
       "\n",
       "        st_Us heavy  st_Us power  st_Viking black  st_Viking folk     st_Wave  \\\n",
       "count   5000.000000  5000.000000      5000.000000     5000.000000  5000.00000   \n",
       "unique          NaN          NaN              NaN             NaN         NaN   \n",
       "top             NaN          NaN              NaN             NaN         NaN   \n",
       "freq            NaN          NaN              NaN             NaN         NaN   \n",
       "mean       0.000200     0.008200         0.003600        0.005400     0.00060   \n",
       "std        0.014142     0.090191         0.059898        0.073293     0.02449   \n",
       "min        0.000000     0.000000         0.000000        0.000000     0.00000   \n",
       "25%        0.000000     0.000000         0.000000        0.000000     0.00000   \n",
       "50%        0.000000     0.000000         0.000000        0.000000     0.00000   \n",
       "75%        0.000000     0.000000         0.000000        0.000000     0.00000   \n",
       "max        1.000000     1.000000         1.000000        1.000000     1.00000   \n",
       "\n",
       "           st_Wave   origin_encoded  \n",
       "count   5000.000000      5000.00000  \n",
       "unique          NaN             NaN  \n",
       "top             NaN             NaN  \n",
       "freq            NaN             NaN  \n",
       "mean       0.000200        71.13240  \n",
       "std        0.014142        35.16614  \n",
       "min        0.000000         0.00000  \n",
       "25%        0.000000        37.00000  \n",
       "50%        0.000000        83.00000  \n",
       "75%        0.000000       106.00000  \n",
       "max        1.000000       113.00000  \n",
       "\n",
       "[11 rows x 303 columns]"
      ]
     },
     "execution_count": 53,
     "metadata": {},
     "output_type": "execute_result"
    }
   ],
   "source": [
    "data.describe(include = 'all')"
   ]
  },
  {
   "cell_type": "markdown",
   "metadata": {},
   "source": [
    "# Конец подготовки split"
   ]
  },
  {
   "cell_type": "code",
   "execution_count": 54,
   "metadata": {
    "scrolled": false
   },
   "outputs": [
    {
     "data": {
      "text/html": [
       "<div>\n",
       "<style>\n",
       "    .dataframe thead tr:only-child th {\n",
       "        text-align: right;\n",
       "    }\n",
       "\n",
       "    .dataframe thead th {\n",
       "        text-align: left;\n",
       "    }\n",
       "\n",
       "    .dataframe tbody tr th {\n",
       "        vertical-align: top;\n",
       "    }\n",
       "</style>\n",
       "<table border=\"1\" class=\"dataframe\">\n",
       "  <thead>\n",
       "    <tr style=\"text-align: right;\">\n",
       "      <th></th>\n",
       "      <th>band_name</th>\n",
       "      <th>fans</th>\n",
       "      <th>formed</th>\n",
       "      <th>origin</th>\n",
       "      <th>split</th>\n",
       "      <th>st_A</th>\n",
       "      <th>st_Acoustic</th>\n",
       "      <th>st_Acoustic folk</th>\n",
       "      <th>st_Acoustic rock</th>\n",
       "      <th>st_Adult</th>\n",
       "      <th>...</th>\n",
       "      <th>st_Thrash</th>\n",
       "      <th>st_Trancecore</th>\n",
       "      <th>st_Trip-</th>\n",
       "      <th>st_Us heavy</th>\n",
       "      <th>st_Us power</th>\n",
       "      <th>st_Viking black</th>\n",
       "      <th>st_Viking folk</th>\n",
       "      <th>st_Wave</th>\n",
       "      <th>st_Wave</th>\n",
       "      <th>origin_encoded</th>\n",
       "    </tr>\n",
       "  </thead>\n",
       "  <tbody>\n",
       "    <tr>\n",
       "      <th>0</th>\n",
       "      <td>Iron Maiden</td>\n",
       "      <td>4195</td>\n",
       "      <td>1975</td>\n",
       "      <td>United Kingdom</td>\n",
       "      <td>0</td>\n",
       "      <td>0</td>\n",
       "      <td>0</td>\n",
       "      <td>0</td>\n",
       "      <td>0</td>\n",
       "      <td>0</td>\n",
       "      <td>...</td>\n",
       "      <td>0</td>\n",
       "      <td>0</td>\n",
       "      <td>0</td>\n",
       "      <td>0</td>\n",
       "      <td>0</td>\n",
       "      <td>0</td>\n",
       "      <td>0</td>\n",
       "      <td>0</td>\n",
       "      <td>0</td>\n",
       "      <td>110</td>\n",
       "    </tr>\n",
       "    <tr>\n",
       "      <th>1</th>\n",
       "      <td>Opeth</td>\n",
       "      <td>4147</td>\n",
       "      <td>1990</td>\n",
       "      <td>Sweden</td>\n",
       "      <td>1</td>\n",
       "      <td>0</td>\n",
       "      <td>0</td>\n",
       "      <td>0</td>\n",
       "      <td>0</td>\n",
       "      <td>0</td>\n",
       "      <td>...</td>\n",
       "      <td>0</td>\n",
       "      <td>0</td>\n",
       "      <td>0</td>\n",
       "      <td>0</td>\n",
       "      <td>0</td>\n",
       "      <td>0</td>\n",
       "      <td>0</td>\n",
       "      <td>0</td>\n",
       "      <td>0</td>\n",
       "      <td>97</td>\n",
       "    </tr>\n",
       "    <tr>\n",
       "      <th>2</th>\n",
       "      <td>Metallica</td>\n",
       "      <td>3712</td>\n",
       "      <td>1981</td>\n",
       "      <td>USA</td>\n",
       "      <td>0</td>\n",
       "      <td>0</td>\n",
       "      <td>0</td>\n",
       "      <td>0</td>\n",
       "      <td>0</td>\n",
       "      <td>0</td>\n",
       "      <td>...</td>\n",
       "      <td>0</td>\n",
       "      <td>0</td>\n",
       "      <td>0</td>\n",
       "      <td>0</td>\n",
       "      <td>0</td>\n",
       "      <td>0</td>\n",
       "      <td>0</td>\n",
       "      <td>0</td>\n",
       "      <td>0</td>\n",
       "      <td>106</td>\n",
       "    </tr>\n",
       "    <tr>\n",
       "      <th>3</th>\n",
       "      <td>Megadeth</td>\n",
       "      <td>3105</td>\n",
       "      <td>1983</td>\n",
       "      <td>USA</td>\n",
       "      <td>1</td>\n",
       "      <td>0</td>\n",
       "      <td>0</td>\n",
       "      <td>0</td>\n",
       "      <td>0</td>\n",
       "      <td>0</td>\n",
       "      <td>...</td>\n",
       "      <td>1</td>\n",
       "      <td>0</td>\n",
       "      <td>0</td>\n",
       "      <td>0</td>\n",
       "      <td>0</td>\n",
       "      <td>0</td>\n",
       "      <td>0</td>\n",
       "      <td>0</td>\n",
       "      <td>0</td>\n",
       "      <td>106</td>\n",
       "    </tr>\n",
       "    <tr>\n",
       "      <th>4</th>\n",
       "      <td>Amon Amarth</td>\n",
       "      <td>3054</td>\n",
       "      <td>1988</td>\n",
       "      <td>Sweden</td>\n",
       "      <td>0</td>\n",
       "      <td>0</td>\n",
       "      <td>0</td>\n",
       "      <td>0</td>\n",
       "      <td>0</td>\n",
       "      <td>0</td>\n",
       "      <td>...</td>\n",
       "      <td>0</td>\n",
       "      <td>0</td>\n",
       "      <td>0</td>\n",
       "      <td>0</td>\n",
       "      <td>0</td>\n",
       "      <td>0</td>\n",
       "      <td>0</td>\n",
       "      <td>0</td>\n",
       "      <td>0</td>\n",
       "      <td>97</td>\n",
       "    </tr>\n",
       "    <tr>\n",
       "      <th>5</th>\n",
       "      <td>Slayer</td>\n",
       "      <td>2955</td>\n",
       "      <td>1981</td>\n",
       "      <td>USA</td>\n",
       "      <td>1</td>\n",
       "      <td>0</td>\n",
       "      <td>0</td>\n",
       "      <td>0</td>\n",
       "      <td>0</td>\n",
       "      <td>0</td>\n",
       "      <td>...</td>\n",
       "      <td>1</td>\n",
       "      <td>0</td>\n",
       "      <td>0</td>\n",
       "      <td>0</td>\n",
       "      <td>0</td>\n",
       "      <td>0</td>\n",
       "      <td>0</td>\n",
       "      <td>0</td>\n",
       "      <td>0</td>\n",
       "      <td>106</td>\n",
       "    </tr>\n",
       "    <tr>\n",
       "      <th>6</th>\n",
       "      <td>Death</td>\n",
       "      <td>2690</td>\n",
       "      <td>1983</td>\n",
       "      <td>USA</td>\n",
       "      <td>1</td>\n",
       "      <td>0</td>\n",
       "      <td>0</td>\n",
       "      <td>0</td>\n",
       "      <td>0</td>\n",
       "      <td>0</td>\n",
       "      <td>...</td>\n",
       "      <td>0</td>\n",
       "      <td>0</td>\n",
       "      <td>0</td>\n",
       "      <td>0</td>\n",
       "      <td>0</td>\n",
       "      <td>0</td>\n",
       "      <td>0</td>\n",
       "      <td>0</td>\n",
       "      <td>0</td>\n",
       "      <td>106</td>\n",
       "    </tr>\n",
       "    <tr>\n",
       "      <th>7</th>\n",
       "      <td>Dream Theater</td>\n",
       "      <td>2329</td>\n",
       "      <td>1985</td>\n",
       "      <td>USA</td>\n",
       "      <td>1</td>\n",
       "      <td>0</td>\n",
       "      <td>0</td>\n",
       "      <td>0</td>\n",
       "      <td>0</td>\n",
       "      <td>0</td>\n",
       "      <td>...</td>\n",
       "      <td>0</td>\n",
       "      <td>0</td>\n",
       "      <td>0</td>\n",
       "      <td>0</td>\n",
       "      <td>0</td>\n",
       "      <td>0</td>\n",
       "      <td>0</td>\n",
       "      <td>0</td>\n",
       "      <td>0</td>\n",
       "      <td>106</td>\n",
       "    </tr>\n",
       "    <tr>\n",
       "      <th>8</th>\n",
       "      <td>Black Sabbath</td>\n",
       "      <td>2307</td>\n",
       "      <td>1968</td>\n",
       "      <td>United Kingdom</td>\n",
       "      <td>0</td>\n",
       "      <td>0</td>\n",
       "      <td>0</td>\n",
       "      <td>0</td>\n",
       "      <td>0</td>\n",
       "      <td>0</td>\n",
       "      <td>...</td>\n",
       "      <td>0</td>\n",
       "      <td>0</td>\n",
       "      <td>0</td>\n",
       "      <td>0</td>\n",
       "      <td>0</td>\n",
       "      <td>0</td>\n",
       "      <td>0</td>\n",
       "      <td>0</td>\n",
       "      <td>0</td>\n",
       "      <td>110</td>\n",
       "    </tr>\n",
       "    <tr>\n",
       "      <th>9</th>\n",
       "      <td>Nightwish</td>\n",
       "      <td>2183</td>\n",
       "      <td>1996</td>\n",
       "      <td>Finland</td>\n",
       "      <td>1</td>\n",
       "      <td>0</td>\n",
       "      <td>0</td>\n",
       "      <td>0</td>\n",
       "      <td>0</td>\n",
       "      <td>0</td>\n",
       "      <td>...</td>\n",
       "      <td>0</td>\n",
       "      <td>0</td>\n",
       "      <td>0</td>\n",
       "      <td>0</td>\n",
       "      <td>0</td>\n",
       "      <td>0</td>\n",
       "      <td>0</td>\n",
       "      <td>0</td>\n",
       "      <td>0</td>\n",
       "      <td>33</td>\n",
       "    </tr>\n",
       "    <tr>\n",
       "      <th>10</th>\n",
       "      <td>Children Of Bodom</td>\n",
       "      <td>2153</td>\n",
       "      <td>1993</td>\n",
       "      <td>Finland</td>\n",
       "      <td>0</td>\n",
       "      <td>0</td>\n",
       "      <td>0</td>\n",
       "      <td>0</td>\n",
       "      <td>0</td>\n",
       "      <td>0</td>\n",
       "      <td>...</td>\n",
       "      <td>0</td>\n",
       "      <td>0</td>\n",
       "      <td>0</td>\n",
       "      <td>0</td>\n",
       "      <td>0</td>\n",
       "      <td>0</td>\n",
       "      <td>0</td>\n",
       "      <td>0</td>\n",
       "      <td>0</td>\n",
       "      <td>33</td>\n",
       "    </tr>\n",
       "    <tr>\n",
       "      <th>11</th>\n",
       "      <td>Judas Priest</td>\n",
       "      <td>2094</td>\n",
       "      <td>1969</td>\n",
       "      <td>United Kingdom</td>\n",
       "      <td>1</td>\n",
       "      <td>0</td>\n",
       "      <td>0</td>\n",
       "      <td>0</td>\n",
       "      <td>0</td>\n",
       "      <td>0</td>\n",
       "      <td>...</td>\n",
       "      <td>0</td>\n",
       "      <td>0</td>\n",
       "      <td>0</td>\n",
       "      <td>0</td>\n",
       "      <td>0</td>\n",
       "      <td>0</td>\n",
       "      <td>0</td>\n",
       "      <td>0</td>\n",
       "      <td>0</td>\n",
       "      <td>110</td>\n",
       "    </tr>\n",
       "    <tr>\n",
       "      <th>12</th>\n",
       "      <td>Blind Guardian</td>\n",
       "      <td>2040</td>\n",
       "      <td>1984</td>\n",
       "      <td>Germany</td>\n",
       "      <td>0</td>\n",
       "      <td>0</td>\n",
       "      <td>0</td>\n",
       "      <td>0</td>\n",
       "      <td>0</td>\n",
       "      <td>0</td>\n",
       "      <td>...</td>\n",
       "      <td>0</td>\n",
       "      <td>0</td>\n",
       "      <td>0</td>\n",
       "      <td>0</td>\n",
       "      <td>0</td>\n",
       "      <td>0</td>\n",
       "      <td>0</td>\n",
       "      <td>0</td>\n",
       "      <td>0</td>\n",
       "      <td>37</td>\n",
       "    </tr>\n",
       "    <tr>\n",
       "      <th>13</th>\n",
       "      <td>In Flames</td>\n",
       "      <td>1932</td>\n",
       "      <td>1990</td>\n",
       "      <td>Sweden</td>\n",
       "      <td>1</td>\n",
       "      <td>0</td>\n",
       "      <td>0</td>\n",
       "      <td>0</td>\n",
       "      <td>0</td>\n",
       "      <td>0</td>\n",
       "      <td>...</td>\n",
       "      <td>0</td>\n",
       "      <td>0</td>\n",
       "      <td>0</td>\n",
       "      <td>0</td>\n",
       "      <td>0</td>\n",
       "      <td>0</td>\n",
       "      <td>0</td>\n",
       "      <td>0</td>\n",
       "      <td>0</td>\n",
       "      <td>97</td>\n",
       "    </tr>\n",
       "    <tr>\n",
       "      <th>14</th>\n",
       "      <td>Pantera</td>\n",
       "      <td>1920</td>\n",
       "      <td>1981</td>\n",
       "      <td>USA</td>\n",
       "      <td>1</td>\n",
       "      <td>0</td>\n",
       "      <td>0</td>\n",
       "      <td>0</td>\n",
       "      <td>0</td>\n",
       "      <td>0</td>\n",
       "      <td>...</td>\n",
       "      <td>0</td>\n",
       "      <td>0</td>\n",
       "      <td>0</td>\n",
       "      <td>0</td>\n",
       "      <td>0</td>\n",
       "      <td>0</td>\n",
       "      <td>0</td>\n",
       "      <td>0</td>\n",
       "      <td>0</td>\n",
       "      <td>106</td>\n",
       "    </tr>\n",
       "    <tr>\n",
       "      <th>15</th>\n",
       "      <td>Dark Tranquillity</td>\n",
       "      <td>1898</td>\n",
       "      <td>1989</td>\n",
       "      <td>Sweden</td>\n",
       "      <td>1</td>\n",
       "      <td>0</td>\n",
       "      <td>0</td>\n",
       "      <td>0</td>\n",
       "      <td>0</td>\n",
       "      <td>0</td>\n",
       "      <td>...</td>\n",
       "      <td>0</td>\n",
       "      <td>0</td>\n",
       "      <td>0</td>\n",
       "      <td>0</td>\n",
       "      <td>0</td>\n",
       "      <td>0</td>\n",
       "      <td>0</td>\n",
       "      <td>0</td>\n",
       "      <td>0</td>\n",
       "      <td>97</td>\n",
       "    </tr>\n",
       "    <tr>\n",
       "      <th>16</th>\n",
       "      <td>Agalloch</td>\n",
       "      <td>1881</td>\n",
       "      <td>1995</td>\n",
       "      <td>USA</td>\n",
       "      <td>1</td>\n",
       "      <td>0</td>\n",
       "      <td>0</td>\n",
       "      <td>0</td>\n",
       "      <td>0</td>\n",
       "      <td>0</td>\n",
       "      <td>...</td>\n",
       "      <td>0</td>\n",
       "      <td>0</td>\n",
       "      <td>0</td>\n",
       "      <td>0</td>\n",
       "      <td>0</td>\n",
       "      <td>0</td>\n",
       "      <td>0</td>\n",
       "      <td>0</td>\n",
       "      <td>0</td>\n",
       "      <td>106</td>\n",
       "    </tr>\n",
       "    <tr>\n",
       "      <th>17</th>\n",
       "      <td>Ensiferum</td>\n",
       "      <td>1879</td>\n",
       "      <td>1995</td>\n",
       "      <td>Finland</td>\n",
       "      <td>1</td>\n",
       "      <td>0</td>\n",
       "      <td>0</td>\n",
       "      <td>0</td>\n",
       "      <td>0</td>\n",
       "      <td>0</td>\n",
       "      <td>...</td>\n",
       "      <td>0</td>\n",
       "      <td>0</td>\n",
       "      <td>0</td>\n",
       "      <td>0</td>\n",
       "      <td>0</td>\n",
       "      <td>0</td>\n",
       "      <td>0</td>\n",
       "      <td>0</td>\n",
       "      <td>0</td>\n",
       "      <td>33</td>\n",
       "    </tr>\n",
       "    <tr>\n",
       "      <th>18</th>\n",
       "      <td>Arch Enemy</td>\n",
       "      <td>1750</td>\n",
       "      <td>1996</td>\n",
       "      <td>Sweden</td>\n",
       "      <td>0</td>\n",
       "      <td>0</td>\n",
       "      <td>0</td>\n",
       "      <td>0</td>\n",
       "      <td>0</td>\n",
       "      <td>0</td>\n",
       "      <td>...</td>\n",
       "      <td>0</td>\n",
       "      <td>0</td>\n",
       "      <td>0</td>\n",
       "      <td>0</td>\n",
       "      <td>0</td>\n",
       "      <td>0</td>\n",
       "      <td>0</td>\n",
       "      <td>0</td>\n",
       "      <td>0</td>\n",
       "      <td>97</td>\n",
       "    </tr>\n",
       "    <tr>\n",
       "      <th>19</th>\n",
       "      <td>Katatonia</td>\n",
       "      <td>1735</td>\n",
       "      <td>1991</td>\n",
       "      <td>Sweden</td>\n",
       "      <td>1</td>\n",
       "      <td>0</td>\n",
       "      <td>0</td>\n",
       "      <td>0</td>\n",
       "      <td>0</td>\n",
       "      <td>0</td>\n",
       "      <td>...</td>\n",
       "      <td>0</td>\n",
       "      <td>0</td>\n",
       "      <td>0</td>\n",
       "      <td>0</td>\n",
       "      <td>0</td>\n",
       "      <td>0</td>\n",
       "      <td>0</td>\n",
       "      <td>0</td>\n",
       "      <td>0</td>\n",
       "      <td>97</td>\n",
       "    </tr>\n",
       "    <tr>\n",
       "      <th>20</th>\n",
       "      <td>Behemoth</td>\n",
       "      <td>1721</td>\n",
       "      <td>1991</td>\n",
       "      <td>Poland</td>\n",
       "      <td>0</td>\n",
       "      <td>0</td>\n",
       "      <td>0</td>\n",
       "      <td>0</td>\n",
       "      <td>0</td>\n",
       "      <td>0</td>\n",
       "      <td>...</td>\n",
       "      <td>0</td>\n",
       "      <td>0</td>\n",
       "      <td>0</td>\n",
       "      <td>0</td>\n",
       "      <td>0</td>\n",
       "      <td>0</td>\n",
       "      <td>0</td>\n",
       "      <td>0</td>\n",
       "      <td>0</td>\n",
       "      <td>81</td>\n",
       "    </tr>\n",
       "    <tr>\n",
       "      <th>21</th>\n",
       "      <td>Dimmu Borgir</td>\n",
       "      <td>1688</td>\n",
       "      <td>1993</td>\n",
       "      <td>Norway</td>\n",
       "      <td>1</td>\n",
       "      <td>0</td>\n",
       "      <td>0</td>\n",
       "      <td>0</td>\n",
       "      <td>0</td>\n",
       "      <td>0</td>\n",
       "      <td>...</td>\n",
       "      <td>0</td>\n",
       "      <td>0</td>\n",
       "      <td>0</td>\n",
       "      <td>0</td>\n",
       "      <td>0</td>\n",
       "      <td>0</td>\n",
       "      <td>0</td>\n",
       "      <td>0</td>\n",
       "      <td>0</td>\n",
       "      <td>78</td>\n",
       "    </tr>\n",
       "    <tr>\n",
       "      <th>22</th>\n",
       "      <td>Kreator</td>\n",
       "      <td>1646</td>\n",
       "      <td>1982</td>\n",
       "      <td>Germany</td>\n",
       "      <td>0</td>\n",
       "      <td>0</td>\n",
       "      <td>0</td>\n",
       "      <td>0</td>\n",
       "      <td>0</td>\n",
       "      <td>0</td>\n",
       "      <td>...</td>\n",
       "      <td>0</td>\n",
       "      <td>0</td>\n",
       "      <td>0</td>\n",
       "      <td>0</td>\n",
       "      <td>0</td>\n",
       "      <td>0</td>\n",
       "      <td>0</td>\n",
       "      <td>0</td>\n",
       "      <td>0</td>\n",
       "      <td>37</td>\n",
       "    </tr>\n",
       "    <tr>\n",
       "      <th>23</th>\n",
       "      <td>Wintersun</td>\n",
       "      <td>1640</td>\n",
       "      <td>2004</td>\n",
       "      <td>Finland</td>\n",
       "      <td>1</td>\n",
       "      <td>0</td>\n",
       "      <td>0</td>\n",
       "      <td>0</td>\n",
       "      <td>0</td>\n",
       "      <td>0</td>\n",
       "      <td>...</td>\n",
       "      <td>0</td>\n",
       "      <td>0</td>\n",
       "      <td>0</td>\n",
       "      <td>0</td>\n",
       "      <td>0</td>\n",
       "      <td>0</td>\n",
       "      <td>0</td>\n",
       "      <td>0</td>\n",
       "      <td>0</td>\n",
       "      <td>33</td>\n",
       "    </tr>\n",
       "    <tr>\n",
       "      <th>24</th>\n",
       "      <td>Insomnium</td>\n",
       "      <td>1547</td>\n",
       "      <td>1997</td>\n",
       "      <td>Finland</td>\n",
       "      <td>0</td>\n",
       "      <td>0</td>\n",
       "      <td>0</td>\n",
       "      <td>0</td>\n",
       "      <td>0</td>\n",
       "      <td>0</td>\n",
       "      <td>...</td>\n",
       "      <td>0</td>\n",
       "      <td>0</td>\n",
       "      <td>0</td>\n",
       "      <td>0</td>\n",
       "      <td>0</td>\n",
       "      <td>0</td>\n",
       "      <td>0</td>\n",
       "      <td>0</td>\n",
       "      <td>0</td>\n",
       "      <td>33</td>\n",
       "    </tr>\n",
       "    <tr>\n",
       "      <th>25</th>\n",
       "      <td>Amorphis</td>\n",
       "      <td>1528</td>\n",
       "      <td>1990</td>\n",
       "      <td>Finland</td>\n",
       "      <td>1</td>\n",
       "      <td>0</td>\n",
       "      <td>0</td>\n",
       "      <td>0</td>\n",
       "      <td>0</td>\n",
       "      <td>0</td>\n",
       "      <td>...</td>\n",
       "      <td>0</td>\n",
       "      <td>0</td>\n",
       "      <td>0</td>\n",
       "      <td>0</td>\n",
       "      <td>0</td>\n",
       "      <td>0</td>\n",
       "      <td>0</td>\n",
       "      <td>0</td>\n",
       "      <td>0</td>\n",
       "      <td>33</td>\n",
       "    </tr>\n",
       "    <tr>\n",
       "      <th>26</th>\n",
       "      <td>Kamelot</td>\n",
       "      <td>1520</td>\n",
       "      <td>1991</td>\n",
       "      <td>USA</td>\n",
       "      <td>0</td>\n",
       "      <td>0</td>\n",
       "      <td>0</td>\n",
       "      <td>0</td>\n",
       "      <td>0</td>\n",
       "      <td>0</td>\n",
       "      <td>...</td>\n",
       "      <td>0</td>\n",
       "      <td>0</td>\n",
       "      <td>0</td>\n",
       "      <td>0</td>\n",
       "      <td>0</td>\n",
       "      <td>0</td>\n",
       "      <td>0</td>\n",
       "      <td>0</td>\n",
       "      <td>0</td>\n",
       "      <td>106</td>\n",
       "    </tr>\n",
       "    <tr>\n",
       "      <th>27</th>\n",
       "      <td>Tool</td>\n",
       "      <td>1506</td>\n",
       "      <td>1988</td>\n",
       "      <td>USA</td>\n",
       "      <td>1</td>\n",
       "      <td>0</td>\n",
       "      <td>0</td>\n",
       "      <td>0</td>\n",
       "      <td>0</td>\n",
       "      <td>0</td>\n",
       "      <td>...</td>\n",
       "      <td>0</td>\n",
       "      <td>0</td>\n",
       "      <td>0</td>\n",
       "      <td>0</td>\n",
       "      <td>0</td>\n",
       "      <td>0</td>\n",
       "      <td>0</td>\n",
       "      <td>0</td>\n",
       "      <td>0</td>\n",
       "      <td>106</td>\n",
       "    </tr>\n",
       "    <tr>\n",
       "      <th>28</th>\n",
       "      <td>Helloween</td>\n",
       "      <td>1501</td>\n",
       "      <td>1978</td>\n",
       "      <td>Germany</td>\n",
       "      <td>0</td>\n",
       "      <td>0</td>\n",
       "      <td>0</td>\n",
       "      <td>0</td>\n",
       "      <td>0</td>\n",
       "      <td>0</td>\n",
       "      <td>...</td>\n",
       "      <td>0</td>\n",
       "      <td>0</td>\n",
       "      <td>0</td>\n",
       "      <td>0</td>\n",
       "      <td>0</td>\n",
       "      <td>0</td>\n",
       "      <td>0</td>\n",
       "      <td>0</td>\n",
       "      <td>0</td>\n",
       "      <td>37</td>\n",
       "    </tr>\n",
       "    <tr>\n",
       "      <th>29</th>\n",
       "      <td>Testament</td>\n",
       "      <td>1500</td>\n",
       "      <td>1983</td>\n",
       "      <td>USA</td>\n",
       "      <td>1</td>\n",
       "      <td>0</td>\n",
       "      <td>0</td>\n",
       "      <td>0</td>\n",
       "      <td>0</td>\n",
       "      <td>0</td>\n",
       "      <td>...</td>\n",
       "      <td>0</td>\n",
       "      <td>0</td>\n",
       "      <td>0</td>\n",
       "      <td>0</td>\n",
       "      <td>0</td>\n",
       "      <td>0</td>\n",
       "      <td>0</td>\n",
       "      <td>0</td>\n",
       "      <td>0</td>\n",
       "      <td>106</td>\n",
       "    </tr>\n",
       "    <tr>\n",
       "      <th>...</th>\n",
       "      <td>...</td>\n",
       "      <td>...</td>\n",
       "      <td>...</td>\n",
       "      <td>...</td>\n",
       "      <td>...</td>\n",
       "      <td>...</td>\n",
       "      <td>...</td>\n",
       "      <td>...</td>\n",
       "      <td>...</td>\n",
       "      <td>...</td>\n",
       "      <td>...</td>\n",
       "      <td>...</td>\n",
       "      <td>...</td>\n",
       "      <td>...</td>\n",
       "      <td>...</td>\n",
       "      <td>...</td>\n",
       "      <td>...</td>\n",
       "      <td>...</td>\n",
       "      <td>...</td>\n",
       "      <td>...</td>\n",
       "      <td>...</td>\n",
       "    </tr>\n",
       "    <tr>\n",
       "      <th>4970</th>\n",
       "      <td>Your Chance To Die</td>\n",
       "      <td>1</td>\n",
       "      <td>2007</td>\n",
       "      <td>USA</td>\n",
       "      <td>0</td>\n",
       "      <td>0</td>\n",
       "      <td>0</td>\n",
       "      <td>0</td>\n",
       "      <td>0</td>\n",
       "      <td>0</td>\n",
       "      <td>...</td>\n",
       "      <td>0</td>\n",
       "      <td>0</td>\n",
       "      <td>0</td>\n",
       "      <td>0</td>\n",
       "      <td>0</td>\n",
       "      <td>0</td>\n",
       "      <td>0</td>\n",
       "      <td>0</td>\n",
       "      <td>0</td>\n",
       "      <td>106</td>\n",
       "    </tr>\n",
       "    <tr>\n",
       "      <th>4971</th>\n",
       "      <td>Your Tomorrow Alone</td>\n",
       "      <td>1</td>\n",
       "      <td>2009</td>\n",
       "      <td>Italy</td>\n",
       "      <td>1</td>\n",
       "      <td>0</td>\n",
       "      <td>0</td>\n",
       "      <td>0</td>\n",
       "      <td>0</td>\n",
       "      <td>0</td>\n",
       "      <td>...</td>\n",
       "      <td>0</td>\n",
       "      <td>0</td>\n",
       "      <td>0</td>\n",
       "      <td>0</td>\n",
       "      <td>0</td>\n",
       "      <td>0</td>\n",
       "      <td>0</td>\n",
       "      <td>0</td>\n",
       "      <td>0</td>\n",
       "      <td>56</td>\n",
       "    </tr>\n",
       "    <tr>\n",
       "      <th>4972</th>\n",
       "      <td>?rec</td>\n",
       "      <td>1</td>\n",
       "      <td>2004</td>\n",
       "      <td>Czech Republic</td>\n",
       "      <td>0</td>\n",
       "      <td>0</td>\n",
       "      <td>0</td>\n",
       "      <td>0</td>\n",
       "      <td>0</td>\n",
       "      <td>0</td>\n",
       "      <td>...</td>\n",
       "      <td>0</td>\n",
       "      <td>0</td>\n",
       "      <td>0</td>\n",
       "      <td>0</td>\n",
       "      <td>0</td>\n",
       "      <td>0</td>\n",
       "      <td>0</td>\n",
       "      <td>0</td>\n",
       "      <td>0</td>\n",
       "      <td>26</td>\n",
       "    </tr>\n",
       "    <tr>\n",
       "      <th>4973</th>\n",
       "      <td>Ömheten</td>\n",
       "      <td>0</td>\n",
       "      <td>2012</td>\n",
       "      <td>Sweden</td>\n",
       "      <td>1</td>\n",
       "      <td>0</td>\n",
       "      <td>0</td>\n",
       "      <td>0</td>\n",
       "      <td>0</td>\n",
       "      <td>0</td>\n",
       "      <td>...</td>\n",
       "      <td>0</td>\n",
       "      <td>0</td>\n",
       "      <td>0</td>\n",
       "      <td>0</td>\n",
       "      <td>0</td>\n",
       "      <td>0</td>\n",
       "      <td>0</td>\n",
       "      <td>0</td>\n",
       "      <td>0</td>\n",
       "      <td>97</td>\n",
       "    </tr>\n",
       "    <tr>\n",
       "      <th>4974</th>\n",
       "      <td>(In)Trance</td>\n",
       "      <td>0</td>\n",
       "      <td>2009</td>\n",
       "      <td>Russia</td>\n",
       "      <td>0</td>\n",
       "      <td>0</td>\n",
       "      <td>0</td>\n",
       "      <td>0</td>\n",
       "      <td>0</td>\n",
       "      <td>0</td>\n",
       "      <td>...</td>\n",
       "      <td>0</td>\n",
       "      <td>0</td>\n",
       "      <td>0</td>\n",
       "      <td>0</td>\n",
       "      <td>0</td>\n",
       "      <td>0</td>\n",
       "      <td>0</td>\n",
       "      <td>0</td>\n",
       "      <td>0</td>\n",
       "      <td>86</td>\n",
       "    </tr>\n",
       "    <tr>\n",
       "      <th>4975</th>\n",
       "      <td>6th Dimension</td>\n",
       "      <td>0</td>\n",
       "      <td>2008</td>\n",
       "      <td>Cyprus</td>\n",
       "      <td>1</td>\n",
       "      <td>0</td>\n",
       "      <td>0</td>\n",
       "      <td>0</td>\n",
       "      <td>0</td>\n",
       "      <td>0</td>\n",
       "      <td>...</td>\n",
       "      <td>0</td>\n",
       "      <td>0</td>\n",
       "      <td>0</td>\n",
       "      <td>0</td>\n",
       "      <td>0</td>\n",
       "      <td>0</td>\n",
       "      <td>0</td>\n",
       "      <td>0</td>\n",
       "      <td>0</td>\n",
       "      <td>25</td>\n",
       "    </tr>\n",
       "    <tr>\n",
       "      <th>4976</th>\n",
       "      <td>9.7 Richter</td>\n",
       "      <td>0</td>\n",
       "      <td>2006</td>\n",
       "      <td>Romania</td>\n",
       "      <td>0</td>\n",
       "      <td>0</td>\n",
       "      <td>0</td>\n",
       "      <td>0</td>\n",
       "      <td>0</td>\n",
       "      <td>0</td>\n",
       "      <td>...</td>\n",
       "      <td>0</td>\n",
       "      <td>0</td>\n",
       "      <td>0</td>\n",
       "      <td>0</td>\n",
       "      <td>0</td>\n",
       "      <td>0</td>\n",
       "      <td>0</td>\n",
       "      <td>0</td>\n",
       "      <td>0</td>\n",
       "      <td>85</td>\n",
       "    </tr>\n",
       "    <tr>\n",
       "      <th>4977</th>\n",
       "      <td>A Lower Deep</td>\n",
       "      <td>0</td>\n",
       "      <td>2000</td>\n",
       "      <td>USA</td>\n",
       "      <td>1</td>\n",
       "      <td>0</td>\n",
       "      <td>0</td>\n",
       "      <td>0</td>\n",
       "      <td>0</td>\n",
       "      <td>0</td>\n",
       "      <td>...</td>\n",
       "      <td>1</td>\n",
       "      <td>0</td>\n",
       "      <td>0</td>\n",
       "      <td>0</td>\n",
       "      <td>0</td>\n",
       "      <td>0</td>\n",
       "      <td>0</td>\n",
       "      <td>0</td>\n",
       "      <td>0</td>\n",
       "      <td>106</td>\n",
       "    </tr>\n",
       "    <tr>\n",
       "      <th>4978</th>\n",
       "      <td>Absence Of The Sacred</td>\n",
       "      <td>0</td>\n",
       "      <td>2005</td>\n",
       "      <td>Singapore</td>\n",
       "      <td>0</td>\n",
       "      <td>0</td>\n",
       "      <td>0</td>\n",
       "      <td>0</td>\n",
       "      <td>0</td>\n",
       "      <td>0</td>\n",
       "      <td>...</td>\n",
       "      <td>1</td>\n",
       "      <td>0</td>\n",
       "      <td>0</td>\n",
       "      <td>0</td>\n",
       "      <td>0</td>\n",
       "      <td>0</td>\n",
       "      <td>0</td>\n",
       "      <td>0</td>\n",
       "      <td>0</td>\n",
       "      <td>90</td>\n",
       "    </tr>\n",
       "    <tr>\n",
       "      <th>4979</th>\n",
       "      <td>Ace Of Hearts</td>\n",
       "      <td>0</td>\n",
       "      <td>2008</td>\n",
       "      <td>United Kingdom</td>\n",
       "      <td>1</td>\n",
       "      <td>0</td>\n",
       "      <td>0</td>\n",
       "      <td>0</td>\n",
       "      <td>0</td>\n",
       "      <td>0</td>\n",
       "      <td>...</td>\n",
       "      <td>0</td>\n",
       "      <td>0</td>\n",
       "      <td>0</td>\n",
       "      <td>0</td>\n",
       "      <td>0</td>\n",
       "      <td>0</td>\n",
       "      <td>0</td>\n",
       "      <td>0</td>\n",
       "      <td>0</td>\n",
       "      <td>110</td>\n",
       "    </tr>\n",
       "    <tr>\n",
       "      <th>4980</th>\n",
       "      <td>Aeturnus Dominion</td>\n",
       "      <td>0</td>\n",
       "      <td>2003</td>\n",
       "      <td>Australia</td>\n",
       "      <td>0</td>\n",
       "      <td>0</td>\n",
       "      <td>0</td>\n",
       "      <td>0</td>\n",
       "      <td>0</td>\n",
       "      <td>0</td>\n",
       "      <td>...</td>\n",
       "      <td>0</td>\n",
       "      <td>0</td>\n",
       "      <td>0</td>\n",
       "      <td>0</td>\n",
       "      <td>0</td>\n",
       "      <td>0</td>\n",
       "      <td>0</td>\n",
       "      <td>0</td>\n",
       "      <td>0</td>\n",
       "      <td>4</td>\n",
       "    </tr>\n",
       "    <tr>\n",
       "      <th>4981</th>\n",
       "      <td>Algy Ward's Tank</td>\n",
       "      <td>0</td>\n",
       "      <td>2007</td>\n",
       "      <td>United Kingdom</td>\n",
       "      <td>1</td>\n",
       "      <td>0</td>\n",
       "      <td>0</td>\n",
       "      <td>0</td>\n",
       "      <td>0</td>\n",
       "      <td>0</td>\n",
       "      <td>...</td>\n",
       "      <td>0</td>\n",
       "      <td>0</td>\n",
       "      <td>0</td>\n",
       "      <td>0</td>\n",
       "      <td>0</td>\n",
       "      <td>0</td>\n",
       "      <td>0</td>\n",
       "      <td>0</td>\n",
       "      <td>0</td>\n",
       "      <td>110</td>\n",
       "    </tr>\n",
       "    <tr>\n",
       "      <th>4982</th>\n",
       "      <td>Altars Of Grief</td>\n",
       "      <td>0</td>\n",
       "      <td>2013</td>\n",
       "      <td>Canada</td>\n",
       "      <td>0</td>\n",
       "      <td>0</td>\n",
       "      <td>0</td>\n",
       "      <td>0</td>\n",
       "      <td>0</td>\n",
       "      <td>0</td>\n",
       "      <td>...</td>\n",
       "      <td>0</td>\n",
       "      <td>0</td>\n",
       "      <td>0</td>\n",
       "      <td>0</td>\n",
       "      <td>0</td>\n",
       "      <td>0</td>\n",
       "      <td>0</td>\n",
       "      <td>0</td>\n",
       "      <td>0</td>\n",
       "      <td>17</td>\n",
       "    </tr>\n",
       "    <tr>\n",
       "      <th>4983</th>\n",
       "      <td>Anatomia</td>\n",
       "      <td>0</td>\n",
       "      <td>2002</td>\n",
       "      <td>Japan</td>\n",
       "      <td>1</td>\n",
       "      <td>0</td>\n",
       "      <td>0</td>\n",
       "      <td>0</td>\n",
       "      <td>0</td>\n",
       "      <td>0</td>\n",
       "      <td>...</td>\n",
       "      <td>0</td>\n",
       "      <td>0</td>\n",
       "      <td>0</td>\n",
       "      <td>0</td>\n",
       "      <td>0</td>\n",
       "      <td>0</td>\n",
       "      <td>0</td>\n",
       "      <td>0</td>\n",
       "      <td>0</td>\n",
       "      <td>58</td>\n",
       "    </tr>\n",
       "    <tr>\n",
       "      <th>4984</th>\n",
       "      <td>Anger As Art</td>\n",
       "      <td>0</td>\n",
       "      <td>2004</td>\n",
       "      <td>USA</td>\n",
       "      <td>0</td>\n",
       "      <td>0</td>\n",
       "      <td>0</td>\n",
       "      <td>0</td>\n",
       "      <td>0</td>\n",
       "      <td>0</td>\n",
       "      <td>...</td>\n",
       "      <td>1</td>\n",
       "      <td>0</td>\n",
       "      <td>0</td>\n",
       "      <td>0</td>\n",
       "      <td>0</td>\n",
       "      <td>0</td>\n",
       "      <td>0</td>\n",
       "      <td>0</td>\n",
       "      <td>0</td>\n",
       "      <td>106</td>\n",
       "    </tr>\n",
       "    <tr>\n",
       "      <th>4985</th>\n",
       "      <td>Angist</td>\n",
       "      <td>0</td>\n",
       "      <td>2009</td>\n",
       "      <td>Iceland</td>\n",
       "      <td>1</td>\n",
       "      <td>0</td>\n",
       "      <td>0</td>\n",
       "      <td>0</td>\n",
       "      <td>0</td>\n",
       "      <td>0</td>\n",
       "      <td>...</td>\n",
       "      <td>0</td>\n",
       "      <td>0</td>\n",
       "      <td>0</td>\n",
       "      <td>0</td>\n",
       "      <td>0</td>\n",
       "      <td>0</td>\n",
       "      <td>0</td>\n",
       "      <td>0</td>\n",
       "      <td>0</td>\n",
       "      <td>44</td>\n",
       "    </tr>\n",
       "    <tr>\n",
       "      <th>4986</th>\n",
       "      <td>Anmod</td>\n",
       "      <td>0</td>\n",
       "      <td>2005</td>\n",
       "      <td>Brazil</td>\n",
       "      <td>0</td>\n",
       "      <td>0</td>\n",
       "      <td>0</td>\n",
       "      <td>0</td>\n",
       "      <td>0</td>\n",
       "      <td>0</td>\n",
       "      <td>...</td>\n",
       "      <td>0</td>\n",
       "      <td>0</td>\n",
       "      <td>0</td>\n",
       "      <td>0</td>\n",
       "      <td>0</td>\n",
       "      <td>0</td>\n",
       "      <td>0</td>\n",
       "      <td>0</td>\n",
       "      <td>0</td>\n",
       "      <td>15</td>\n",
       "    </tr>\n",
       "    <tr>\n",
       "      <th>4987</th>\n",
       "      <td>Apokalyptic Raids</td>\n",
       "      <td>0</td>\n",
       "      <td>1997</td>\n",
       "      <td>Brazil</td>\n",
       "      <td>1</td>\n",
       "      <td>0</td>\n",
       "      <td>0</td>\n",
       "      <td>0</td>\n",
       "      <td>0</td>\n",
       "      <td>0</td>\n",
       "      <td>...</td>\n",
       "      <td>0</td>\n",
       "      <td>0</td>\n",
       "      <td>0</td>\n",
       "      <td>0</td>\n",
       "      <td>0</td>\n",
       "      <td>0</td>\n",
       "      <td>0</td>\n",
       "      <td>0</td>\n",
       "      <td>0</td>\n",
       "      <td>15</td>\n",
       "    </tr>\n",
       "    <tr>\n",
       "      <th>4988</th>\n",
       "      <td>Apothesary</td>\n",
       "      <td>0</td>\n",
       "      <td>2009</td>\n",
       "      <td>USA</td>\n",
       "      <td>0</td>\n",
       "      <td>0</td>\n",
       "      <td>0</td>\n",
       "      <td>0</td>\n",
       "      <td>0</td>\n",
       "      <td>0</td>\n",
       "      <td>...</td>\n",
       "      <td>1</td>\n",
       "      <td>0</td>\n",
       "      <td>0</td>\n",
       "      <td>0</td>\n",
       "      <td>0</td>\n",
       "      <td>0</td>\n",
       "      <td>0</td>\n",
       "      <td>0</td>\n",
       "      <td>0</td>\n",
       "      <td>106</td>\n",
       "    </tr>\n",
       "    <tr>\n",
       "      <th>4989</th>\n",
       "      <td>Apparatus</td>\n",
       "      <td>0</td>\n",
       "      <td>2012</td>\n",
       "      <td>Denmark</td>\n",
       "      <td>1</td>\n",
       "      <td>0</td>\n",
       "      <td>0</td>\n",
       "      <td>0</td>\n",
       "      <td>0</td>\n",
       "      <td>0</td>\n",
       "      <td>...</td>\n",
       "      <td>0</td>\n",
       "      <td>0</td>\n",
       "      <td>0</td>\n",
       "      <td>0</td>\n",
       "      <td>0</td>\n",
       "      <td>0</td>\n",
       "      <td>0</td>\n",
       "      <td>0</td>\n",
       "      <td>0</td>\n",
       "      <td>27</td>\n",
       "    </tr>\n",
       "    <tr>\n",
       "      <th>4990</th>\n",
       "      <td>Arctic Spirits</td>\n",
       "      <td>0</td>\n",
       "      <td>2003</td>\n",
       "      <td>Greenland</td>\n",
       "      <td>0</td>\n",
       "      <td>0</td>\n",
       "      <td>0</td>\n",
       "      <td>0</td>\n",
       "      <td>0</td>\n",
       "      <td>0</td>\n",
       "      <td>...</td>\n",
       "      <td>0</td>\n",
       "      <td>0</td>\n",
       "      <td>0</td>\n",
       "      <td>0</td>\n",
       "      <td>0</td>\n",
       "      <td>0</td>\n",
       "      <td>0</td>\n",
       "      <td>0</td>\n",
       "      <td>0</td>\n",
       "      <td>41</td>\n",
       "    </tr>\n",
       "    <tr>\n",
       "      <th>4991</th>\n",
       "      <td>Argus (Ro)</td>\n",
       "      <td>0</td>\n",
       "      <td>1996</td>\n",
       "      <td>Romania</td>\n",
       "      <td>1</td>\n",
       "      <td>0</td>\n",
       "      <td>0</td>\n",
       "      <td>0</td>\n",
       "      <td>0</td>\n",
       "      <td>0</td>\n",
       "      <td>...</td>\n",
       "      <td>0</td>\n",
       "      <td>0</td>\n",
       "      <td>0</td>\n",
       "      <td>0</td>\n",
       "      <td>0</td>\n",
       "      <td>0</td>\n",
       "      <td>0</td>\n",
       "      <td>0</td>\n",
       "      <td>0</td>\n",
       "      <td>85</td>\n",
       "    </tr>\n",
       "    <tr>\n",
       "      <th>4992</th>\n",
       "      <td>Arrest</td>\n",
       "      <td>0</td>\n",
       "      <td>1992</td>\n",
       "      <td>Germany</td>\n",
       "      <td>0</td>\n",
       "      <td>0</td>\n",
       "      <td>0</td>\n",
       "      <td>0</td>\n",
       "      <td>0</td>\n",
       "      <td>0</td>\n",
       "      <td>...</td>\n",
       "      <td>0</td>\n",
       "      <td>0</td>\n",
       "      <td>0</td>\n",
       "      <td>0</td>\n",
       "      <td>0</td>\n",
       "      <td>0</td>\n",
       "      <td>0</td>\n",
       "      <td>0</td>\n",
       "      <td>0</td>\n",
       "      <td>37</td>\n",
       "    </tr>\n",
       "    <tr>\n",
       "      <th>4993</th>\n",
       "      <td>As I Lay Dying (AUT)</td>\n",
       "      <td>0</td>\n",
       "      <td>1991</td>\n",
       "      <td>Austria</td>\n",
       "      <td>1</td>\n",
       "      <td>0</td>\n",
       "      <td>0</td>\n",
       "      <td>0</td>\n",
       "      <td>0</td>\n",
       "      <td>0</td>\n",
       "      <td>...</td>\n",
       "      <td>0</td>\n",
       "      <td>0</td>\n",
       "      <td>0</td>\n",
       "      <td>0</td>\n",
       "      <td>0</td>\n",
       "      <td>0</td>\n",
       "      <td>0</td>\n",
       "      <td>0</td>\n",
       "      <td>0</td>\n",
       "      <td>6</td>\n",
       "    </tr>\n",
       "    <tr>\n",
       "      <th>4994</th>\n",
       "      <td>Asofy</td>\n",
       "      <td>0</td>\n",
       "      <td>2000</td>\n",
       "      <td>Italy</td>\n",
       "      <td>0</td>\n",
       "      <td>0</td>\n",
       "      <td>0</td>\n",
       "      <td>0</td>\n",
       "      <td>0</td>\n",
       "      <td>0</td>\n",
       "      <td>...</td>\n",
       "      <td>0</td>\n",
       "      <td>0</td>\n",
       "      <td>0</td>\n",
       "      <td>0</td>\n",
       "      <td>0</td>\n",
       "      <td>0</td>\n",
       "      <td>0</td>\n",
       "      <td>0</td>\n",
       "      <td>0</td>\n",
       "      <td>56</td>\n",
       "    </tr>\n",
       "    <tr>\n",
       "      <th>4995</th>\n",
       "      <td>Atara</td>\n",
       "      <td>0</td>\n",
       "      <td>2006</td>\n",
       "      <td>France</td>\n",
       "      <td>1</td>\n",
       "      <td>0</td>\n",
       "      <td>0</td>\n",
       "      <td>0</td>\n",
       "      <td>0</td>\n",
       "      <td>0</td>\n",
       "      <td>...</td>\n",
       "      <td>0</td>\n",
       "      <td>0</td>\n",
       "      <td>0</td>\n",
       "      <td>0</td>\n",
       "      <td>0</td>\n",
       "      <td>0</td>\n",
       "      <td>0</td>\n",
       "      <td>0</td>\n",
       "      <td>0</td>\n",
       "      <td>35</td>\n",
       "    </tr>\n",
       "    <tr>\n",
       "      <th>4996</th>\n",
       "      <td>Avicularia</td>\n",
       "      <td>0</td>\n",
       "      <td>2003</td>\n",
       "      <td>Croatia</td>\n",
       "      <td>0</td>\n",
       "      <td>0</td>\n",
       "      <td>0</td>\n",
       "      <td>0</td>\n",
       "      <td>0</td>\n",
       "      <td>0</td>\n",
       "      <td>...</td>\n",
       "      <td>0</td>\n",
       "      <td>0</td>\n",
       "      <td>0</td>\n",
       "      <td>0</td>\n",
       "      <td>0</td>\n",
       "      <td>0</td>\n",
       "      <td>0</td>\n",
       "      <td>0</td>\n",
       "      <td>0</td>\n",
       "      <td>24</td>\n",
       "    </tr>\n",
       "    <tr>\n",
       "      <th>4997</th>\n",
       "      <td>Awake</td>\n",
       "      <td>0</td>\n",
       "      <td>2006</td>\n",
       "      <td>United Kingdom</td>\n",
       "      <td>1</td>\n",
       "      <td>0</td>\n",
       "      <td>0</td>\n",
       "      <td>0</td>\n",
       "      <td>0</td>\n",
       "      <td>0</td>\n",
       "      <td>...</td>\n",
       "      <td>0</td>\n",
       "      <td>0</td>\n",
       "      <td>0</td>\n",
       "      <td>0</td>\n",
       "      <td>0</td>\n",
       "      <td>0</td>\n",
       "      <td>0</td>\n",
       "      <td>0</td>\n",
       "      <td>0</td>\n",
       "      <td>110</td>\n",
       "    </tr>\n",
       "    <tr>\n",
       "      <th>4998</th>\n",
       "      <td>Axatak</td>\n",
       "      <td>0</td>\n",
       "      <td>1983</td>\n",
       "      <td>Australia</td>\n",
       "      <td>1</td>\n",
       "      <td>0</td>\n",
       "      <td>0</td>\n",
       "      <td>0</td>\n",
       "      <td>0</td>\n",
       "      <td>0</td>\n",
       "      <td>...</td>\n",
       "      <td>0</td>\n",
       "      <td>0</td>\n",
       "      <td>0</td>\n",
       "      <td>0</td>\n",
       "      <td>0</td>\n",
       "      <td>0</td>\n",
       "      <td>0</td>\n",
       "      <td>0</td>\n",
       "      <td>0</td>\n",
       "      <td>4</td>\n",
       "    </tr>\n",
       "    <tr>\n",
       "      <th>4999</th>\n",
       "      <td>Axis Of Despair</td>\n",
       "      <td>0</td>\n",
       "      <td>2014</td>\n",
       "      <td>Sweden</td>\n",
       "      <td>1</td>\n",
       "      <td>0</td>\n",
       "      <td>0</td>\n",
       "      <td>0</td>\n",
       "      <td>0</td>\n",
       "      <td>0</td>\n",
       "      <td>...</td>\n",
       "      <td>0</td>\n",
       "      <td>0</td>\n",
       "      <td>0</td>\n",
       "      <td>0</td>\n",
       "      <td>0</td>\n",
       "      <td>0</td>\n",
       "      <td>0</td>\n",
       "      <td>0</td>\n",
       "      <td>0</td>\n",
       "      <td>97</td>\n",
       "    </tr>\n",
       "  </tbody>\n",
       "</table>\n",
       "<p>5000 rows × 303 columns</p>\n",
       "</div>"
      ],
      "text/plain": [
       "                  band_name  fans  formed          origin  split  st_A  \\\n",
       "0               Iron Maiden  4195    1975  United Kingdom      0     0   \n",
       "1                     Opeth  4147    1990          Sweden      1     0   \n",
       "2                 Metallica  3712    1981             USA      0     0   \n",
       "3                  Megadeth  3105    1983             USA      1     0   \n",
       "4               Amon Amarth  3054    1988          Sweden      0     0   \n",
       "5                    Slayer  2955    1981             USA      1     0   \n",
       "6                     Death  2690    1983             USA      1     0   \n",
       "7             Dream Theater  2329    1985             USA      1     0   \n",
       "8             Black Sabbath  2307    1968  United Kingdom      0     0   \n",
       "9                 Nightwish  2183    1996         Finland      1     0   \n",
       "10        Children Of Bodom  2153    1993         Finland      0     0   \n",
       "11             Judas Priest  2094    1969  United Kingdom      1     0   \n",
       "12           Blind Guardian  2040    1984         Germany      0     0   \n",
       "13                In Flames  1932    1990          Sweden      1     0   \n",
       "14                  Pantera  1920    1981             USA      1     0   \n",
       "15        Dark Tranquillity  1898    1989          Sweden      1     0   \n",
       "16                 Agalloch  1881    1995             USA      1     0   \n",
       "17                Ensiferum  1879    1995         Finland      1     0   \n",
       "18               Arch Enemy  1750    1996          Sweden      0     0   \n",
       "19                Katatonia  1735    1991          Sweden      1     0   \n",
       "20                 Behemoth  1721    1991          Poland      0     0   \n",
       "21             Dimmu Borgir  1688    1993          Norway      1     0   \n",
       "22                  Kreator  1646    1982         Germany      0     0   \n",
       "23                Wintersun  1640    2004         Finland      1     0   \n",
       "24                Insomnium  1547    1997         Finland      0     0   \n",
       "25                 Amorphis  1528    1990         Finland      1     0   \n",
       "26                  Kamelot  1520    1991             USA      0     0   \n",
       "27                     Tool  1506    1988             USA      1     0   \n",
       "28                Helloween  1501    1978         Germany      0     0   \n",
       "29                Testament  1500    1983             USA      1     0   \n",
       "...                     ...   ...     ...             ...    ...   ...   \n",
       "4970     Your Chance To Die     1    2007             USA      0     0   \n",
       "4971    Your Tomorrow Alone     1    2009           Italy      1     0   \n",
       "4972                   ?rec     1    2004  Czech Republic      0     0   \n",
       "4973                Ömheten     0    2012          Sweden      1     0   \n",
       "4974             (In)Trance     0    2009          Russia      0     0   \n",
       "4975          6th Dimension     0    2008          Cyprus      1     0   \n",
       "4976            9.7 Richter     0    2006         Romania      0     0   \n",
       "4977           A Lower Deep     0    2000             USA      1     0   \n",
       "4978  Absence Of The Sacred     0    2005       Singapore      0     0   \n",
       "4979          Ace Of Hearts     0    2008  United Kingdom      1     0   \n",
       "4980      Aeturnus Dominion     0    2003       Australia      0     0   \n",
       "4981       Algy Ward's Tank     0    2007  United Kingdom      1     0   \n",
       "4982        Altars Of Grief     0    2013          Canada      0     0   \n",
       "4983               Anatomia     0    2002           Japan      1     0   \n",
       "4984           Anger As Art     0    2004             USA      0     0   \n",
       "4985                 Angist     0    2009         Iceland      1     0   \n",
       "4986                  Anmod     0    2005          Brazil      0     0   \n",
       "4987      Apokalyptic Raids     0    1997          Brazil      1     0   \n",
       "4988             Apothesary     0    2009             USA      0     0   \n",
       "4989              Apparatus     0    2012         Denmark      1     0   \n",
       "4990         Arctic Spirits     0    2003       Greenland      0     0   \n",
       "4991             Argus (Ro)     0    1996         Romania      1     0   \n",
       "4992                 Arrest     0    1992         Germany      0     0   \n",
       "4993   As I Lay Dying (AUT)     0    1991         Austria      1     0   \n",
       "4994                  Asofy     0    2000           Italy      0     0   \n",
       "4995                  Atara     0    2006          France      1     0   \n",
       "4996             Avicularia     0    2003         Croatia      0     0   \n",
       "4997                  Awake     0    2006  United Kingdom      1     0   \n",
       "4998                 Axatak     0    1983       Australia      1     0   \n",
       "4999        Axis Of Despair     0    2014          Sweden      1     0   \n",
       "\n",
       "      st_Acoustic  st_Acoustic folk  st_Acoustic rock  st_Adult  \\\n",
       "0               0                 0                 0         0   \n",
       "1               0                 0                 0         0   \n",
       "2               0                 0                 0         0   \n",
       "3               0                 0                 0         0   \n",
       "4               0                 0                 0         0   \n",
       "5               0                 0                 0         0   \n",
       "6               0                 0                 0         0   \n",
       "7               0                 0                 0         0   \n",
       "8               0                 0                 0         0   \n",
       "9               0                 0                 0         0   \n",
       "10              0                 0                 0         0   \n",
       "11              0                 0                 0         0   \n",
       "12              0                 0                 0         0   \n",
       "13              0                 0                 0         0   \n",
       "14              0                 0                 0         0   \n",
       "15              0                 0                 0         0   \n",
       "16              0                 0                 0         0   \n",
       "17              0                 0                 0         0   \n",
       "18              0                 0                 0         0   \n",
       "19              0                 0                 0         0   \n",
       "20              0                 0                 0         0   \n",
       "21              0                 0                 0         0   \n",
       "22              0                 0                 0         0   \n",
       "23              0                 0                 0         0   \n",
       "24              0                 0                 0         0   \n",
       "25              0                 0                 0         0   \n",
       "26              0                 0                 0         0   \n",
       "27              0                 0                 0         0   \n",
       "28              0                 0                 0         0   \n",
       "29              0                 0                 0         0   \n",
       "...           ...               ...               ...       ...   \n",
       "4970            0                 0                 0         0   \n",
       "4971            0                 0                 0         0   \n",
       "4972            0                 0                 0         0   \n",
       "4973            0                 0                 0         0   \n",
       "4974            0                 0                 0         0   \n",
       "4975            0                 0                 0         0   \n",
       "4976            0                 0                 0         0   \n",
       "4977            0                 0                 0         0   \n",
       "4978            0                 0                 0         0   \n",
       "4979            0                 0                 0         0   \n",
       "4980            0                 0                 0         0   \n",
       "4981            0                 0                 0         0   \n",
       "4982            0                 0                 0         0   \n",
       "4983            0                 0                 0         0   \n",
       "4984            0                 0                 0         0   \n",
       "4985            0                 0                 0         0   \n",
       "4986            0                 0                 0         0   \n",
       "4987            0                 0                 0         0   \n",
       "4988            0                 0                 0         0   \n",
       "4989            0                 0                 0         0   \n",
       "4990            0                 0                 0         0   \n",
       "4991            0                 0                 0         0   \n",
       "4992            0                 0                 0         0   \n",
       "4993            0                 0                 0         0   \n",
       "4994            0                 0                 0         0   \n",
       "4995            0                 0                 0         0   \n",
       "4996            0                 0                 0         0   \n",
       "4997            0                 0                 0         0   \n",
       "4998            0                 0                 0         0   \n",
       "4999            0                 0                 0         0   \n",
       "\n",
       "           ...        st_Thrash  st_Trancecore  st_Trip-  st_Us heavy  \\\n",
       "0          ...                0              0         0            0   \n",
       "1          ...                0              0         0            0   \n",
       "2          ...                0              0         0            0   \n",
       "3          ...                1              0         0            0   \n",
       "4          ...                0              0         0            0   \n",
       "5          ...                1              0         0            0   \n",
       "6          ...                0              0         0            0   \n",
       "7          ...                0              0         0            0   \n",
       "8          ...                0              0         0            0   \n",
       "9          ...                0              0         0            0   \n",
       "10         ...                0              0         0            0   \n",
       "11         ...                0              0         0            0   \n",
       "12         ...                0              0         0            0   \n",
       "13         ...                0              0         0            0   \n",
       "14         ...                0              0         0            0   \n",
       "15         ...                0              0         0            0   \n",
       "16         ...                0              0         0            0   \n",
       "17         ...                0              0         0            0   \n",
       "18         ...                0              0         0            0   \n",
       "19         ...                0              0         0            0   \n",
       "20         ...                0              0         0            0   \n",
       "21         ...                0              0         0            0   \n",
       "22         ...                0              0         0            0   \n",
       "23         ...                0              0         0            0   \n",
       "24         ...                0              0         0            0   \n",
       "25         ...                0              0         0            0   \n",
       "26         ...                0              0         0            0   \n",
       "27         ...                0              0         0            0   \n",
       "28         ...                0              0         0            0   \n",
       "29         ...                0              0         0            0   \n",
       "...        ...              ...            ...       ...          ...   \n",
       "4970       ...                0              0         0            0   \n",
       "4971       ...                0              0         0            0   \n",
       "4972       ...                0              0         0            0   \n",
       "4973       ...                0              0         0            0   \n",
       "4974       ...                0              0         0            0   \n",
       "4975       ...                0              0         0            0   \n",
       "4976       ...                0              0         0            0   \n",
       "4977       ...                1              0         0            0   \n",
       "4978       ...                1              0         0            0   \n",
       "4979       ...                0              0         0            0   \n",
       "4980       ...                0              0         0            0   \n",
       "4981       ...                0              0         0            0   \n",
       "4982       ...                0              0         0            0   \n",
       "4983       ...                0              0         0            0   \n",
       "4984       ...                1              0         0            0   \n",
       "4985       ...                0              0         0            0   \n",
       "4986       ...                0              0         0            0   \n",
       "4987       ...                0              0         0            0   \n",
       "4988       ...                1              0         0            0   \n",
       "4989       ...                0              0         0            0   \n",
       "4990       ...                0              0         0            0   \n",
       "4991       ...                0              0         0            0   \n",
       "4992       ...                0              0         0            0   \n",
       "4993       ...                0              0         0            0   \n",
       "4994       ...                0              0         0            0   \n",
       "4995       ...                0              0         0            0   \n",
       "4996       ...                0              0         0            0   \n",
       "4997       ...                0              0         0            0   \n",
       "4998       ...                0              0         0            0   \n",
       "4999       ...                0              0         0            0   \n",
       "\n",
       "      st_Us power  st_Viking black  st_Viking folk  st_Wave  st_Wave   \\\n",
       "0               0                0               0        0         0   \n",
       "1               0                0               0        0         0   \n",
       "2               0                0               0        0         0   \n",
       "3               0                0               0        0         0   \n",
       "4               0                0               0        0         0   \n",
       "5               0                0               0        0         0   \n",
       "6               0                0               0        0         0   \n",
       "7               0                0               0        0         0   \n",
       "8               0                0               0        0         0   \n",
       "9               0                0               0        0         0   \n",
       "10              0                0               0        0         0   \n",
       "11              0                0               0        0         0   \n",
       "12              0                0               0        0         0   \n",
       "13              0                0               0        0         0   \n",
       "14              0                0               0        0         0   \n",
       "15              0                0               0        0         0   \n",
       "16              0                0               0        0         0   \n",
       "17              0                0               0        0         0   \n",
       "18              0                0               0        0         0   \n",
       "19              0                0               0        0         0   \n",
       "20              0                0               0        0         0   \n",
       "21              0                0               0        0         0   \n",
       "22              0                0               0        0         0   \n",
       "23              0                0               0        0         0   \n",
       "24              0                0               0        0         0   \n",
       "25              0                0               0        0         0   \n",
       "26              0                0               0        0         0   \n",
       "27              0                0               0        0         0   \n",
       "28              0                0               0        0         0   \n",
       "29              0                0               0        0         0   \n",
       "...           ...              ...             ...      ...       ...   \n",
       "4970            0                0               0        0         0   \n",
       "4971            0                0               0        0         0   \n",
       "4972            0                0               0        0         0   \n",
       "4973            0                0               0        0         0   \n",
       "4974            0                0               0        0         0   \n",
       "4975            0                0               0        0         0   \n",
       "4976            0                0               0        0         0   \n",
       "4977            0                0               0        0         0   \n",
       "4978            0                0               0        0         0   \n",
       "4979            0                0               0        0         0   \n",
       "4980            0                0               0        0         0   \n",
       "4981            0                0               0        0         0   \n",
       "4982            0                0               0        0         0   \n",
       "4983            0                0               0        0         0   \n",
       "4984            0                0               0        0         0   \n",
       "4985            0                0               0        0         0   \n",
       "4986            0                0               0        0         0   \n",
       "4987            0                0               0        0         0   \n",
       "4988            0                0               0        0         0   \n",
       "4989            0                0               0        0         0   \n",
       "4990            0                0               0        0         0   \n",
       "4991            0                0               0        0         0   \n",
       "4992            0                0               0        0         0   \n",
       "4993            0                0               0        0         0   \n",
       "4994            0                0               0        0         0   \n",
       "4995            0                0               0        0         0   \n",
       "4996            0                0               0        0         0   \n",
       "4997            0                0               0        0         0   \n",
       "4998            0                0               0        0         0   \n",
       "4999            0                0               0        0         0   \n",
       "\n",
       "      origin_encoded  \n",
       "0                110  \n",
       "1                 97  \n",
       "2                106  \n",
       "3                106  \n",
       "4                 97  \n",
       "5                106  \n",
       "6                106  \n",
       "7                106  \n",
       "8                110  \n",
       "9                 33  \n",
       "10                33  \n",
       "11               110  \n",
       "12                37  \n",
       "13                97  \n",
       "14               106  \n",
       "15                97  \n",
       "16               106  \n",
       "17                33  \n",
       "18                97  \n",
       "19                97  \n",
       "20                81  \n",
       "21                78  \n",
       "22                37  \n",
       "23                33  \n",
       "24                33  \n",
       "25                33  \n",
       "26               106  \n",
       "27               106  \n",
       "28                37  \n",
       "29               106  \n",
       "...              ...  \n",
       "4970             106  \n",
       "4971              56  \n",
       "4972              26  \n",
       "4973              97  \n",
       "4974              86  \n",
       "4975              25  \n",
       "4976              85  \n",
       "4977             106  \n",
       "4978              90  \n",
       "4979             110  \n",
       "4980               4  \n",
       "4981             110  \n",
       "4982              17  \n",
       "4983              58  \n",
       "4984             106  \n",
       "4985              44  \n",
       "4986              15  \n",
       "4987              15  \n",
       "4988             106  \n",
       "4989              27  \n",
       "4990              41  \n",
       "4991              85  \n",
       "4992              37  \n",
       "4993               6  \n",
       "4994              56  \n",
       "4995              35  \n",
       "4996              24  \n",
       "4997             110  \n",
       "4998               4  \n",
       "4999              97  \n",
       "\n",
       "[5000 rows x 303 columns]"
      ]
     },
     "execution_count": 54,
     "metadata": {},
     "output_type": "execute_result"
    }
   ],
   "source": [
    "data"
   ]
  },
  {
   "cell_type": "markdown",
   "metadata": {},
   "source": [
    "### Дропним название музыкальной группы из-за ненадобности."
   ]
  },
  {
   "cell_type": "code",
   "execution_count": 55,
   "metadata": {
    "collapsed": true
   },
   "outputs": [],
   "source": [
    "data = data.drop('band_name', axis=1)"
   ]
  },
  {
   "cell_type": "markdown",
   "metadata": {},
   "source": [
    "### Дропним страну - так как ввели её код."
   ]
  },
  {
   "cell_type": "code",
   "execution_count": 56,
   "metadata": {
    "collapsed": true
   },
   "outputs": [],
   "source": [
    "data = data.drop('origin', axis=1)"
   ]
  },
  {
   "cell_type": "code",
   "execution_count": 57,
   "metadata": {
    "collapsed": true
   },
   "outputs": [],
   "source": [
    "categorical_columns = [col for col in data.columns if data[col].dtype.name == 'object']\n",
    "numerical_columns   = [col for col in data.columns if data[col].dtype.name != 'object']\n"
   ]
  },
  {
   "cell_type": "code",
   "execution_count": 58,
   "metadata": {},
   "outputs": [
    {
     "data": {
      "text/plain": [
       "0"
      ]
     },
     "execution_count": 58,
     "metadata": {},
     "output_type": "execute_result"
    }
   ],
   "source": [
    "len(categorical_columns)"
   ]
  },
  {
   "cell_type": "code",
   "execution_count": 59,
   "metadata": {},
   "outputs": [
    {
     "data": {
      "text/plain": [
       "301"
      ]
     },
     "execution_count": 59,
     "metadata": {},
     "output_type": "execute_result"
    }
   ],
   "source": [
    "len(numerical_columns)"
   ]
  },
  {
   "cell_type": "markdown",
   "metadata": {},
   "source": [
    "### мы имеем: 5000 - количество данных, 301 - признак"
   ]
  },
  {
   "cell_type": "code",
   "execution_count": 60,
   "metadata": {},
   "outputs": [
    {
     "name": "stdout",
     "output_type": "stream",
     "text": [
      "(5000, 301)\n"
     ]
    }
   ],
   "source": [
    "print(data.shape)"
   ]
  },
  {
   "cell_type": "code",
   "execution_count": 61,
   "metadata": {},
   "outputs": [
    {
     "data": {
      "text/html": [
       "<div>\n",
       "<style>\n",
       "    .dataframe thead tr:only-child th {\n",
       "        text-align: right;\n",
       "    }\n",
       "\n",
       "    .dataframe thead th {\n",
       "        text-align: left;\n",
       "    }\n",
       "\n",
       "    .dataframe tbody tr th {\n",
       "        vertical-align: top;\n",
       "    }\n",
       "</style>\n",
       "<table border=\"1\" class=\"dataframe\">\n",
       "  <thead>\n",
       "    <tr style=\"text-align: right;\">\n",
       "      <th></th>\n",
       "      <th>fans</th>\n",
       "      <th>formed</th>\n",
       "      <th>split</th>\n",
       "      <th>st_A</th>\n",
       "      <th>st_Acoustic</th>\n",
       "      <th>st_Acoustic folk</th>\n",
       "      <th>st_Acoustic rock</th>\n",
       "      <th>st_Adult</th>\n",
       "      <th>st_Aggrotech</th>\n",
       "      <th>st_Alternative</th>\n",
       "      <th>...</th>\n",
       "      <th>st_Thrash</th>\n",
       "      <th>st_Trancecore</th>\n",
       "      <th>st_Trip-</th>\n",
       "      <th>st_Us heavy</th>\n",
       "      <th>st_Us power</th>\n",
       "      <th>st_Viking black</th>\n",
       "      <th>st_Viking folk</th>\n",
       "      <th>st_Wave</th>\n",
       "      <th>st_Wave</th>\n",
       "      <th>origin_encoded</th>\n",
       "    </tr>\n",
       "  </thead>\n",
       "  <tbody>\n",
       "    <tr>\n",
       "      <th>count</th>\n",
       "      <td>5000.000000</td>\n",
       "      <td>5000.00000</td>\n",
       "      <td>5000.00000</td>\n",
       "      <td>5000.000000</td>\n",
       "      <td>5000.000000</td>\n",
       "      <td>5000.000000</td>\n",
       "      <td>5000.000000</td>\n",
       "      <td>5000.000000</td>\n",
       "      <td>5000.000000</td>\n",
       "      <td>5000.000000</td>\n",
       "      <td>...</td>\n",
       "      <td>5000.000000</td>\n",
       "      <td>5000.000000</td>\n",
       "      <td>5000.000000</td>\n",
       "      <td>5000.000000</td>\n",
       "      <td>5000.000000</td>\n",
       "      <td>5000.000000</td>\n",
       "      <td>5000.000000</td>\n",
       "      <td>5000.00000</td>\n",
       "      <td>5000.000000</td>\n",
       "      <td>5000.00000</td>\n",
       "    </tr>\n",
       "    <tr>\n",
       "      <th>mean</th>\n",
       "      <td>87.805800</td>\n",
       "      <td>2000.40920</td>\n",
       "      <td>0.55700</td>\n",
       "      <td>0.000200</td>\n",
       "      <td>0.000200</td>\n",
       "      <td>0.000200</td>\n",
       "      <td>0.000200</td>\n",
       "      <td>0.000200</td>\n",
       "      <td>0.000200</td>\n",
       "      <td>0.020800</td>\n",
       "      <td>...</td>\n",
       "      <td>0.079200</td>\n",
       "      <td>0.000800</td>\n",
       "      <td>0.000400</td>\n",
       "      <td>0.000200</td>\n",
       "      <td>0.008200</td>\n",
       "      <td>0.003600</td>\n",
       "      <td>0.005400</td>\n",
       "      <td>0.00060</td>\n",
       "      <td>0.000200</td>\n",
       "      <td>71.13240</td>\n",
       "    </tr>\n",
       "    <tr>\n",
       "      <th>std</th>\n",
       "      <td>296.137523</td>\n",
       "      <td>8.89159</td>\n",
       "      <td>0.49679</td>\n",
       "      <td>0.014142</td>\n",
       "      <td>0.014142</td>\n",
       "      <td>0.014142</td>\n",
       "      <td>0.014142</td>\n",
       "      <td>0.014142</td>\n",
       "      <td>0.014142</td>\n",
       "      <td>0.142729</td>\n",
       "      <td>...</td>\n",
       "      <td>0.270078</td>\n",
       "      <td>0.028276</td>\n",
       "      <td>0.019998</td>\n",
       "      <td>0.014142</td>\n",
       "      <td>0.090191</td>\n",
       "      <td>0.059898</td>\n",
       "      <td>0.073293</td>\n",
       "      <td>0.02449</td>\n",
       "      <td>0.014142</td>\n",
       "      <td>35.16614</td>\n",
       "    </tr>\n",
       "    <tr>\n",
       "      <th>min</th>\n",
       "      <td>0.000000</td>\n",
       "      <td>1964.00000</td>\n",
       "      <td>0.00000</td>\n",
       "      <td>0.000000</td>\n",
       "      <td>0.000000</td>\n",
       "      <td>0.000000</td>\n",
       "      <td>0.000000</td>\n",
       "      <td>0.000000</td>\n",
       "      <td>0.000000</td>\n",
       "      <td>0.000000</td>\n",
       "      <td>...</td>\n",
       "      <td>0.000000</td>\n",
       "      <td>0.000000</td>\n",
       "      <td>0.000000</td>\n",
       "      <td>0.000000</td>\n",
       "      <td>0.000000</td>\n",
       "      <td>0.000000</td>\n",
       "      <td>0.000000</td>\n",
       "      <td>0.00000</td>\n",
       "      <td>0.000000</td>\n",
       "      <td>0.00000</td>\n",
       "    </tr>\n",
       "    <tr>\n",
       "      <th>25%</th>\n",
       "      <td>4.000000</td>\n",
       "      <td>1995.00000</td>\n",
       "      <td>0.00000</td>\n",
       "      <td>0.000000</td>\n",
       "      <td>0.000000</td>\n",
       "      <td>0.000000</td>\n",
       "      <td>0.000000</td>\n",
       "      <td>0.000000</td>\n",
       "      <td>0.000000</td>\n",
       "      <td>0.000000</td>\n",
       "      <td>...</td>\n",
       "      <td>0.000000</td>\n",
       "      <td>0.000000</td>\n",
       "      <td>0.000000</td>\n",
       "      <td>0.000000</td>\n",
       "      <td>0.000000</td>\n",
       "      <td>0.000000</td>\n",
       "      <td>0.000000</td>\n",
       "      <td>0.00000</td>\n",
       "      <td>0.000000</td>\n",
       "      <td>37.00000</td>\n",
       "    </tr>\n",
       "    <tr>\n",
       "      <th>50%</th>\n",
       "      <td>12.000000</td>\n",
       "      <td>2002.00000</td>\n",
       "      <td>1.00000</td>\n",
       "      <td>0.000000</td>\n",
       "      <td>0.000000</td>\n",
       "      <td>0.000000</td>\n",
       "      <td>0.000000</td>\n",
       "      <td>0.000000</td>\n",
       "      <td>0.000000</td>\n",
       "      <td>0.000000</td>\n",
       "      <td>...</td>\n",
       "      <td>0.000000</td>\n",
       "      <td>0.000000</td>\n",
       "      <td>0.000000</td>\n",
       "      <td>0.000000</td>\n",
       "      <td>0.000000</td>\n",
       "      <td>0.000000</td>\n",
       "      <td>0.000000</td>\n",
       "      <td>0.00000</td>\n",
       "      <td>0.000000</td>\n",
       "      <td>83.00000</td>\n",
       "    </tr>\n",
       "    <tr>\n",
       "      <th>75%</th>\n",
       "      <td>42.000000</td>\n",
       "      <td>2007.00000</td>\n",
       "      <td>1.00000</td>\n",
       "      <td>0.000000</td>\n",
       "      <td>0.000000</td>\n",
       "      <td>0.000000</td>\n",
       "      <td>0.000000</td>\n",
       "      <td>0.000000</td>\n",
       "      <td>0.000000</td>\n",
       "      <td>0.000000</td>\n",
       "      <td>...</td>\n",
       "      <td>0.000000</td>\n",
       "      <td>0.000000</td>\n",
       "      <td>0.000000</td>\n",
       "      <td>0.000000</td>\n",
       "      <td>0.000000</td>\n",
       "      <td>0.000000</td>\n",
       "      <td>0.000000</td>\n",
       "      <td>0.00000</td>\n",
       "      <td>0.000000</td>\n",
       "      <td>106.00000</td>\n",
       "    </tr>\n",
       "    <tr>\n",
       "      <th>max</th>\n",
       "      <td>4195.000000</td>\n",
       "      <td>2016.00000</td>\n",
       "      <td>1.00000</td>\n",
       "      <td>1.000000</td>\n",
       "      <td>1.000000</td>\n",
       "      <td>1.000000</td>\n",
       "      <td>1.000000</td>\n",
       "      <td>1.000000</td>\n",
       "      <td>1.000000</td>\n",
       "      <td>1.000000</td>\n",
       "      <td>...</td>\n",
       "      <td>1.000000</td>\n",
       "      <td>1.000000</td>\n",
       "      <td>1.000000</td>\n",
       "      <td>1.000000</td>\n",
       "      <td>1.000000</td>\n",
       "      <td>1.000000</td>\n",
       "      <td>1.000000</td>\n",
       "      <td>1.00000</td>\n",
       "      <td>1.000000</td>\n",
       "      <td>113.00000</td>\n",
       "    </tr>\n",
       "  </tbody>\n",
       "</table>\n",
       "<p>8 rows × 301 columns</p>\n",
       "</div>"
      ],
      "text/plain": [
       "              fans      formed       split         st_A  st_Acoustic  \\\n",
       "count  5000.000000  5000.00000  5000.00000  5000.000000  5000.000000   \n",
       "mean     87.805800  2000.40920     0.55700     0.000200     0.000200   \n",
       "std     296.137523     8.89159     0.49679     0.014142     0.014142   \n",
       "min       0.000000  1964.00000     0.00000     0.000000     0.000000   \n",
       "25%       4.000000  1995.00000     0.00000     0.000000     0.000000   \n",
       "50%      12.000000  2002.00000     1.00000     0.000000     0.000000   \n",
       "75%      42.000000  2007.00000     1.00000     0.000000     0.000000   \n",
       "max    4195.000000  2016.00000     1.00000     1.000000     1.000000   \n",
       "\n",
       "       st_Acoustic folk  st_Acoustic rock     st_Adult  st_Aggrotech  \\\n",
       "count       5000.000000       5000.000000  5000.000000   5000.000000   \n",
       "mean           0.000200          0.000200     0.000200      0.000200   \n",
       "std            0.014142          0.014142     0.014142      0.014142   \n",
       "min            0.000000          0.000000     0.000000      0.000000   \n",
       "25%            0.000000          0.000000     0.000000      0.000000   \n",
       "50%            0.000000          0.000000     0.000000      0.000000   \n",
       "75%            0.000000          0.000000     0.000000      0.000000   \n",
       "max            1.000000          1.000000     1.000000      1.000000   \n",
       "\n",
       "       st_Alternative       ...          st_Thrash  st_Trancecore  \\\n",
       "count     5000.000000       ...        5000.000000    5000.000000   \n",
       "mean         0.020800       ...           0.079200       0.000800   \n",
       "std          0.142729       ...           0.270078       0.028276   \n",
       "min          0.000000       ...           0.000000       0.000000   \n",
       "25%          0.000000       ...           0.000000       0.000000   \n",
       "50%          0.000000       ...           0.000000       0.000000   \n",
       "75%          0.000000       ...           0.000000       0.000000   \n",
       "max          1.000000       ...           1.000000       1.000000   \n",
       "\n",
       "          st_Trip-  st_Us heavy  st_Us power  st_Viking black  st_Viking folk  \\\n",
       "count  5000.000000  5000.000000  5000.000000      5000.000000     5000.000000   \n",
       "mean      0.000400     0.000200     0.008200         0.003600        0.005400   \n",
       "std       0.019998     0.014142     0.090191         0.059898        0.073293   \n",
       "min       0.000000     0.000000     0.000000         0.000000        0.000000   \n",
       "25%       0.000000     0.000000     0.000000         0.000000        0.000000   \n",
       "50%       0.000000     0.000000     0.000000         0.000000        0.000000   \n",
       "75%       0.000000     0.000000     0.000000         0.000000        0.000000   \n",
       "max       1.000000     1.000000     1.000000         1.000000        1.000000   \n",
       "\n",
       "          st_Wave     st_Wave   origin_encoded  \n",
       "count  5000.00000  5000.000000      5000.00000  \n",
       "mean      0.00060     0.000200        71.13240  \n",
       "std       0.02449     0.014142        35.16614  \n",
       "min       0.00000     0.000000         0.00000  \n",
       "25%       0.00000     0.000000        37.00000  \n",
       "50%       0.00000     0.000000        83.00000  \n",
       "75%       0.00000     0.000000       106.00000  \n",
       "max       1.00000     1.000000       113.00000  \n",
       "\n",
       "[8 rows x 301 columns]"
      ]
     },
     "execution_count": 61,
     "metadata": {},
     "output_type": "execute_result"
    }
   ],
   "source": [
    "data_numerical = data[numerical_columns]\n",
    "data_numerical.describe()"
   ]
  },
  {
   "cell_type": "code",
   "execution_count": 62,
   "metadata": {},
   "outputs": [
    {
     "data": {
      "text/html": [
       "<div>\n",
       "<style>\n",
       "    .dataframe thead tr:only-child th {\n",
       "        text-align: right;\n",
       "    }\n",
       "\n",
       "    .dataframe thead th {\n",
       "        text-align: left;\n",
       "    }\n",
       "\n",
       "    .dataframe tbody tr th {\n",
       "        vertical-align: top;\n",
       "    }\n",
       "</style>\n",
       "<table border=\"1\" class=\"dataframe\">\n",
       "  <thead>\n",
       "    <tr style=\"text-align: right;\">\n",
       "      <th></th>\n",
       "      <th>fans</th>\n",
       "      <th>formed</th>\n",
       "      <th>split</th>\n",
       "      <th>st_A</th>\n",
       "      <th>st_Acoustic</th>\n",
       "      <th>st_Acoustic folk</th>\n",
       "      <th>st_Acoustic rock</th>\n",
       "      <th>st_Adult</th>\n",
       "      <th>st_Aggrotech</th>\n",
       "      <th>st_Alternative</th>\n",
       "      <th>...</th>\n",
       "      <th>st_Thrash</th>\n",
       "      <th>st_Trancecore</th>\n",
       "      <th>st_Trip-</th>\n",
       "      <th>st_Us heavy</th>\n",
       "      <th>st_Us power</th>\n",
       "      <th>st_Viking black</th>\n",
       "      <th>st_Viking folk</th>\n",
       "      <th>st_Wave</th>\n",
       "      <th>st_Wave</th>\n",
       "      <th>origin_encoded</th>\n",
       "    </tr>\n",
       "  </thead>\n",
       "  <tbody>\n",
       "    <tr>\n",
       "      <th>count</th>\n",
       "      <td>5.000000e+03</td>\n",
       "      <td>5.000000e+03</td>\n",
       "      <td>5.000000e+03</td>\n",
       "      <td>5.000000e+03</td>\n",
       "      <td>5.000000e+03</td>\n",
       "      <td>5.000000e+03</td>\n",
       "      <td>5.000000e+03</td>\n",
       "      <td>5.000000e+03</td>\n",
       "      <td>5.000000e+03</td>\n",
       "      <td>5.000000e+03</td>\n",
       "      <td>...</td>\n",
       "      <td>5.000000e+03</td>\n",
       "      <td>5.000000e+03</td>\n",
       "      <td>5.000000e+03</td>\n",
       "      <td>5.000000e+03</td>\n",
       "      <td>5.000000e+03</td>\n",
       "      <td>5.000000e+03</td>\n",
       "      <td>5.000000e+03</td>\n",
       "      <td>5.000000e+03</td>\n",
       "      <td>5.000000e+03</td>\n",
       "      <td>5.000000e+03</td>\n",
       "    </tr>\n",
       "    <tr>\n",
       "      <th>mean</th>\n",
       "      <td>2.606677e-14</td>\n",
       "      <td>-4.842926e-15</td>\n",
       "      <td>-1.468159e-16</td>\n",
       "      <td>1.087245e-15</td>\n",
       "      <td>6.170446e-16</td>\n",
       "      <td>4.062632e-16</td>\n",
       "      <td>7.121706e-16</td>\n",
       "      <td>5.604135e-16</td>\n",
       "      <td>1.216388e-16</td>\n",
       "      <td>8.330114e-16</td>\n",
       "      <td>...</td>\n",
       "      <td>-6.128431e-16</td>\n",
       "      <td>9.290527e-16</td>\n",
       "      <td>-9.074866e-16</td>\n",
       "      <td>8.410841e-17</td>\n",
       "      <td>3.251566e-16</td>\n",
       "      <td>-1.504222e-15</td>\n",
       "      <td>-4.337974e-16</td>\n",
       "      <td>-7.961826e-17</td>\n",
       "      <td>1.209170e-15</td>\n",
       "      <td>-7.326140e-16</td>\n",
       "    </tr>\n",
       "    <tr>\n",
       "      <th>std</th>\n",
       "      <td>1.000000e+00</td>\n",
       "      <td>1.000000e+00</td>\n",
       "      <td>1.000000e+00</td>\n",
       "      <td>1.000000e+00</td>\n",
       "      <td>1.000000e+00</td>\n",
       "      <td>1.000000e+00</td>\n",
       "      <td>1.000000e+00</td>\n",
       "      <td>1.000000e+00</td>\n",
       "      <td>1.000000e+00</td>\n",
       "      <td>1.000000e+00</td>\n",
       "      <td>...</td>\n",
       "      <td>1.000000e+00</td>\n",
       "      <td>1.000000e+00</td>\n",
       "      <td>1.000000e+00</td>\n",
       "      <td>1.000000e+00</td>\n",
       "      <td>1.000000e+00</td>\n",
       "      <td>1.000000e+00</td>\n",
       "      <td>1.000000e+00</td>\n",
       "      <td>1.000000e+00</td>\n",
       "      <td>1.000000e+00</td>\n",
       "      <td>1.000000e+00</td>\n",
       "    </tr>\n",
       "    <tr>\n",
       "      <th>min</th>\n",
       "      <td>-2.965035e-01</td>\n",
       "      <td>-4.094791e+00</td>\n",
       "      <td>-1.121198e+00</td>\n",
       "      <td>-1.414214e-02</td>\n",
       "      <td>-1.414214e-02</td>\n",
       "      <td>-1.414214e-02</td>\n",
       "      <td>-1.414214e-02</td>\n",
       "      <td>-1.414214e-02</td>\n",
       "      <td>-1.414214e-02</td>\n",
       "      <td>-1.457312e-01</td>\n",
       "      <td>...</td>\n",
       "      <td>-2.932490e-01</td>\n",
       "      <td>-2.829276e-02</td>\n",
       "      <td>-2.000200e-02</td>\n",
       "      <td>-1.414214e-02</td>\n",
       "      <td>-9.091833e-02</td>\n",
       "      <td>-6.010228e-02</td>\n",
       "      <td>-7.367654e-02</td>\n",
       "      <td>-2.449980e-02</td>\n",
       "      <td>-1.414214e-02</td>\n",
       "      <td>-2.022753e+00</td>\n",
       "    </tr>\n",
       "    <tr>\n",
       "      <th>25%</th>\n",
       "      <td>-2.829962e-01</td>\n",
       "      <td>-6.083502e-01</td>\n",
       "      <td>-1.121198e+00</td>\n",
       "      <td>-1.414214e-02</td>\n",
       "      <td>-1.414214e-02</td>\n",
       "      <td>-1.414214e-02</td>\n",
       "      <td>-1.414214e-02</td>\n",
       "      <td>-1.414214e-02</td>\n",
       "      <td>-1.414214e-02</td>\n",
       "      <td>-1.457312e-01</td>\n",
       "      <td>...</td>\n",
       "      <td>-2.932490e-01</td>\n",
       "      <td>-2.829276e-02</td>\n",
       "      <td>-2.000200e-02</td>\n",
       "      <td>-1.414214e-02</td>\n",
       "      <td>-9.091833e-02</td>\n",
       "      <td>-6.010228e-02</td>\n",
       "      <td>-7.367654e-02</td>\n",
       "      <td>-2.449980e-02</td>\n",
       "      <td>-1.414214e-02</td>\n",
       "      <td>-9.706041e-01</td>\n",
       "    </tr>\n",
       "    <tr>\n",
       "      <th>50%</th>\n",
       "      <td>-2.559817e-01</td>\n",
       "      <td>1.789106e-01</td>\n",
       "      <td>8.917248e-01</td>\n",
       "      <td>-1.414214e-02</td>\n",
       "      <td>-1.414214e-02</td>\n",
       "      <td>-1.414214e-02</td>\n",
       "      <td>-1.414214e-02</td>\n",
       "      <td>-1.414214e-02</td>\n",
       "      <td>-1.414214e-02</td>\n",
       "      <td>-1.457312e-01</td>\n",
       "      <td>...</td>\n",
       "      <td>-2.932490e-01</td>\n",
       "      <td>-2.829276e-02</td>\n",
       "      <td>-2.000200e-02</td>\n",
       "      <td>-1.414214e-02</td>\n",
       "      <td>-9.091833e-02</td>\n",
       "      <td>-6.010228e-02</td>\n",
       "      <td>-7.367654e-02</td>\n",
       "      <td>-2.449980e-02</td>\n",
       "      <td>-1.414214e-02</td>\n",
       "      <td>3.374724e-01</td>\n",
       "    </tr>\n",
       "    <tr>\n",
       "      <th>75%</th>\n",
       "      <td>-1.546775e-01</td>\n",
       "      <td>7.412398e-01</td>\n",
       "      <td>8.917248e-01</td>\n",
       "      <td>-1.414214e-02</td>\n",
       "      <td>-1.414214e-02</td>\n",
       "      <td>-1.414214e-02</td>\n",
       "      <td>-1.414214e-02</td>\n",
       "      <td>-1.414214e-02</td>\n",
       "      <td>-1.414214e-02</td>\n",
       "      <td>-1.457312e-01</td>\n",
       "      <td>...</td>\n",
       "      <td>-2.932490e-01</td>\n",
       "      <td>-2.829276e-02</td>\n",
       "      <td>-2.000200e-02</td>\n",
       "      <td>-1.414214e-02</td>\n",
       "      <td>-9.091833e-02</td>\n",
       "      <td>-6.010228e-02</td>\n",
       "      <td>-7.367654e-02</td>\n",
       "      <td>-2.449980e-02</td>\n",
       "      <td>-1.414214e-02</td>\n",
       "      <td>9.915106e-01</td>\n",
       "    </tr>\n",
       "    <tr>\n",
       "      <th>max</th>\n",
       "      <td>1.386921e+01</td>\n",
       "      <td>1.753432e+00</td>\n",
       "      <td>8.917248e-01</td>\n",
       "      <td>7.069654e+01</td>\n",
       "      <td>7.069654e+01</td>\n",
       "      <td>7.069654e+01</td>\n",
       "      <td>7.069654e+01</td>\n",
       "      <td>7.069654e+01</td>\n",
       "      <td>7.069654e+01</td>\n",
       "      <td>6.860576e+00</td>\n",
       "      <td>...</td>\n",
       "      <td>3.409390e+00</td>\n",
       "      <td>3.533766e+01</td>\n",
       "      <td>4.998500e+01</td>\n",
       "      <td>7.069654e+01</td>\n",
       "      <td>1.099668e+01</td>\n",
       "      <td>1.663498e+01</td>\n",
       "      <td>1.357013e+01</td>\n",
       "      <td>4.080850e+01</td>\n",
       "      <td>7.069654e+01</td>\n",
       "      <td>1.190566e+00</td>\n",
       "    </tr>\n",
       "  </tbody>\n",
       "</table>\n",
       "<p>8 rows × 301 columns</p>\n",
       "</div>"
      ],
      "text/plain": [
       "               fans        formed         split          st_A   st_Acoustic  \\\n",
       "count  5.000000e+03  5.000000e+03  5.000000e+03  5.000000e+03  5.000000e+03   \n",
       "mean   2.606677e-14 -4.842926e-15 -1.468159e-16  1.087245e-15  6.170446e-16   \n",
       "std    1.000000e+00  1.000000e+00  1.000000e+00  1.000000e+00  1.000000e+00   \n",
       "min   -2.965035e-01 -4.094791e+00 -1.121198e+00 -1.414214e-02 -1.414214e-02   \n",
       "25%   -2.829962e-01 -6.083502e-01 -1.121198e+00 -1.414214e-02 -1.414214e-02   \n",
       "50%   -2.559817e-01  1.789106e-01  8.917248e-01 -1.414214e-02 -1.414214e-02   \n",
       "75%   -1.546775e-01  7.412398e-01  8.917248e-01 -1.414214e-02 -1.414214e-02   \n",
       "max    1.386921e+01  1.753432e+00  8.917248e-01  7.069654e+01  7.069654e+01   \n",
       "\n",
       "       st_Acoustic folk  st_Acoustic rock      st_Adult  st_Aggrotech  \\\n",
       "count      5.000000e+03      5.000000e+03  5.000000e+03  5.000000e+03   \n",
       "mean       4.062632e-16      7.121706e-16  5.604135e-16  1.216388e-16   \n",
       "std        1.000000e+00      1.000000e+00  1.000000e+00  1.000000e+00   \n",
       "min       -1.414214e-02     -1.414214e-02 -1.414214e-02 -1.414214e-02   \n",
       "25%       -1.414214e-02     -1.414214e-02 -1.414214e-02 -1.414214e-02   \n",
       "50%       -1.414214e-02     -1.414214e-02 -1.414214e-02 -1.414214e-02   \n",
       "75%       -1.414214e-02     -1.414214e-02 -1.414214e-02 -1.414214e-02   \n",
       "max        7.069654e+01      7.069654e+01  7.069654e+01  7.069654e+01   \n",
       "\n",
       "       st_Alternative       ...           st_Thrash  st_Trancecore  \\\n",
       "count    5.000000e+03       ...        5.000000e+03   5.000000e+03   \n",
       "mean     8.330114e-16       ...       -6.128431e-16   9.290527e-16   \n",
       "std      1.000000e+00       ...        1.000000e+00   1.000000e+00   \n",
       "min     -1.457312e-01       ...       -2.932490e-01  -2.829276e-02   \n",
       "25%     -1.457312e-01       ...       -2.932490e-01  -2.829276e-02   \n",
       "50%     -1.457312e-01       ...       -2.932490e-01  -2.829276e-02   \n",
       "75%     -1.457312e-01       ...       -2.932490e-01  -2.829276e-02   \n",
       "max      6.860576e+00       ...        3.409390e+00   3.533766e+01   \n",
       "\n",
       "           st_Trip-   st_Us heavy   st_Us power  st_Viking black  \\\n",
       "count  5.000000e+03  5.000000e+03  5.000000e+03     5.000000e+03   \n",
       "mean  -9.074866e-16  8.410841e-17  3.251566e-16    -1.504222e-15   \n",
       "std    1.000000e+00  1.000000e+00  1.000000e+00     1.000000e+00   \n",
       "min   -2.000200e-02 -1.414214e-02 -9.091833e-02    -6.010228e-02   \n",
       "25%   -2.000200e-02 -1.414214e-02 -9.091833e-02    -6.010228e-02   \n",
       "50%   -2.000200e-02 -1.414214e-02 -9.091833e-02    -6.010228e-02   \n",
       "75%   -2.000200e-02 -1.414214e-02 -9.091833e-02    -6.010228e-02   \n",
       "max    4.998500e+01  7.069654e+01  1.099668e+01     1.663498e+01   \n",
       "\n",
       "       st_Viking folk       st_Wave      st_Wave   origin_encoded  \n",
       "count    5.000000e+03  5.000000e+03  5.000000e+03    5.000000e+03  \n",
       "mean    -4.337974e-16 -7.961826e-17  1.209170e-15   -7.326140e-16  \n",
       "std      1.000000e+00  1.000000e+00  1.000000e+00    1.000000e+00  \n",
       "min     -7.367654e-02 -2.449980e-02 -1.414214e-02   -2.022753e+00  \n",
       "25%     -7.367654e-02 -2.449980e-02 -1.414214e-02   -9.706041e-01  \n",
       "50%     -7.367654e-02 -2.449980e-02 -1.414214e-02    3.374724e-01  \n",
       "75%     -7.367654e-02 -2.449980e-02 -1.414214e-02    9.915106e-01  \n",
       "max      1.357013e+01  4.080850e+01  7.069654e+01    1.190566e+00  \n",
       "\n",
       "[8 rows x 301 columns]"
      ]
     },
     "execution_count": 62,
     "metadata": {},
     "output_type": "execute_result"
    }
   ],
   "source": [
    "data_numerical = (data_numerical - data_numerical.mean(axis = 0))/data_numerical.std(axis = 0)\n",
    "data_numerical.describe()"
   ]
  },
  {
   "cell_type": "markdown",
   "metadata": {},
   "source": [
    "# X и Y"
   ]
  },
  {
   "cell_type": "markdown",
   "metadata": {},
   "source": [
    "### Мы будем предсказывать 'split', то есть распалась группа или нет.\n",
    "### Признак 'split' делаем отдельным вектором Y и исключаем из матрицы X."
   ]
  },
  {
   "cell_type": "code",
   "execution_count": 63,
   "metadata": {
    "collapsed": true
   },
   "outputs": [],
   "source": [
    "Y = data['split']\n",
    "X = data.drop(('split'), axis = 1)\n",
    "feature_names = X.columns"
   ]
  },
  {
   "cell_type": "code",
   "execution_count": 64,
   "metadata": {},
   "outputs": [
    {
     "data": {
      "text/plain": [
       "pandas.core.series.Series"
      ]
     },
     "execution_count": 64,
     "metadata": {},
     "output_type": "execute_result"
    }
   ],
   "source": [
    "type(Y)"
   ]
  },
  {
   "cell_type": "code",
   "execution_count": 65,
   "metadata": {},
   "outputs": [
    {
     "data": {
      "text/plain": [
       "pandas.core.indexes.base.Index"
      ]
     },
     "execution_count": 65,
     "metadata": {},
     "output_type": "execute_result"
    }
   ],
   "source": [
    "type(feature_names)"
   ]
  },
  {
   "cell_type": "code",
   "execution_count": 66,
   "metadata": {},
   "outputs": [
    {
     "data": {
      "text/plain": [
       "Index(['fans', 'formed', 'st_A', 'st_Acoustic', 'st_Acoustic folk',\n",
       "       'st_Acoustic rock', 'st_Adult', 'st_Aggrotech', 'st_Alternative',\n",
       "       'st_Alternative rock',\n",
       "       ...\n",
       "       'st_Thrash', 'st_Trancecore', 'st_Trip-', 'st_Us heavy', 'st_Us power',\n",
       "       'st_Viking black', 'st_Viking folk', 'st_Wave', 'st_Wave ',\n",
       "       'origin_encoded'],\n",
       "      dtype='object', length=300)"
      ]
     },
     "execution_count": 66,
     "metadata": {},
     "output_type": "execute_result"
    }
   ],
   "source": [
    "feature_names"
   ]
  },
  {
   "cell_type": "code",
   "execution_count": 67,
   "metadata": {},
   "outputs": [
    {
     "name": "stdout",
     "output_type": "stream",
     "text": [
      "(5000, 300)\n",
      "(5000,)\n"
     ]
    }
   ],
   "source": [
    "print(X.shape)\n",
    "print(Y.shape)"
   ]
  },
  {
   "cell_type": "markdown",
   "metadata": {},
   "source": [
    "### Разделяем наши данные на два независимых множества: тренировачные (70%), Тест (30%)"
   ]
  },
  {
   "cell_type": "code",
   "execution_count": 68,
   "metadata": {},
   "outputs": [
    {
     "name": "stdout",
     "output_type": "stream",
     "text": [
      "3500 1500\n"
     ]
    }
   ],
   "source": [
    "from sklearn.model_selection import train_test_split\n",
    "X_train, X_test, Y_train, Y_test = train_test_split(X, Y, test_size = 0.3, random_state = 1)\n",
    "\n",
    "N_train, _ = X_train.shape \n",
    "N_test,  _ = X_test.shape\n",
    "\n",
    "print(N_train, N_test)"
   ]
  },
  {
   "cell_type": "markdown",
   "metadata": {},
   "source": [
    "# $k$NN\n",
    "### (Метод K-ближайших соседей)\n"
   ]
  },
  {
   "cell_type": "code",
   "execution_count": 69,
   "metadata": {},
   "outputs": [
    {
     "data": {
      "text/plain": [
       "KNeighborsClassifier(algorithm='auto', leaf_size=30, metric='minkowski',\n",
       "           metric_params=None, n_jobs=1, n_neighbors=10, p=2,\n",
       "           weights='uniform')"
      ]
     },
     "execution_count": 69,
     "metadata": {},
     "output_type": "execute_result"
    }
   ],
   "source": [
    "from sklearn.neighbors import KNeighborsClassifier\n",
    "\n",
    "knn = KNeighborsClassifier(n_neighbors = 10)\n",
    "knn.fit(X_train, Y_train.astype('int'))"
   ]
  },
  {
   "cell_type": "code",
   "execution_count": 70,
   "metadata": {},
   "outputs": [
    {
     "data": {
      "text/plain": [
       "KNeighborsClassifier(algorithm='auto', leaf_size=30, metric='minkowski',\n",
       "           metric_params=None, n_jobs=1, n_neighbors=10, p=2,\n",
       "           weights='uniform')"
      ]
     },
     "execution_count": 70,
     "metadata": {},
     "output_type": "execute_result"
    }
   ],
   "source": [
    "knn"
   ]
  },
  {
   "cell_type": "code",
   "execution_count": 71,
   "metadata": {},
   "outputs": [
    {
     "name": "stdout",
     "output_type": "stream",
     "text": [
      "0.373428571429 0.512\n"
     ]
    }
   ],
   "source": [
    "Y_train_predict = knn.predict(X_train)\n",
    "Y_test_predict = knn.predict(X_test)\n",
    "\n",
    "err_train = np.mean(Y_train.astype('int') != Y_train_predict)\n",
    "err_test  = np.mean(Y_test.astype('int')  != Y_test_predict)\n",
    "\n",
    "print(err_train, err_test)"
   ]
  },
  {
   "cell_type": "markdown",
   "metadata": {},
   "source": [
    "### Как видим, kNN на этом наборе данных имеет достаточно большую ошибку"
   ]
  },
  {
   "cell_type": "markdown",
   "metadata": {},
   "source": [
    "### Попробуем по другому"
   ]
  },
  {
   "cell_type": "code",
   "execution_count": 72,
   "metadata": {
    "collapsed": true
   },
   "outputs": [],
   "source": [
    "err_test = 1 - knn.score(X_test, Y_test.astype('int'))"
   ]
  },
  {
   "cell_type": "code",
   "execution_count": 73,
   "metadata": {},
   "outputs": [
    {
     "data": {
      "text/plain": [
       "0.51200000000000001"
      ]
     },
     "execution_count": 73,
     "metadata": {},
     "output_type": "execute_result"
    }
   ],
   "source": [
    "err_test"
   ]
  },
  {
   "cell_type": "code",
   "execution_count": 74,
   "metadata": {},
   "outputs": [
    {
     "name": "stdout",
     "output_type": "stream",
     "text": [
      "[[315 330]\n",
      " [438 417]]\n"
     ]
    }
   ],
   "source": [
    "from sklearn.metrics import confusion_matrix\n",
    "\n",
    "print(confusion_matrix(Y_test.astype('int'), Y_test_predict))"
   ]
  },
  {
   "cell_type": "markdown",
   "metadata": {},
   "source": [
    "### Подбор параметров"
   ]
  },
  {
   "cell_type": "code",
   "execution_count": 75,
   "metadata": {},
   "outputs": [
    {
     "name": "stdout",
     "output_type": "stream",
     "text": [
      "0.463428571429 55\n"
     ]
    }
   ],
   "source": [
    "from sklearn.model_selection import GridSearchCV\n",
    "nnb = [1, 3, 5, 10, 15, 20, 25, 35, 45, 55]\n",
    "knn = KNeighborsClassifier()\n",
    "grid = GridSearchCV(knn, param_grid = {'n_neighbors': nnb}, cv=10)\n",
    "grid.fit(X_train, Y_train.astype('int'))\n",
    "\n",
    "best_cv_err = 1 - grid.best_score_\n",
    "best_n_neighbors = grid.best_estimator_.n_neighbors\n",
    "print(best_cv_err, best_n_neighbors)"
   ]
  },
  {
   "cell_type": "code",
   "execution_count": 76,
   "metadata": {},
   "outputs": [
    {
     "name": "stdout",
     "output_type": "stream",
     "text": [
      "Ошибка на обучающей выборке: 0.427142857143 \n",
      "Ошибка на тестовой выборке: 0.448666666667\n"
     ]
    }
   ],
   "source": [
    "knn = KNeighborsClassifier(n_neighbors = best_n_neighbors).fit(X_train, Y_train.astype('int'))\n",
    "\n",
    "err_train = np.mean(Y_train.astype('int') != knn.predict(X_train))\n",
    "err_test  = np.mean(Y_test.astype('int')  != knn.predict(X_test))\n",
    "\n",
    "print(\"Ошибка на обучающей выборке:\", err_train, \"\\nОшибка на тестовой выборке:\", err_test)"
   ]
  },
  {
   "cell_type": "markdown",
   "metadata": {},
   "source": [
    "### Можно сделать выводы: предсказывание 'split', то есть того что группа распалась или нет, даёт меньшую ошибку из-за большей кореллируемости этого параметра с вектором X признаков.\n",
    "Чем когда предсказывали 'origin_encoded':\n",
    "Ошибка на обучающей выборке: 0.766 , \n",
    "Ошибка на тестовой выборке: 0.775(3) "
   ]
  },
  {
   "cell_type": "markdown",
   "metadata": {},
   "source": [
    "# MLP"
   ]
  },
  {
   "cell_type": "markdown",
   "metadata": {},
   "source": [
    "### Обучаем MLP классификатор."
   ]
  },
  {
   "cell_type": "markdown",
   "metadata": {},
   "source": [
    "#### Будем решать задачу классификации при помощи нейронных сетей"
   ]
  },
  {
   "cell_type": "code",
   "execution_count": 77,
   "metadata": {
    "collapsed": true
   },
   "outputs": [],
   "source": [
    "from sklearn.neural_network import MLPClassifier"
   ]
  },
  {
   "cell_type": "markdown",
   "metadata": {},
   "source": [
    "#### Обучаем нейронную сеть с 1 скрытым слоем со 100 нейронами."
   ]
  },
  {
   "cell_type": "code",
   "execution_count": 78,
   "metadata": {},
   "outputs": [
    {
     "data": {
      "text/plain": [
       "MLPClassifier(activation='logistic', alpha=0.0001, batch_size='auto',\n",
       "       beta_1=0.9, beta_2=0.999, early_stopping=False, epsilon=1e-08,\n",
       "       hidden_layer_sizes=(100, 1), learning_rate='constant',\n",
       "       learning_rate_init=0.001, max_iter=200, momentum=0.9,\n",
       "       nesterovs_momentum=True, power_t=0.5, random_state=30, shuffle=True,\n",
       "       solver='lbfgs', tol=0.0001, validation_fraction=0.1, verbose=False,\n",
       "       warm_start=False)"
      ]
     },
     "execution_count": 78,
     "metadata": {},
     "output_type": "execute_result"
    }
   ],
   "source": [
    "mlp_model = MLPClassifier(hidden_layer_sizes = (100, 1), solver = 'lbfgs', \n",
    "                          activation = 'logistic', random_state = 30)\n",
    "mlp_model.fit(X_train, Y_train)"
   ]
  },
  {
   "cell_type": "code",
   "execution_count": 79,
   "metadata": {
    "scrolled": true
   },
   "outputs": [
    {
     "name": "stdout",
     "output_type": "stream",
     "text": [
      "Для модели с 1-м скрытым слоем: \n",
      "\n",
      "Ошибка на обучающей выборке =  0.448571428571\n",
      "\n",
      "Ошибка на тестовой выборке  =  0.441333333333\n"
     ]
    }
   ],
   "source": [
    "y_train_pred = mlp_model.predict(X_train)\n",
    "y_test_pred = mlp_model.predict(X_test)\n",
    "\n",
    "print(\"Для модели с 1-м скрытым слоем: \\n\")\n",
    "print(\"Ошибка на обучающей выборке = \",np.mean(Y_train != y_train_pred))\n",
    "print(\"\\nОшибка на тестовой выборке  = \", np.mean(Y_test != y_test_pred))"
   ]
  },
  {
   "cell_type": "markdown",
   "metadata": {},
   "source": [
    "#### Найдем оптимальное количество нейронов для сети с 1 слоем:"
   ]
  },
  {
   "cell_type": "code",
   "execution_count": 80,
   "metadata": {
    "collapsed": true
   },
   "outputs": [],
   "source": [
    "array_neurons = (1, 2, 3, 5, 15, 30, 50, 100)\n",
    "test_err = []\n",
    "train_err = []\n",
    "for neuron in array_neurons:\n",
    "    mlp_model = MLPClassifier( hidden_layer_sizes = (neuron), \n",
    "                              solver = 'lbfgs', activation = 'logistic', random_state = 30)\n",
    "    mlp_model.fit(X_train, Y_train)\n",
    "\n",
    "    y_train_pred = mlp_model.predict(X_train)\n",
    "    y_test_pred = mlp_model.predict(X_test)\n",
    "    train_err.append(np.mean(Y_train != y_train_pred))\n",
    "    test_err.append(np.mean(Y_test != y_test_pred))"
   ]
  },
  {
   "cell_type": "code",
   "execution_count": 81,
   "metadata": {},
   "outputs": [
    {
     "data": {
      "image/png": "[encoded data removed]",
      "text/plain": [
       "<matplotlib.figure.Figure at 0x54a437eb70>"
      ]
     },
     "metadata": {},
     "output_type": "display_data"
    }
   ],
   "source": [
    "plt.semilogx(array_neurons, test_err, 'b-o', label = 'Test')\n",
    "plt.semilogx(array_neurons, train_err, 'r-o', label = 'Train')\n",
    "plt.xlim([np.min(array_neurons), np.max(array_neurons)])\n",
    "plt.title('Error vs the number of neurons')\n",
    "plt.xlabel('The number of neurons')\n",
    "plt.ylabel('Error')\n",
    "plt.legend()\n",
    "pass"
   ]
  },
  {
   "cell_type": "markdown",
   "metadata": {},
   "source": [
    "####  Обучаем нейронную сеть с 2 скрытыми слоями, в-первом со 100 нейронами и 5 нейронов во-втором скрытом слое."
   ]
  },
  {
   "cell_type": "code",
   "execution_count": 82,
   "metadata": {
    "scrolled": true
   },
   "outputs": [
    {
     "data": {
      "text/plain": [
       "MLPClassifier(activation='logistic', alpha=0.0001, batch_size='auto',\n",
       "       beta_1=0.9, beta_2=0.999, early_stopping=False, epsilon=1e-08,\n",
       "       hidden_layer_sizes=(100, 5), learning_rate='constant',\n",
       "       learning_rate_init=0.001, max_iter=200, momentum=0.9,\n",
       "       nesterovs_momentum=True, power_t=0.5, random_state=30, shuffle=True,\n",
       "       solver='lbfgs', tol=0.0001, validation_fraction=0.1, verbose=False,\n",
       "       warm_start=False)"
      ]
     },
     "execution_count": 82,
     "metadata": {},
     "output_type": "execute_result"
    }
   ],
   "source": [
    "mlp_model = MLPClassifier(hidden_layer_sizes = (100, 5), solver = 'lbfgs', \n",
    "                          activation = 'logistic', random_state = 30)\n",
    "mlp_model.fit(X_train, Y_train)"
   ]
  },
  {
   "cell_type": "code",
   "execution_count": 83,
   "metadata": {
    "scrolled": true
   },
   "outputs": [
    {
     "name": "stdout",
     "output_type": "stream",
     "text": [
      "Для модели с 2-я скрытыми слоями: \n",
      "\n",
      "Ошибка на обучающей выборке =  0.447142857143\n",
      "\n",
      "Ошибка на тестовой выборке  =  0.431333333333\n"
     ]
    }
   ],
   "source": [
    "y_train_pred = mlp_model.predict(X_train)\n",
    "y_test_pred = mlp_model.predict(X_test)\n",
    "\n",
    "print(\"Для модели с 2-я скрытыми слоями: \\n\")\n",
    "print(\"Ошибка на обучающей выборке = \",np.mean(Y_train != y_train_pred))\n",
    "print(\"\\nОшибка на тестовой выборке  = \", np.mean(Y_test != y_test_pred))"
   ]
  },
  {
   "cell_type": "markdown",
   "metadata": {},
   "source": [
    "#### Найдем оптимальное количество нейронов для  сети с 2 слоями :"
   ]
  },
  {
   "cell_type": "code",
   "execution_count": 84,
   "metadata": {
    "collapsed": true
   },
   "outputs": [],
   "source": [
    "array_neurons = (1, 2, 3, 5, 15, 30, 50, 100)\n",
    "test_err = []\n",
    "train_err = []\n",
    "for neuron in array_neurons:\n",
    "    mlp_model = MLPClassifier( hidden_layer_sizes = (neuron), \n",
    "                              solver = 'lbfgs', activation = 'logistic', random_state = 30)\n",
    "    mlp_model.fit(X_train, Y_train)\n",
    "\n",
    "    y_train_pred = mlp_model.predict(X_train)\n",
    "    y_test_pred = mlp_model.predict(X_test)\n",
    "    train_err.append(np.mean(Y_train != y_train_pred))\n",
    "    test_err.append(np.mean(Y_test != y_test_pred))"
   ]
  },
  {
   "cell_type": "code",
   "execution_count": 85,
   "metadata": {},
   "outputs": [
    {
     "data": {
      "image/png": "[encoded data removed]",
      "text/plain": [
       "<matplotlib.figure.Figure at 0x54a01aef98>"
      ]
     },
     "metadata": {},
     "output_type": "display_data"
    }
   ],
   "source": [
    "plt.semilogx(array_neurons, test_err, 'b-o', label = 'Test')\n",
    "plt.semilogx(array_neurons, train_err, 'r-o', label = 'Train')\n",
    "plt.xlim([np.min(array_neurons), np.max(array_neurons)])\n",
    "plt.title('Error vs the number of neurons')\n",
    "plt.xlabel('The number of neurons')\n",
    "plt.ylabel('Error')\n",
    "plt.legend()\n",
    "pass"
   ]
  },
  {
   "cell_type": "markdown",
   "metadata": {},
   "source": [
    "#### При использовании нейронной сети с 2умя скрытыми слоями значение ошибки уменьшилось. В дальнейшем будем использовать нейронную сеть с 2умя скрытыми слоями."
   ]
  },
  {
   "cell_type": "markdown",
   "metadata": {},
   "source": [
    "#### В обоих 2 случаях наблюдается небольшое недообучение.\n"
   ]
  },
  {
   "cell_type": "markdown",
   "metadata": {},
   "source": [
    "# Подбор гиперпараметров\n",
    "#### Подберем оптимальное значение параметра регуляризации alpha"
   ]
  },
  {
   "cell_type": "code",
   "execution_count": 86,
   "metadata": {
    "collapsed": true
   },
   "outputs": [],
   "source": [
    "array_alpha = np.logspace(-2, 3, 10)\n",
    "test_err = []\n",
    "train_err = []\n",
    "for alpha in array_alpha:\n",
    "    mlp_model = MLPClassifier(alpha = alpha, hidden_layer_sizes = (100,5), \n",
    "                              solver = 'lbfgs', activation = 'logistic', random_state = 30)\n",
    "    mlp_model.fit(X_train, Y_train)\n",
    "\n",
    "    y_train_pred = mlp_model.predict(X_train)\n",
    "    y_test_pred = mlp_model.predict(X_test)\n",
    "    train_err.append(np.mean(Y_train != y_train_pred))\n",
    "    test_err.append(np.mean(Y_test != y_test_pred))"
   ]
  },
  {
   "cell_type": "code",
   "execution_count": 87,
   "metadata": {},
   "outputs": [
    {
     "data": {
      "image/png": "[encoded data removed]",
      "text/plain": [
       "<matplotlib.figure.Figure at 0x549c76cd68>"
      ]
     },
     "metadata": {},
     "output_type": "display_data"
    }
   ],
   "source": [
    "plt.semilogx(array_alpha, train_err, 'b-o', label = 'Test')\n",
    "plt.semilogx(array_alpha,  test_err,  'r-o', label = 'Train')\n",
    "plt.xlim([np.max(array_alpha), np.min(array_alpha)])\n",
    "plt.title('Error vs Alpha')\n",
    "plt.xlabel('Alpha')\n",
    "plt.ylabel('Error')\n",
    "plt.legend()\n",
    "pass"
   ]
  },
  {
   "cell_type": "markdown",
   "metadata": {},
   "source": [
    "#### Минимальное значение ошибки для тестовой и тренеровочной выборки:"
   ]
  },
  {
   "cell_type": "code",
   "execution_count": 88,
   "metadata": {},
   "outputs": [
    {
     "name": "stdout",
     "output_type": "stream",
     "text": [
      "Ошибка на обучающей выборке =  0.445142857143\n",
      "\n",
      "Ошибка на тестовой выборке  =  0.43\n"
     ]
    }
   ],
   "source": [
    "min_train_err = np.min(train_err)\n",
    "min_test_err = np.min(test_err)\n",
    "\n",
    "print(\"Ошибка на обучающей выборке = \", min_train_err)\n",
    "print(\"\\nОшибка на тестовой выборке  = \", min_test_err)"
   ]
  },
  {
   "cell_type": "markdown",
   "metadata": {},
   "source": [
    "#### Оптимальное значение для Alpha:"
   ]
  },
  {
   "cell_type": "code",
   "execution_count": 89,
   "metadata": {},
   "outputs": [
    {
     "name": "stdout",
     "output_type": "stream",
     "text": [
      "0.01\n"
     ]
    }
   ],
   "source": [
    "alpha_opt = array_alpha[test_err == min_test_err]\n",
    "alpha_opt = alpha_opt[0]\n",
    "print(alpha_opt)"
   ]
  },
  {
   "cell_type": "markdown",
   "metadata": {},
   "source": [
    "#### Классификатор при найденном оптимальном значении Alpha"
   ]
  },
  {
   "cell_type": "code",
   "execution_count": 90,
   "metadata": {},
   "outputs": [
    {
     "name": "stdout",
     "output_type": "stream",
     "text": [
      "Для модели с 2-я скрытыми слоями: \n",
      "\n",
      "Ошибка на обучающей выборке =  0.448571428571\n",
      "\n",
      "Ошибка на тестовой выборке  =  0.43\n"
     ]
    }
   ],
   "source": [
    "mlp_model = MLPClassifier(alpha = alpha_opt, hidden_layer_sizes = (100,5),\n",
    "                          solver = 'lbfgs', activation = 'logistic', random_state = 30)\n",
    "mlp_model.fit(X_train, Y_train)\n",
    "\n",
    "y_train_pred = mlp_model.predict(X_train)\n",
    "y_test_pred = mlp_model.predict(X_test)\n",
    "print(\"Для модели с 2-я скрытыми слоями: \\n\")\n",
    "print(\"Ошибка на обучающей выборке = \",np.mean(Y_train != y_train_pred))\n",
    "print(\"\\nОшибка на тестовой выборке  = \", np.mean(Y_test != y_test_pred))\n"
   ]
  },
  {
   "cell_type": "markdown",
   "metadata": {},
   "source": [
    "#### Матрица рассогласования:"
   ]
  },
  {
   "cell_type": "code",
   "execution_count": 91,
   "metadata": {},
   "outputs": [
    {
     "name": "stdout",
     "output_type": "stream",
     "text": [
      "Матрица рассогласования: \n",
      "[[  0   0]\n",
      " [645 855]]\n"
     ]
    }
   ],
   "source": [
    "from sklearn.metrics import confusion_matrix\n",
    "print(\"Матрица рассогласования: \")\n",
    "print(confusion_matrix(y_test_pred, Y_test))\n"
   ]
  },
  {
   "cell_type": "code",
   "execution_count": 92,
   "metadata": {
    "scrolled": false
   },
   "outputs": [
    {
     "data": {
      "image/png": "[encoded data removed]",
      "text/plain": [
       "<matplotlib.figure.Figure at 0x54a7222400>"
      ]
     },
     "metadata": {},
     "output_type": "display_data"
    }
   ],
   "source": [
    "M = confusion_matrix(y_test_pred, Y_test)\n",
    "M = np.sqrt(M)\n",
    "#plt.figure(figsize = (5, 5))\n",
    "plt.imshow(M, interpolation = 'nearest')\n",
    "plt.set_cmap('binary')\n",
    "plt.xticks(range(10))\n",
    "plt.yticks(range(10))\n",
    "plt.xlabel(\"true label\")\n",
    "plt.ylabel(\"predicted label\")\n",
    "plt.colorbar()\n",
    "pass"
   ]
  },
  {
   "cell_type": "markdown",
   "metadata": {
    "collapsed": true
   },
   "source": [
    "# Random forests"
   ]
  },
  {
   "cell_type": "markdown",
   "metadata": {},
   "source": [
    "#### Будем предсказывать 'split', то есть распалась группа или нет."
   ]
  },
  {
   "cell_type": "markdown",
   "metadata": {},
   "source": [
    "Разобъем данные на тестовую и обучающую выборки"
   ]
  },
  {
   "cell_type": "code",
   "execution_count": 119,
   "metadata": {
    "collapsed": true
   },
   "outputs": [],
   "source": [
    "X_train, X_test, Y_train, Y_test = train_test_split(X, Y, test_size = 0.33, random_state = 0)"
   ]
  },
  {
   "cell_type": "markdown",
   "metadata": {},
   "source": [
    "Проведем обучение Random forest классификатора с параметром n_estimators = 60 (кол-во построенных деревьев)"
   ]
  },
  {
   "cell_type": "code",
   "execution_count": 120,
   "metadata": {
    "scrolled": true
   },
   "outputs": [
    {
     "data": {
      "text/plain": [
       "RandomForestClassifier(bootstrap=True, class_weight=None, criterion='gini',\n",
       "            max_depth=None, max_features='auto', max_leaf_nodes=None,\n",
       "            min_impurity_split=1e-07, min_samples_leaf=1,\n",
       "            min_samples_split=2, min_weight_fraction_leaf=0.0,\n",
       "            n_estimators=60, n_jobs=1, oob_score=False, random_state=None,\n",
       "            verbose=0, warm_start=False)"
      ]
     },
     "execution_count": 120,
     "metadata": {},
     "output_type": "execute_result"
    }
   ],
   "source": [
    "from sklearn import ensemble\n",
    "randomForest = ensemble.RandomForestClassifier(n_estimators = 60)\n",
    "randomForest.fit(X_train, Y_train)"
   ]
  },
  {
   "cell_type": "code",
   "execution_count": 121,
   "metadata": {},
   "outputs": [
    {
     "name": "stdout",
     "output_type": "stream",
     "text": [
      "Ошибка на обучающей выборке =  0.00149253731343\n",
      "\n",
      "Ошибка на тестовой выборке  =  0.47696969697\n"
     ]
    }
   ],
   "source": [
    "train_err = np.mean(Y_train != randomForest.predict(X_train))\n",
    "test_err  = np.mean(Y_test  != randomForest.predict(X_test))\n",
    "\n",
    "print(\"Ошибка на обучающей выборке = \",train_err)\n",
    "print(\"\\nОшибка на тестовой выборке  = \", test_err)"
   ]
  },
  {
   "cell_type": "markdown",
   "metadata": {},
   "source": [
    "Наблюдаем переобучение, т.к. ошибка на тестовой выборке выше, чем на обучающей"
   ]
  },
  {
   "cell_type": "markdown",
   "metadata": {},
   "source": [
    "Построим график зависимости ошибки (на обучающей и тестовой выборке, oob-ошибки) от количества используемых деревьев"
   ]
  },
  {
   "cell_type": "code",
   "execution_count": 122,
   "metadata": {
    "collapsed": true
   },
   "outputs": [],
   "source": [
    "num_of_trees = (25,30,40,60,70,80,90,100,130,150,180,200)\n",
    "test_err = []\n",
    "train_err = []\n",
    "oob_err = []\n",
    "for trees in num_of_trees:\n",
    "    RF = ensemble.RandomForestClassifier(n_estimators = trees, oob_score=True)\n",
    "    RF.fit(X_train, Y_train)\n",
    "    train_err.append(np.mean(Y_train != RF.predict(X_train)))\n",
    "    test_err.append(np.mean(Y_test  != RF.predict(X_test)))\n",
    "    oob_err.append(1 - RF.oob_score_)"
   ]
  },
  {
   "cell_type": "code",
   "execution_count": 123,
   "metadata": {},
   "outputs": [
    {
     "data": {
      "image/png": "[encoded data removed]",
      "text/plain": [
       "<matplotlib.figure.Figure at 0x54a5bb05f8>"
      ]
     },
     "metadata": {},
     "output_type": "display_data"
    }
   ],
   "source": [
    "plt.semilogx(num_of_trees, test_err,  'b-o', label = 'test')\n",
    "plt.semilogx(num_of_trees, train_err, 'r-o', label = 'train')\n",
    "plt.semilogx(num_of_trees, oob_err,   'y-o', label = 'oob')\n",
    "plt.xlim([np.min(num_of_trees), np.max(num_of_trees)])\n",
    "plt.title('Error vs Count of tree')\n",
    "plt.xlabel('Count of tree')\n",
    "plt.ylabel('Error')\n",
    "plt.legend()\n",
    "pass"
   ]
  },
  {
   "cell_type": "markdown",
   "metadata": {},
   "source": [
    "####  Наблюдаем переобучение, т.к. ошибка на тестовой выборке выше, чем на обучающей. При 30 деревьев ошибка на тестовой выборке минимальна(судя по графику)"
   ]
  },
  {
   "cell_type": "markdown",
   "metadata": {},
   "source": [
    "#### Минимальное значение ошибки:"
   ]
  },
  {
   "cell_type": "code",
   "execution_count": 124,
   "metadata": {},
   "outputs": [
    {
     "name": "stdout",
     "output_type": "stream",
     "text": [
      "Минимальная ошибка на обучающей выборке =  0.00149253731343\n",
      "\n",
      "Минимальная ошибка на тестовой выборке  =  0.467878787879\n"
     ]
    }
   ],
   "source": [
    "min_train_err = np.min(train_err)\n",
    "min_test_err = np.min(test_err)\n",
    "print(\"Минимальная ошибка на обучающей выборке = \",min_train_err)\n",
    "print(\"\\nМинимальная ошибка на тестовой выборке  = \", min_test_err)"
   ]
  },
  {
   "cell_type": "markdown",
   "metadata": {},
   "source": [
    "# Extremely Randomized Trees"
   ]
  },
  {
   "cell_type": "markdown",
   "metadata": {},
   "source": [
    "Разобъем данные на тестовую и обучающую выборки"
   ]
  },
  {
   "cell_type": "code",
   "execution_count": 125,
   "metadata": {
    "collapsed": true
   },
   "outputs": [],
   "source": [
    "X_train, X_test, Y_train, Y_test = train_test_split(X, Y, test_size = 0.33, random_state = 0)"
   ]
  },
  {
   "cell_type": "markdown",
   "metadata": {},
   "source": [
    "Проведем обучение ExtraTrees классификатора с параметром n_estimators = 60 (кол-во построенных деревьев)"
   ]
  },
  {
   "cell_type": "code",
   "execution_count": 126,
   "metadata": {},
   "outputs": [
    {
     "data": {
      "text/plain": [
       "ExtraTreesClassifier(bootstrap=False, class_weight=None, criterion='gini',\n",
       "           max_depth=None, max_features='auto', max_leaf_nodes=None,\n",
       "           min_impurity_split=1e-07, min_samples_leaf=1,\n",
       "           min_samples_split=2, min_weight_fraction_leaf=0.0,\n",
       "           n_estimators=60, n_jobs=1, oob_score=False, random_state=None,\n",
       "           verbose=0, warm_start=False)"
      ]
     },
     "execution_count": 126,
     "metadata": {},
     "output_type": "execute_result"
    }
   ],
   "source": [
    "extraTrees = ensemble.ExtraTreesClassifier(n_estimators = 60)\n",
    "extraTrees.fit(X_train, Y_train)"
   ]
  },
  {
   "cell_type": "code",
   "execution_count": 127,
   "metadata": {},
   "outputs": [
    {
     "name": "stdout",
     "output_type": "stream",
     "text": [
      "Ошибка на обучающей выборке =  0.00149253731343\n",
      "\n",
      "Ошибка на тестовой выборке  =  0.481212121212\n"
     ]
    }
   ],
   "source": [
    "train_err = np.mean(Y_train != extraTrees.predict(X_train))\n",
    "test_err  = np.mean(Y_test  != extraTrees.predict(X_test))\n",
    "\n",
    "print(\"Ошибка на обучающей выборке = \",train_err)\n",
    "print(\"\\nОшибка на тестовой выборке  = \", test_err)"
   ]
  },
  {
   "cell_type": "markdown",
   "metadata": {},
   "source": [
    "Наблюдаем переобучение, т.к. ошибка на тестовой выборке выше, чем на обучающей"
   ]
  },
  {
   "cell_type": "markdown",
   "metadata": {},
   "source": [
    "Построим график зависимости ошибки (на обучающей и тестовой выборке, oob-ошибки) от количества используемых деревьев"
   ]
  },
  {
   "cell_type": "code",
   "execution_count": 128,
   "metadata": {
    "collapsed": true
   },
   "outputs": [],
   "source": [
    "num_of_trees = (25,30,40,60,70,80,90,100,130,150,180,200)\n",
    "test_err = []\n",
    "train_err = []\n",
    "oob_err = []\n",
    "for tree in num_of_trees:\n",
    "    ExtraTrees = ensemble.ExtraTreesClassifier(tree, bootstrap = True, oob_score = True)\n",
    "    ExtraTrees.fit(X_train, Y_train)\n",
    "\n",
    "    y_train_pred = ExtraTrees.predict(X_train)\n",
    "    y_test_pred = ExtraTrees.predict(X_test)\n",
    "    oob_err.append(1 - ExtraTrees.oob_score_) \n",
    "    train_err.append(np.mean(Y_train != y_train_pred))\n",
    "    test_err.append(np.mean(Y_test != y_test_pred))"
   ]
  },
  {
   "cell_type": "code",
   "execution_count": 129,
   "metadata": {
    "scrolled": true
   },
   "outputs": [
    {
     "data": {
      "image/png": "[encoded data removed]",
      "text/plain": [
       "<matplotlib.figure.Figure at 0x54a7318a20>"
      ]
     },
     "metadata": {},
     "output_type": "display_data"
    }
   ],
   "source": [
    "plt.semilogx(num_of_trees, test_err,  'b-o', label = 'test')\n",
    "plt.semilogx(num_of_trees, train_err, 'r-o', label = 'train')\n",
    "plt.semilogx(num_of_trees, oob_err,   'y-o', label = 'oob')\n",
    "plt.xlim([np.min(num_of_trees), np.max(num_of_trees)])\n",
    "plt.title('Error vs Count of tree')\n",
    "plt.xlabel('Count of tree')\n",
    "plt.ylabel('Error')\n",
    "plt.legend()\n",
    "pass"
   ]
  },
  {
   "cell_type": "markdown",
   "metadata": {},
   "source": [
    "Наблюдаем переобучение, т.к. ошибка на тестовой выборке выше, чем на обучающей. При 90 деревьев ошибка на тестовой выборке минимальна(судя по графику)"
   ]
  },
  {
   "cell_type": "markdown",
   "metadata": {},
   "source": [
    "#### Минимальное значение ошибки:"
   ]
  },
  {
   "cell_type": "code",
   "execution_count": 130,
   "metadata": {
    "scrolled": true
   },
   "outputs": [
    {
     "name": "stdout",
     "output_type": "stream",
     "text": [
      "Минимальная ошибка на обучающей выборке =  0.00149253731343\n",
      "\n",
      "Минимальная ошибка на тестовой выборке  =  0.464848484848\n"
     ]
    }
   ],
   "source": [
    "min_train_err = np.min(train_err)\n",
    "min_test_err = np.min(test_err)\n",
    "print(\"Минимальная ошибка на обучающей выборке = \",min_train_err)\n",
    "print(\"\\nМинимальная ошибка на тестовой выборке  = \", min_test_err)"
   ]
  },
  {
   "cell_type": "markdown",
   "metadata": {},
   "source": [
    "# AdaBoost\n"
   ]
  },
  {
   "cell_type": "markdown",
   "metadata": {},
   "source": [
    "Разобъем данные на тестовую и обучающую выборки"
   ]
  },
  {
   "cell_type": "code",
   "execution_count": 131,
   "metadata": {
    "collapsed": true
   },
   "outputs": [],
   "source": [
    "X_train, X_test, Y_train, Y_test = train_test_split(X, Y, test_size = 0.5, random_state = 8)"
   ]
  },
  {
   "cell_type": "markdown",
   "metadata": {},
   "source": [
    "#### Проведем обучение AdaBoost классификатора с параметром n_estimators = 60 (кол-во построенных деревьев)"
   ]
  },
  {
   "cell_type": "code",
   "execution_count": 132,
   "metadata": {},
   "outputs": [
    {
     "data": {
      "text/plain": [
       "AdaBoostClassifier(algorithm='SAMME.R', base_estimator=None,\n",
       "          learning_rate=1.0, n_estimators=60, random_state=None)"
      ]
     },
     "execution_count": 132,
     "metadata": {},
     "output_type": "execute_result"
    }
   ],
   "source": [
    "adaBoost = ensemble.AdaBoostClassifier(n_estimators = 60)\n",
    "adaBoost.fit(X_train, Y_train)"
   ]
  },
  {
   "cell_type": "code",
   "execution_count": 133,
   "metadata": {},
   "outputs": [
    {
     "name": "stdout",
     "output_type": "stream",
     "text": [
      "Ошибка на обучающей выборке =  0.3912\n",
      "\n",
      "Ошибка на тестовой выборке  =  0.4672\n"
     ]
    }
   ],
   "source": [
    "train_err = np.mean(Y_train != adaBoost.predict(X_train))\n",
    "test_err = np.mean(Y_test != adaBoost.predict(X_test))\n",
    "\n",
    "print(\"Ошибка на обучающей выборке = \",train_err)\n",
    "print(\"\\nОшибка на тестовой выборке  = \", test_err)"
   ]
  },
  {
   "cell_type": "markdown",
   "metadata": {},
   "source": [
    "Наблюдаем переобучение, т.к. ошибка на тестовой выборке выше, чем на обучающей"
   ]
  },
  {
   "cell_type": "markdown",
   "metadata": {},
   "source": [
    "Построим график зависимости ошибки на обучающей и тестовой выборке от количества используемых деревьев."
   ]
  },
  {
   "cell_type": "code",
   "execution_count": 134,
   "metadata": {
    "collapsed": true,
    "scrolled": true
   },
   "outputs": [],
   "source": [
    "num_of_trees = (25,30,40,60,70,80,90,100,130,150,180,200)\n",
    "test_err = []\n",
    "train_err = []\n",
    "oob_err = []\n",
    "for tree in num_of_trees:\n",
    "    AdaBoost = ensemble.AdaBoostClassifier(n_estimators = tree)\n",
    "    AdaBoost.fit(X_train, Y_train)\n",
    "\n",
    "    y_train_pred = AdaBoost.predict(X_train)\n",
    "    y_test_pred = AdaBoost.predict(X_test) \n",
    "    train_err.append(np.mean(Y_train != y_train_pred))\n",
    "    test_err.append(np.mean(Y_test != y_test_pred))"
   ]
  },
  {
   "cell_type": "code",
   "execution_count": 135,
   "metadata": {
    "scrolled": true
   },
   "outputs": [
    {
     "data": {
      "image/png": "[encoded data removed]",
      "text/plain": [
       "<matplotlib.figure.Figure at 0x54a5c60ef0>"
      ]
     },
     "metadata": {},
     "output_type": "display_data"
    }
   ],
   "source": [
    "plt.semilogx(num_of_trees, test_err,  'b-o', label = 'test')\n",
    "plt.semilogx(num_of_trees, train_err, 'r-o', label = 'train')\n",
    "plt.xlim([np.min(num_of_trees), np.max(num_of_trees)])\n",
    "plt.title('Error vs Count of tree')\n",
    "plt.xlabel('Count of tree')\n",
    "plt.ylabel('Error')\n",
    "plt.legend()\n",
    "pass"
   ]
  },
  {
   "cell_type": "markdown",
   "metadata": {},
   "source": [
    "Наблюдаем переобучение, т.к. ошибка на тестовой выборке выше, чем на обучающей. При этом при увеличении количества используемых деревьев ошибка на тренировочной выборке в целом уменьшается, а ошибка для тестовой в целом увеличивается."
   ]
  },
  {
   "cell_type": "markdown",
   "metadata": {},
   "source": [
    "#### Минимальное значение ошибки:"
   ]
  },
  {
   "cell_type": "code",
   "execution_count": 136,
   "metadata": {
    "scrolled": true
   },
   "outputs": [
    {
     "name": "stdout",
     "output_type": "stream",
     "text": [
      "Минимальная ошибка на обучающей выборке =  0.3592\n",
      "\n",
      "Минимальная ошибка на тестовой выборке  =  0.4516\n"
     ]
    }
   ],
   "source": [
    "min_train_err = np.min(train_err)\n",
    "min_test_err = np.min(test_err)\n",
    "print(\"Минимальная ошибка на обучающей выборке = \",min_train_err)\n",
    "print(\"\\nМинимальная ошибка на тестовой выборке  = \", min_test_err)"
   ]
  },
  {
   "cell_type": "markdown",
   "metadata": {},
   "source": [
    "# Gradient boosted trees"
   ]
  },
  {
   "cell_type": "markdown",
   "metadata": {},
   "source": [
    "Разобъем данные на тестовую и обучающую выборки"
   ]
  },
  {
   "cell_type": "code",
   "execution_count": 139,
   "metadata": {
    "collapsed": true
   },
   "outputs": [],
   "source": [
    "X_train, X_test, Y_train, Y_test = train_test_split(X, Y, test_size = 0.5, random_state = 8)"
   ]
  },
  {
   "cell_type": "markdown",
   "metadata": {},
   "source": [
    "Проведем обучение Gradient boosted trees классификатора с параметром n_estimators = 60 (кол-во построенных деревьев)"
   ]
  },
  {
   "cell_type": "code",
   "execution_count": 140,
   "metadata": {},
   "outputs": [
    {
     "data": {
      "text/plain": [
       "GradientBoostingClassifier(criterion='friedman_mse', init=None,\n",
       "              learning_rate=0.1, loss='deviance', max_depth=3,\n",
       "              max_features=None, max_leaf_nodes=None,\n",
       "              min_impurity_split=1e-07, min_samples_leaf=1,\n",
       "              min_samples_split=2, min_weight_fraction_leaf=0.0,\n",
       "              n_estimators=60, presort='auto', random_state=None,\n",
       "              subsample=1.0, verbose=0, warm_start=False)"
      ]
     },
     "execution_count": 140,
     "metadata": {},
     "output_type": "execute_result"
    }
   ],
   "source": [
    "gradientBoosting = ensemble.GradientBoostingClassifier(n_estimators = 60)\n",
    "gradientBoosting.fit(X_train, Y_train)"
   ]
  },
  {
   "cell_type": "code",
   "execution_count": 141,
   "metadata": {
    "scrolled": true
   },
   "outputs": [
    {
     "name": "stdout",
     "output_type": "stream",
     "text": [
      "Ошибка на обучающей выборке =  0.3848\n",
      "\n",
      "Ошибка на тестовой выборке  =  0.4492\n"
     ]
    }
   ],
   "source": [
    "train_err = np.mean(Y_train != gradientBoosting.predict(X_train))\n",
    "test_err = np.mean(Y_test != gradientBoosting.predict(X_test))\n",
    "\n",
    "print(\"Ошибка на обучающей выборке = \",train_err)\n",
    "print(\"\\nОшибка на тестовой выборке  = \", test_err)"
   ]
  },
  {
   "cell_type": "markdown",
   "metadata": {},
   "source": [
    "Наблюдаем переобучение, т.к. ошибка на тестовой выборке выше, чем на обучающей"
   ]
  },
  {
   "cell_type": "markdown",
   "metadata": {},
   "source": [
    "Построим график зависимости ошибки на обучающей и тестовой выборке от количества используемых деревьев."
   ]
  },
  {
   "cell_type": "code",
   "execution_count": 142,
   "metadata": {
    "collapsed": true
   },
   "outputs": [],
   "source": [
    "num_of_trees = (25,30,40,60,70,80,90,100,130,150,180,200)\n",
    "test_err = []\n",
    "train_err = []\n",
    "oob_err = []\n",
    "for tree in num_of_trees:\n",
    "    gradientBoosting = ensemble.GradientBoostingClassifier(n_estimators = tree)\n",
    "    gradientBoosting.fit(X_train, Y_train)\n",
    "\n",
    "    y_train_pred = gradientBoosting.predict(X_train)\n",
    "    y_test_pred = gradientBoosting.predict(X_test)\n",
    "    train_err.append(np.mean(Y_train != y_train_pred))\n",
    "    test_err.append(np.mean(Y_test != y_test_pred))"
   ]
  },
  {
   "cell_type": "code",
   "execution_count": 143,
   "metadata": {
    "scrolled": true
   },
   "outputs": [
    {
     "data": {
      "image/png": "[encoded data removed]",
      "text/plain": [
       "<matplotlib.figure.Figure at 0x54a5e88f60>"
      ]
     },
     "metadata": {},
     "output_type": "display_data"
    }
   ],
   "source": [
    "plt.semilogx(num_of_trees, test_err,  'b-o', label = 'test')\n",
    "plt.semilogx(num_of_trees, train_err, 'r-o', label = 'train')\n",
    "plt.xlim([np.min(num_of_trees), np.max(num_of_trees)])\n",
    "plt.title('Error vs Count of tree')\n",
    "plt.xlabel('Count of tree')\n",
    "plt.ylabel('Error')\n",
    "plt.legend()\n",
    "pass"
   ]
  },
  {
   "cell_type": "markdown",
   "metadata": {},
   "source": [
    "Наблюдаем переобучение, т.к. ошибка на тестовой выборке выше, чем на обучающей. При этом при увеличении количества используемых деревьев ошибка на тренировочной выборке в целом уменьшается, а ошибка для тестовой в целом увеличивается."
   ]
  },
  {
   "cell_type": "markdown",
   "metadata": {},
   "source": [
    "#### Минимальное значение ошибки:"
   ]
  },
  {
   "cell_type": "code",
   "execution_count": 144,
   "metadata": {
    "scrolled": true
   },
   "outputs": [
    {
     "name": "stdout",
     "output_type": "stream",
     "text": [
      "Минимальная ошибка на обучающей выборке =  0.3408\n",
      "\n",
      "Минимальная ошибка на тестовой выборке  =  0.4468\n"
     ]
    }
   ],
   "source": [
    "min_train_err = np.min(train_err)\n",
    "min_test_err = np.min(test_err)\n",
    "print(\"Минимальная ошибка на обучающей выборке = \",min_train_err)\n",
    "print(\"\\nМинимальная ошибка на тестовой выборке  = \", min_test_err)"
   ]
  },
  {
   "cell_type": "code",
   "execution_count": null,
   "metadata": {
    "collapsed": true
   },
   "outputs": [],
   "source": []
  }
 ],
 "metadata": {
  "kernelspec": {
   "display_name": "Python 3",
   "language": "python",
   "name": "python3"
  },
  "language_info": {
   "codemirror_mode": {
    "name": "ipython",
    "version": 3
   },
   "file_extension": ".py",
   "mimetype": "text/x-python",
   "name": "python",
   "nbconvert_exporter": "python",
   "pygments_lexer": "ipython3",
   "version": "3.6.1"
  }
 },
 "nbformat": 4,
 "nbformat_minor": 2
}
